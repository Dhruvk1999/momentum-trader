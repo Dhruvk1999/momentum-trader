{
 "cells": [
  {
   "cell_type": "code",
   "execution_count": 4,
   "id": "1e1e1d40",
   "metadata": {},
   "outputs": [
    {
     "name": "stderr",
     "output_type": "stream",
     "text": [
      "C:\\ProgramData\\Anaconda3\\lib\\site-packages\\numpy\\_distributor_init.py:32: UserWarning: loaded more than 1 DLL from .libs:\n",
      "C:\\ProgramData\\Anaconda3\\lib\\site-packages\\numpy\\.libs\\libopenblas.JPIJNSWNNAN3CE6LLI5FWSPHUT2VXMTH.gfortran-win_amd64.dll\n",
      "C:\\ProgramData\\Anaconda3\\lib\\site-packages\\numpy\\.libs\\libopenblas.PYQHXLVVQ7VESDPUVUADXEVJOBGHJPAY.gfortran-win_amd64.dll\n",
      "  stacklevel=1)\n"
     ]
    }
   ],
   "source": [
    "import nsepy\n",
    "from nsepy import get_history\n",
    "import pandas as pd\n",
    "import numpy as np\n",
    "from datetime import date\n",
    "from nsepy import symbols\n",
    "from indicators import *\n",
    "import sys\n",
    "\n",
    "#loading the data from the pre-existing csv file\n",
    "df=pd.read_csv(\"data500.csv\")\n",
    "symbols=pd.DataFrame(symbols.get_index_constituents_list(\"nifty500\"))\n",
    "symbols=symbols['Symbol'].values.tolist()"
   ]
  },
  {
   "cell_type": "code",
   "execution_count": 6,
   "id": "41ad4325",
   "metadata": {},
   "outputs": [
    {
     "name": "stdout",
     "output_type": "stream",
     "text": [
      "2022-02-03\n",
      "0.0 %  5.0 %  10.0 %  15.0 %  20.0 %  25.0 %  30.0 %  35.0 %  40.0 %  45.0 %  50.0 %  55.0 %  60.0 %  65.0 %  70.0 %  75.0 %  80.0 %  85.0 %  90.0 %  95.0 %  "
     ]
    }
   ],
   "source": [
    "#fetching the data\n",
    "#change the start date on every use\n",
    "#to-do implement something that checks the last date in the database so I\n",
    "#won't have to every change the date\n",
    "print(date.today())\n",
    "\n",
    "for symbol,i in zip(symbols,range(500)):\n",
    " \n",
    "    if i%25==0:\n",
    "        print(f\"{i/5} % \",end=\" \")\n",
    "    temp=get_history(symbol,start=date(2022,2,2),end=date.today())\n",
    "    \n",
    "    df=pd.concat([df,temp])\n",
    "    \n",
    "    "
   ]
  },
  {
   "cell_type": "code",
   "execution_count": null,
   "id": "incoming-clear",
   "metadata": {},
   "outputs": [],
   "source": [
    "IMPORT "
   ]
  },
  {
   "cell_type": "code",
   "execution_count": 7,
   "id": "0da3d487",
   "metadata": {
    "scrolled": true
   },
   "outputs": [
    {
     "ename": "NameError",
     "evalue": "name 'sys' is not defined",
     "output_type": "error",
     "traceback": [
      "\u001b[1;31m---------------------------------------------------------------------------\u001b[0m",
      "\u001b[1;31mNameError\u001b[0m                                 Traceback (most recent call last)",
      "\u001b[1;32m<ipython-input-7-b9824f36fe85>\u001b[0m in \u001b[0;36m<module>\u001b[1;34m\u001b[0m\n\u001b[0;32m      1\u001b[0m \u001b[1;31m#saving the data for later use\u001b[0m\u001b[1;33m\u001b[0m\u001b[1;33m\u001b[0m\u001b[1;33m\u001b[0m\u001b[0m\n\u001b[0;32m      2\u001b[0m \u001b[0mdf\u001b[0m\u001b[1;33m.\u001b[0m\u001b[0mto_csv\u001b[0m\u001b[1;33m(\u001b[0m\u001b[1;34m\"data500.csv\"\u001b[0m\u001b[1;33m,\u001b[0m\u001b[0mindex\u001b[0m\u001b[1;33m=\u001b[0m\u001b[1;32mFalse\u001b[0m\u001b[1;33m)\u001b[0m\u001b[1;33m\u001b[0m\u001b[1;33m\u001b[0m\u001b[0m\n\u001b[1;32m----> 3\u001b[1;33m \u001b[0msys\u001b[0m\u001b[1;33m.\u001b[0m\u001b[0mgetsizeof\u001b[0m\u001b[1;33m(\u001b[0m\u001b[0mdf\u001b[0m\u001b[1;33m)\u001b[0m\u001b[1;33m/\u001b[0m\u001b[1;36m1000000\u001b[0m\u001b[1;33m\u001b[0m\u001b[1;33m\u001b[0m\u001b[0m\n\u001b[0m",
      "\u001b[1;31mNameError\u001b[0m: name 'sys' is not defined"
     ]
    }
   ],
   "source": [
    "#saving the data for later use\n",
    "df.to_csv(\"data500.csv\",index=False)\n",
    "sys.getsizeof(df)/1000000"
   ]
  },
  {
   "cell_type": "code",
   "execution_count": 6,
   "id": "fb961ad5",
   "metadata": {},
   "outputs": [],
   "source": [
    "df_grouped=df.groupby(\"Symbol\")"
   ]
  },
  {
   "cell_type": "code",
   "execution_count": 8,
   "id": "d87bcc77",
   "metadata": {},
   "outputs": [
    {
     "name": "stderr",
     "output_type": "stream",
     "text": [
      "C:\\ProgramData\\Anaconda3\\lib\\site-packages\\ipykernel_launcher.py:27: SettingWithCopyWarning: \n",
      "A value is trying to be set on a copy of a slice from a DataFrame.\n",
      "Try using .loc[row_indexer,col_indexer] = value instead\n",
      "\n",
      "See the caveats in the documentation: https://pandas.pydata.org/pandas-docs/stable/user_guide/indexing.html#returning-a-view-versus-a-copy\n"
     ]
    },
    {
     "data": {
      "text/plain": [
       "64.52237338338244"
      ]
     },
     "execution_count": 8,
     "metadata": {},
     "output_type": "execute_result"
    }
   ],
   "source": [
    "temp=df_grouped.get_group(\"SBIN\")\n",
    "temp=rsi(temp,4)\n",
    "current_rsi=list(temp.rsi)[-1]\n",
    "current_rsi"
   ]
  },
  {
   "cell_type": "code",
   "execution_count": 12,
   "id": "01e30515",
   "metadata": {},
   "outputs": [
    {
     "name": "stderr",
     "output_type": "stream",
     "text": [
      "C:\\ProgramData\\Anaconda3\\lib\\site-packages\\ipykernel_launcher.py:27: SettingWithCopyWarning: \n",
      "A value is trying to be set on a copy of a slice from a DataFrame.\n",
      "Try using .loc[row_indexer,col_indexer] = value instead\n",
      "\n",
      "See the caveats in the documentation: https://pandas.pydata.org/pandas-docs/stable/user_guide/indexing.html#returning-a-view-versus-a-copy\n",
      "C:\\ProgramData\\Anaconda3\\lib\\site-packages\\ipykernel_launcher.py:31: SettingWithCopyWarning: \n",
      "A value is trying to be set on a copy of a slice from a DataFrame.\n",
      "Try using .loc[row_indexer,col_indexer] = value instead\n",
      "\n",
      "See the caveats in the documentation: https://pandas.pydata.org/pandas-docs/stable/user_guide/indexing.html#returning-a-view-versus-a-copy\n"
     ]
    },
    {
     "name": "stdout",
     "output_type": "stream",
     "text": [
      "ASTRAZEN\n",
      "BLUESTARCO\n",
      "BBTC\n",
      "DHANI\n",
      "DIXON\n",
      "GLAXO\n",
      "IFBIND\n",
      "JUBLPHARMA\n",
      "KANSAINER\n",
      "LUXIND\n",
      "MAHLOG\n",
      "QUESS\n",
      "SHILPAMED\n",
      "TORNTPHARM\n",
      "UTIAMC\n",
      "VAIBHAVGBL\n",
      "WOCKPHARMA\n"
     ]
    }
   ],
   "source": [
    "for i in symbols:\n",
    "    try:\n",
    "        temp=df_grouped.get_group(i)\n",
    "        temp=rsi(temp,4)\n",
    "        temp=sma(temp,200)\n",
    "        current_average=list(temp.sma200)[-1]\n",
    "        current_price=list(temp.Close)[-1]\n",
    "        current_rsi=list(temp.rsi)[-1]\n",
    "    except:\n",
    "        pass\n",
    "        #print(f\"cannot fetch {i}\")\n",
    "\n",
    "    if current_rsi<20 and current_price<current_average:\n",
    "        print(i)\n",
    "        \n",
    "    "
   ]
  },
  {
   "cell_type": "code",
   "execution_count": null,
   "id": "87ecda98",
   "metadata": {},
   "outputs": [],
   "source": []
  }
 ],
 "metadata": {
  "kernelspec": {
   "display_name": "Python 3",
   "language": "python",
   "name": "python3"
  },
  "language_info": {
   "codemirror_mode": {
    "name": "ipython",
    "version": 3
   },
   "file_extension": ".py",
   "mimetype": "text/x-python",
   "name": "python",
   "nbconvert_exporter": "python",
   "pygments_lexer": "ipython3",
   "version": "3.7.1"
  }
 },
 "nbformat": 4,
 "nbformat_minor": 5
}
