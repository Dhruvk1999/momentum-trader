{
 "cells": [
  {
   "cell_type": "markdown",
   "id": "ac565af9",
   "metadata": {},
   "source": [
    "# Documentation\n",
    "\n",
    "Basically the knowledge base for everything in the implemented and to be implemented.\n",
    "\n",
    "## Trend Following \n",
    "\n",
    "\n",
    "Trend following is an investment or trading strategy which tries to take advantage of long, medium or short-term moves that seem to play out in various markets. According to this strategy, one should buy an asset when its price trend goes up, and sell when its trend goes down, expecting price movements to continue1. One of the first rules of trend following is that price is the main concern. Traders may use other indicators, but price is the primary consideration. Another decisive factor of trend following is not the timing of the trade or the indicator, but rather the decision of how much to trade over the course of the trend1.\n",
    "\n",
    "The strategy in the below code takes in moving average of 10 days(fast signal) and MA of 50 days(slow signal), so whenever fast signal is greater than the slow signal you buy and vice versa."
   ]
  },
  {
   "cell_type": "code",
   "execution_count": 117,
   "id": "ce640d3c",
   "metadata": {},
   "outputs": [],
   "source": [
    "import warnings\n",
    "\n",
    "warnings.filterwarnings('ignore')"
   ]
  },
  {
   "cell_type": "code",
   "execution_count": 118,
   "id": "f36fad7c",
   "metadata": {},
   "outputs": [
    {
     "name": "stdout",
     "output_type": "stream",
     "text": [
      "[*********************100%***********************]  1 of 1 completed\n"
     ]
    },
    {
     "data": {
      "text/plain": [
       "<AxesSubplot:xlabel='Date'>"
      ]
     },
     "execution_count": 118,
     "metadata": {},
     "output_type": "execute_result"
    },
    {
     "data": {
      "image/png": "[encoded data removed]",
      "text/plain": [
       "<Figure size 432x288 with 1 Axes>"
      ]
     },
     "metadata": {
      "needs_background": "light"
     },
     "output_type": "display_data"
    }
   ],
   "source": [
    "import numpy as np \n",
    "import pandas as pd\n",
    "import yfinance as yf\n",
    "import matplotlib.pyplot as plt\n",
    "\n",
    "data=df = yf.download(tickers='BPCL.NS', start=\"2022-01-02\", end=\"2023-1-1\")\n",
    "\n",
    "# getting the means\n",
    "\n",
    "data[\"MA-10\"]=data.Close.rolling(10).mean()\n",
    "data[\"MA-30\"]=data.Close.rolling(30).mean()\n",
    "\n",
    "#this will drop the rows corresponding the number of days in the slow signal\n",
    "data=data.dropna()\n",
    "\n",
    "#testing the strategy\n",
    "conditions = [data['MA-10'] > data['MA-30'], \n",
    "              data['MA-10'] < data['MA-30']]\n",
    "\n",
    "#define choices\n",
    "choices = [1, 0]\n",
    "\n",
    "#create new column in DataFrame that displays results of comparisons\n",
    "data['Position']= np.select(conditions, choices)\n",
    "data.head()\n",
    "\n",
    "data['Close_Next'] = data['Close'].shift(-1)\n",
    "data['Profit'] = [data.loc[i, 'Close_Next'] - data.loc[i, 'Close'] if data.loc[i, 'Position']==1 else 0 for i in data.index]\n",
    "data['Profit'].plot()\n",
    "plt.axhline(y=0, color='red')\n",
    "\n",
    "data['Cum_Profit'] = data['Profit'].cumsum()\n",
    "data['Cum_Profit'].plot()"
   ]
  },
  {
   "cell_type": "markdown",
   "id": "e55e5a7d",
   "metadata": {},
   "source": [
    "# Mean Reversion \n",
    "\n",
    "The Mean Reversion strategy assumes that the price of a stock will eventually revert to their long-term average levels. Similar to the behavior of a rubber band, stretch too far out and it will snap back. The strategy operates under the principle that when the price is at a local extreme, it is more likely to revert to a long-term average than continue in the same direction\n",
    "\n",
    "## Choosing the stock \n",
    "\n",
    "A key charactersitci of the mean res=version strategy is that it profits mostly in sideways markets and loses in treding markets and loses in treding markets. Try ***finding stocks that have been trading in a range-boudn environemnt***. This will take into account 2 main conditions: \n",
    "* Strong Horizontal S&R: support and resistance. Essentialy this indicated that the stock displays a strong sideways trend. \n",
    "* Volatility: Since this represents how large the prices swing around the mean, high volatility could maximise our returns on correct trades.\n",
    "\n",
    "### Key Indicators \n",
    "* ***Bollinger Bands:*** plotting a SD deviation above and beolow a sinmple moving average of the price. Thses 2 can used as parameners and the comincation may be adjusted accordingly/ Serach frothe values that work. Used value in the example are 20 day SMA and 2 SD.\n",
    "* ***RSI:*** measures the magnitude of recent price changes and evaluates if a stock has been overbought or oversold. The average gain or loss used in the calculation is the average percentage gain or loss during a look-back period.\n",
    "\n"
   ]
  },
  {
   "cell_type": "code",
   "execution_count": 119,
   "id": "86bb3b81",
   "metadata": {},
   "outputs": [
    {
     "name": "stdout",
     "output_type": "stream",
     "text": [
      "Defaulting to user installation because normal site-packages is not writeable\n",
      "Requirement already satisfied: plotly in /home/dhruv/.local/lib/python3.10/site-packages (5.13.1)\n",
      "Requirement already satisfied: tenacity>=6.2.0 in /home/dhruv/.local/lib/python3.10/site-packages (from plotly) (8.2.2)\n"
     ]
    }
   ],
   "source": [
    "!pip install plotly\n"
   ]
  },
  {
   "cell_type": "code",
   "execution_count": 121,
   "id": "288ade29",
   "metadata": {},
   "outputs": [
    {
     "data": {
      "application/vnd.plotly.v1+json": {
       "config": {
        "plotlyServerURL": "https://plot.ly"
       },
       "data": [
        {
         "name": "Close",
         "type": "scatter",
         "x": [
          "2022-02-14T00:00:00",
          "2022-02-15T00:00:00",
          "2022-02-16T00:00:00",
          "2022-02-17T00:00:00",
          "2022-02-18T00:00:00",
          "2022-02-21T00:00:00",
          "2022-02-22T00:00:00",
          "2022-02-23T00:00:00",
          "2022-02-24T00:00:00",
          "2022-02-25T00:00:00",
          "2022-02-28T00:00:00",
          "2022-03-02T00:00:00",
          "2022-03-03T00:00:00",
          "2022-03-04T00:00:00",
          "2022-03-07T00:00:00",
          "2022-03-08T00:00:00",
          "2022-03-09T00:00:00",
          "2022-03-10T00:00:00",
          "2022-03-11T00:00:00",
          "2022-03-14T00:00:00",
          "2022-03-15T00:00:00",
          "2022-03-16T00:00:00",
          "2022-03-17T00:00:00",
          "2022-03-21T00:00:00",
          "2022-03-22T00:00:00",
          "2022-03-23T00:00:00",
          "2022-03-24T00:00:00",
          "2022-03-25T00:00:00",
          "2022-03-28T00:00:00",
          "2022-03-29T00:00:00",
          "2022-03-30T00:00:00",
          "2022-03-31T00:00:00",
          "2022-04-01T00:00:00",
          "2022-04-04T00:00:00",
          "2022-04-05T00:00:00",
          "2022-04-06T00:00:00",
          "2022-04-07T00:00:00",
          "2022-04-08T00:00:00",
          "2022-04-11T00:00:00",
          "2022-04-12T00:00:00",
          "2022-04-13T00:00:00",
          "2022-04-18T00:00:00",
          "2022-04-19T00:00:00",
          "2022-04-20T00:00:00",
          "2022-04-21T00:00:00",
          "2022-04-22T00:00:00",
          "2022-04-25T00:00:00",
          "2022-04-26T00:00:00",
          "2022-04-27T00:00:00",
          "2022-04-28T00:00:00",
          "2022-04-29T00:00:00",
          "2022-05-02T00:00:00",
          "2022-05-04T00:00:00",
          "2022-05-05T00:00:00",
          "2022-05-06T00:00:00",
          "2022-05-09T00:00:00",
          "2022-05-10T00:00:00",
          "2022-05-11T00:00:00",
          "2022-05-12T00:00:00",
          "2022-05-13T00:00:00",
          "2022-05-16T00:00:00",
          "2022-05-17T00:00:00",
          "2022-05-18T00:00:00",
          "2022-05-19T00:00:00",
          "2022-05-20T00:00:00",
          "2022-05-23T00:00:00",
          "2022-05-24T00:00:00",
          "2022-05-25T00:00:00",
          "2022-05-26T00:00:00",
          "2022-05-27T00:00:00",
          "2022-05-30T00:00:00",
          "2022-05-31T00:00:00",
          "2022-06-01T00:00:00",
          "2022-06-02T00:00:00",
          "2022-06-03T00:00:00",
          "2022-06-06T00:00:00",
          "2022-06-07T00:00:00",
          "2022-06-08T00:00:00",
          "2022-06-09T00:00:00",
          "2022-06-10T00:00:00",
          "2022-06-13T00:00:00",
          "2022-06-14T00:00:00",
          "2022-06-15T00:00:00",
          "2022-06-16T00:00:00",
          "2022-06-17T00:00:00",
          "2022-06-20T00:00:00",
          "2022-06-21T00:00:00",
          "2022-06-22T00:00:00",
          "2022-06-23T00:00:00",
          "2022-06-24T00:00:00",
          "2022-06-27T00:00:00",
          "2022-06-28T00:00:00",
          "2022-06-29T00:00:00",
          "2022-06-30T00:00:00",
          "2022-07-01T00:00:00",
          "2022-07-04T00:00:00",
          "2022-07-05T00:00:00",
          "2022-07-06T00:00:00",
          "2022-07-07T00:00:00",
          "2022-07-08T00:00:00",
          "2022-07-11T00:00:00",
          "2022-07-12T00:00:00",
          "2022-07-13T00:00:00",
          "2022-07-14T00:00:00",
          "2022-07-15T00:00:00",
          "2022-07-18T00:00:00",
          "2022-07-19T00:00:00",
          "2022-07-20T00:00:00",
          "2022-07-21T00:00:00",
          "2022-07-22T00:00:00",
          "2022-07-25T00:00:00",
          "2022-07-26T00:00:00",
          "2022-07-27T00:00:00",
          "2022-07-28T00:00:00",
          "2022-07-29T00:00:00",
          "2022-08-01T00:00:00",
          "2022-08-02T00:00:00",
          "2022-08-03T00:00:00",
          "2022-08-04T00:00:00",
          "2022-08-05T00:00:00",
          "2022-08-08T00:00:00",
          "2022-08-10T00:00:00",
          "2022-08-11T00:00:00",
          "2022-08-12T00:00:00",
          "2022-08-16T00:00:00",
          "2022-08-17T00:00:00",
          "2022-08-18T00:00:00",
          "2022-08-19T00:00:00",
          "2022-08-22T00:00:00",
          "2022-08-23T00:00:00",
          "2022-08-24T00:00:00",
          "2022-08-25T00:00:00",
          "2022-08-26T00:00:00",
          "2022-08-29T00:00:00",
          "2022-08-30T00:00:00",
          "2022-09-01T00:00:00",
          "2022-09-02T00:00:00",
          "2022-09-05T00:00:00",
          "2022-09-06T00:00:00",
          "2022-09-07T00:00:00",
          "2022-09-08T00:00:00",
          "2022-09-09T00:00:00",
          "2022-09-12T00:00:00",
          "2022-09-13T00:00:00",
          "2022-09-14T00:00:00",
          "2022-09-15T00:00:00",
          "2022-09-16T00:00:00",
          "2022-09-19T00:00:00",
          "2022-09-20T00:00:00",
          "2022-09-21T00:00:00",
          "2022-09-22T00:00:00",
          "2022-09-23T00:00:00",
          "2022-09-26T00:00:00",
          "2022-09-27T00:00:00",
          "2022-09-28T00:00:00",
          "2022-09-29T00:00:00",
          "2022-09-30T00:00:00",
          "2022-10-03T00:00:00",
          "2022-10-04T00:00:00",
          "2022-10-06T00:00:00",
          "2022-10-07T00:00:00",
          "2022-10-10T00:00:00",
          "2022-10-11T00:00:00",
          "2022-10-12T00:00:00",
          "2022-10-13T00:00:00",
          "2022-10-14T00:00:00",
          "2022-10-17T00:00:00",
          "2022-10-18T00:00:00",
          "2022-10-19T00:00:00",
          "2022-10-20T00:00:00",
          "2022-10-21T00:00:00",
          "2022-10-24T00:00:00",
          "2022-10-25T00:00:00",
          "2022-10-27T00:00:00",
          "2022-10-28T00:00:00",
          "2022-10-31T00:00:00",
          "2022-11-01T00:00:00",
          "2022-11-02T00:00:00",
          "2022-11-03T00:00:00",
          "2022-11-04T00:00:00",
          "2022-11-07T00:00:00",
          "2022-11-09T00:00:00",
          "2022-11-10T00:00:00",
          "2022-11-11T00:00:00",
          "2022-11-14T00:00:00",
          "2022-11-15T00:00:00",
          "2022-11-16T00:00:00",
          "2022-11-17T00:00:00",
          "2022-11-18T00:00:00",
          "2022-11-21T00:00:00",
          "2022-11-22T00:00:00",
          "2022-11-23T00:00:00",
          "2022-11-24T00:00:00",
          "2022-11-25T00:00:00",
          "2022-11-28T00:00:00",
          "2022-11-29T00:00:00",
          "2022-11-30T00:00:00",
          "2022-12-01T00:00:00",
          "2022-12-02T00:00:00",
          "2022-12-05T00:00:00",
          "2022-12-06T00:00:00",
          "2022-12-07T00:00:00",
          "2022-12-08T00:00:00",
          "2022-12-09T00:00:00",
          "2022-12-12T00:00:00",
          "2022-12-13T00:00:00",
          "2022-12-14T00:00:00",
          "2022-12-15T00:00:00",
          "2022-12-16T00:00:00",
          "2022-12-19T00:00:00",
          "2022-12-20T00:00:00",
          "2022-12-21T00:00:00",
          "2022-12-22T00:00:00",
          "2022-12-23T00:00:00",
          "2022-12-26T00:00:00",
          "2022-12-27T00:00:00",
          "2022-12-28T00:00:00",
          "2022-12-29T00:00:00",
          "2022-12-30T00:00:00"
         ],
         "y": [
          361.70001220703125,
          368.8999938964844,
          374.1000061035156,
          373,
          373.1499938964844,
          368.75,
          355.29998779296875,
          357.1000061035156,
          333.04998779296875,
          336.3500061035156,
          349.79998779296875,
          342.1000061035156,
          346.3999938964844,
          348.3500061035156,
          338,
          341.6000061035156,
          342.6499938964844,
          349,
          362,
          359.6499938964844,
          350.29998779296875,
          356.29998779296875,
          364.20001220703125,
          357.20001220703125,
          368.3999938964844,
          366.6000061035156,
          362.6000061035156,
          360.29998779296875,
          359.70001220703125,
          358.45001220703125,
          360.04998779296875,
          359.3500061035156,
          374.3999938964844,
          380.20001220703125,
          380,
          385.79998779296875,
          380.79998779296875,
          384.54998779296875,
          388.3500061035156,
          380.6000061035156,
          379,
          371.75,
          375.8500061035156,
          389.95001220703125,
          397.70001220703125,
          393.3999938964844,
          369.70001220703125,
          372.8500061035156,
          366.5,
          369.3500061035156,
          362.6000061035156,
          366.45001220703125,
          363.45001220703125,
          361,
          357.29998779296875,
          353.3999938964844,
          353.45001220703125,
          347.1000061035156,
          339.95001220703125,
          336.95001220703125,
          336.1000061035156,
          342.45001220703125,
          331.8999938964844,
          326.6499938964844,
          332.79998779296875,
          332.1000061035156,
          330.1000061035156,
          326.1499938964844,
          324.3500061035156,
          322.3500061035156,
          329.1499938964844,
          326.20001220703125,
          326,
          329.3500061035156,
          328.1499938964844,
          319.3500061035156,
          320.25,
          323.8999938964844,
          332.8500061035156,
          331,
          317.95001220703125,
          314.29998779296875,
          314,
          311.6499938964844,
          301,
          296.04998779296875,
          301.20001220703125,
          305.8999938964844,
          307.8999938964844,
          307.54998779296875,
          315,
          318.6000061035156,
          316.3999938964844,
          308.3999938964844,
          318.3500061035156,
          316.3500061035156,
          313.1000061035156,
          321.29998779296875,
          329.3999938964844,
          325.29998779296875,
          315.8999938964844,
          308.6499938964844,
          310.5,
          306.1499938964844,
          312.1000061035156,
          315.79998779296875,
          316.54998779296875,
          317.1000061035156,
          322.70001220703125,
          320.29998779296875,
          317.1499938964844,
          318.45001220703125,
          324.6000061035156,
          326.04998779296875,
          330.29998779296875,
          334.1499938964844,
          335.1499938964844,
          333.8999938964844,
          333.95001220703125,
          336.3999938964844,
          325.6499938964844,
          328.29998779296875,
          328.3500061035156,
          333.8999938964844,
          345.8999938964844,
          353.1499938964844,
          347.04998779296875,
          338.25,
          333.6499938964844,
          333.70001220703125,
          329.54998779296875,
          329.79998779296875,
          329.1000061035156,
          326.20001220703125,
          328.6499938964844,
          331.3500061035156,
          321.95001220703125,
          324.75,
          324.25,
          326.8500061035156,
          339.8500061035156,
          338.5,
          342.6000061035156,
          341.04998779296875,
          336.1499938964844,
          331.3999938964844,
          321.29998779296875,
          320.8999938964844,
          322.8999938964844,
          320.04998779296875,
          315.8500061035156,
          311.95001220703125,
          304.8999938964844,
          310.6499938964844,
          306,
          303.25,
          304.79998779296875,
          308.79998779296875,
          311.45001220703125,
          312.1499938964844,
          307.3999938964844,
          304.6499938964844,
          299.75,
          302.5,
          300.29998779296875,
          297.8500061035156,
          296.54998779296875,
          295.75,
          292.1499938964844,
          297.1000061035156,
          298.3500061035156,
          300.75,
          302.6000061035156,
          305.6000061035156,
          303.29998779296875,
          303.6499938964844,
          304.3500061035156,
          305.20001220703125,
          305.1000061035156,
          301.3500061035156,
          309.75,
          306.8500061035156,
          305.5,
          308.8999938964844,
          307.6499938964844,
          308.8999938964844,
          306.45001220703125,
          305.20001220703125,
          304.1000061035156,
          310.29998779296875,
          306.8500061035156,
          310.1499938964844,
          321,
          324.45001220703125,
          340.75,
          339.04998779296875,
          341.1499938964844,
          338.6000061035156,
          341.1000061035156,
          338.3999938964844,
          328.54998779296875,
          334.3500061035156,
          335.75,
          338.45001220703125,
          349,
          346.1499938964844,
          348.75,
          349.1499938964844,
          341.75,
          341.29998779296875,
          340.25,
          334.1000061035156,
          327.8999938964844,
          325.1000061035156,
          325.1000061035156,
          326,
          324.1000061035156,
          327.20001220703125,
          330.5
         ]
        },
        {
         "name": "Moving Average 20",
         "type": "scatter",
         "x": [
          "2022-02-14T00:00:00",
          "2022-02-15T00:00:00",
          "2022-02-16T00:00:00",
          "2022-02-17T00:00:00",
          "2022-02-18T00:00:00",
          "2022-02-21T00:00:00",
          "2022-02-22T00:00:00",
          "2022-02-23T00:00:00",
          "2022-02-24T00:00:00",
          "2022-02-25T00:00:00",
          "2022-02-28T00:00:00",
          "2022-03-02T00:00:00",
          "2022-03-03T00:00:00",
          "2022-03-04T00:00:00",
          "2022-03-07T00:00:00",
          "2022-03-08T00:00:00",
          "2022-03-09T00:00:00",
          "2022-03-10T00:00:00",
          "2022-03-11T00:00:00",
          "2022-03-14T00:00:00",
          "2022-03-15T00:00:00",
          "2022-03-16T00:00:00",
          "2022-03-17T00:00:00",
          "2022-03-21T00:00:00",
          "2022-03-22T00:00:00",
          "2022-03-23T00:00:00",
          "2022-03-24T00:00:00",
          "2022-03-25T00:00:00",
          "2022-03-28T00:00:00",
          "2022-03-29T00:00:00",
          "2022-03-30T00:00:00",
          "2022-03-31T00:00:00",
          "2022-04-01T00:00:00",
          "2022-04-04T00:00:00",
          "2022-04-05T00:00:00",
          "2022-04-06T00:00:00",
          "2022-04-07T00:00:00",
          "2022-04-08T00:00:00",
          "2022-04-11T00:00:00",
          "2022-04-12T00:00:00",
          "2022-04-13T00:00:00",
          "2022-04-18T00:00:00",
          "2022-04-19T00:00:00",
          "2022-04-20T00:00:00",
          "2022-04-21T00:00:00",
          "2022-04-22T00:00:00",
          "2022-04-25T00:00:00",
          "2022-04-26T00:00:00",
          "2022-04-27T00:00:00",
          "2022-04-28T00:00:00",
          "2022-04-29T00:00:00",
          "2022-05-02T00:00:00",
          "2022-05-04T00:00:00",
          "2022-05-05T00:00:00",
          "2022-05-06T00:00:00",
          "2022-05-09T00:00:00",
          "2022-05-10T00:00:00",
          "2022-05-11T00:00:00",
          "2022-05-12T00:00:00",
          "2022-05-13T00:00:00",
          "2022-05-16T00:00:00",
          "2022-05-17T00:00:00",
          "2022-05-18T00:00:00",
          "2022-05-19T00:00:00",
          "2022-05-20T00:00:00",
          "2022-05-23T00:00:00",
          "2022-05-24T00:00:00",
          "2022-05-25T00:00:00",
          "2022-05-26T00:00:00",
          "2022-05-27T00:00:00",
          "2022-05-30T00:00:00",
          "2022-05-31T00:00:00",
          "2022-06-01T00:00:00",
          "2022-06-02T00:00:00",
          "2022-06-03T00:00:00",
          "2022-06-06T00:00:00",
          "2022-06-07T00:00:00",
          "2022-06-08T00:00:00",
          "2022-06-09T00:00:00",
          "2022-06-10T00:00:00",
          "2022-06-13T00:00:00",
          "2022-06-14T00:00:00",
          "2022-06-15T00:00:00",
          "2022-06-16T00:00:00",
          "2022-06-17T00:00:00",
          "2022-06-20T00:00:00",
          "2022-06-21T00:00:00",
          "2022-06-22T00:00:00",
          "2022-06-23T00:00:00",
          "2022-06-24T00:00:00",
          "2022-06-27T00:00:00",
          "2022-06-28T00:00:00",
          "2022-06-29T00:00:00",
          "2022-06-30T00:00:00",
          "2022-07-01T00:00:00",
          "2022-07-04T00:00:00",
          "2022-07-05T00:00:00",
          "2022-07-06T00:00:00",
          "2022-07-07T00:00:00",
          "2022-07-08T00:00:00",
          "2022-07-11T00:00:00",
          "2022-07-12T00:00:00",
          "2022-07-13T00:00:00",
          "2022-07-14T00:00:00",
          "2022-07-15T00:00:00",
          "2022-07-18T00:00:00",
          "2022-07-19T00:00:00",
          "2022-07-20T00:00:00",
          "2022-07-21T00:00:00",
          "2022-07-22T00:00:00",
          "2022-07-25T00:00:00",
          "2022-07-26T00:00:00",
          "2022-07-27T00:00:00",
          "2022-07-28T00:00:00",
          "2022-07-29T00:00:00",
          "2022-08-01T00:00:00",
          "2022-08-02T00:00:00",
          "2022-08-03T00:00:00",
          "2022-08-04T00:00:00",
          "2022-08-05T00:00:00",
          "2022-08-08T00:00:00",
          "2022-08-10T00:00:00",
          "2022-08-11T00:00:00",
          "2022-08-12T00:00:00",
          "2022-08-16T00:00:00",
          "2022-08-17T00:00:00",
          "2022-08-18T00:00:00",
          "2022-08-19T00:00:00",
          "2022-08-22T00:00:00",
          "2022-08-23T00:00:00",
          "2022-08-24T00:00:00",
          "2022-08-25T00:00:00",
          "2022-08-26T00:00:00",
          "2022-08-29T00:00:00",
          "2022-08-30T00:00:00",
          "2022-09-01T00:00:00",
          "2022-09-02T00:00:00",
          "2022-09-05T00:00:00",
          "2022-09-06T00:00:00",
          "2022-09-07T00:00:00",
          "2022-09-08T00:00:00",
          "2022-09-09T00:00:00",
          "2022-09-12T00:00:00",
          "2022-09-13T00:00:00",
          "2022-09-14T00:00:00",
          "2022-09-15T00:00:00",
          "2022-09-16T00:00:00",
          "2022-09-19T00:00:00",
          "2022-09-20T00:00:00",
          "2022-09-21T00:00:00",
          "2022-09-22T00:00:00",
          "2022-09-23T00:00:00",
          "2022-09-26T00:00:00",
          "2022-09-27T00:00:00",
          "2022-09-28T00:00:00",
          "2022-09-29T00:00:00",
          "2022-09-30T00:00:00",
          "2022-10-03T00:00:00",
          "2022-10-04T00:00:00",
          "2022-10-06T00:00:00",
          "2022-10-07T00:00:00",
          "2022-10-10T00:00:00",
          "2022-10-11T00:00:00",
          "2022-10-12T00:00:00",
          "2022-10-13T00:00:00",
          "2022-10-14T00:00:00",
          "2022-10-17T00:00:00",
          "2022-10-18T00:00:00",
          "2022-10-19T00:00:00",
          "2022-10-20T00:00:00",
          "2022-10-21T00:00:00",
          "2022-10-24T00:00:00",
          "2022-10-25T00:00:00",
          "2022-10-27T00:00:00",
          "2022-10-28T00:00:00",
          "2022-10-31T00:00:00",
          "2022-11-01T00:00:00",
          "2022-11-02T00:00:00",
          "2022-11-03T00:00:00",
          "2022-11-04T00:00:00",
          "2022-11-07T00:00:00",
          "2022-11-09T00:00:00",
          "2022-11-10T00:00:00",
          "2022-11-11T00:00:00",
          "2022-11-14T00:00:00",
          "2022-11-15T00:00:00",
          "2022-11-16T00:00:00",
          "2022-11-17T00:00:00",
          "2022-11-18T00:00:00",
          "2022-11-21T00:00:00",
          "2022-11-22T00:00:00",
          "2022-11-23T00:00:00",
          "2022-11-24T00:00:00",
          "2022-11-25T00:00:00",
          "2022-11-28T00:00:00",
          "2022-11-29T00:00:00",
          "2022-11-30T00:00:00",
          "2022-12-01T00:00:00",
          "2022-12-02T00:00:00",
          "2022-12-05T00:00:00",
          "2022-12-06T00:00:00",
          "2022-12-07T00:00:00",
          "2022-12-08T00:00:00",
          "2022-12-09T00:00:00",
          "2022-12-12T00:00:00",
          "2022-12-13T00:00:00",
          "2022-12-14T00:00:00",
          "2022-12-15T00:00:00",
          "2022-12-16T00:00:00",
          "2022-12-19T00:00:00",
          "2022-12-20T00:00:00",
          "2022-12-21T00:00:00",
          "2022-12-22T00:00:00",
          "2022-12-23T00:00:00",
          "2022-12-26T00:00:00",
          "2022-12-27T00:00:00",
          "2022-12-28T00:00:00",
          "2022-12-29T00:00:00",
          "2022-12-30T00:00:00"
         ],
         "y": [
          null,
          null,
          null,
          null,
          null,
          null,
          null,
          null,
          null,
          null,
          null,
          null,
          null,
          null,
          null,
          null,
          null,
          null,
          null,
          354.04749908447263,
          353.47749786376954,
          352.8474975585938,
          352.35249786376954,
          351.56249847412107,
          351.3249984741211,
          351.2174987792969,
          351.5824996948242,
          351.74249877929685,
          353.075,
          354.1800003051758,
          354.69250030517577,
          355.5550003051758,
          356.95500030517576,
          358.54750061035156,
          360.6475006103516,
          362.85749969482424,
          364.76499938964844,
          366.54249877929686,
          367.85999908447263,
          368.9074996948242,
          370.3425003051758,
          371.11500091552733,
          371.69750061035154,
          373.3350006103516,
          374.8000015258789,
          376.14000091552737,
          376.4950012207031,
          377.1225021362305,
          377.4625015258789,
          378.00750122070315,
          378.13500213623047,
          378.49000244140626,
          377.94250335693357,
          376.98250274658204,
          375.84750213623045,
          374.2275024414063,
          372.86000366210936,
          370.98750457763674,
          368.5675048828125,
          366.38500518798827,
          364.24000549316406,
          362.77500610351564,
          360.57750549316404,
          357.4125045776367,
          354.1675033569336,
          351.10250396728514,
          349.12250366210935,
          346.7875030517578,
          344.6800033569336,
          342.3300033569336,
          340.65750274658205,
          338.645002746582,
          336.77250213623046,
          335.19000244140625,
          333.73250274658204,
          332.0300033569336,
          330.37000274658203,
          329.21000213623046,
          328.85500183105466,
          328.5575012207031,
          327.6500015258789,
          326.2425003051758,
          325.3475006103516,
          324.5975006103516,
          323.00750122070315,
          321.20500030517576,
          319.76000061035154,
          318.74750061035155,
          317.925,
          317.1849990844727,
          316.4774993896484,
          316.09749908447264,
          315.61749877929685,
          314.5699981689453,
          314.0799987792969,
          313.92999877929685,
          313.57249908447267,
          313.4424987792969,
          313.26999816894534,
          312.98499755859376,
          312.8824966430664,
          312.59999694824216,
          312.4249969482422,
          312.1499969482422,
          312.70499725341796,
          313.69249725341797,
          314.45999603271486,
          315.0199966430664,
          315.75999755859374,
          316.3974975585937,
          316.50499725341797,
          316.49749755859375,
          316.9074981689453,
          317.78999786376954,
          318.3874969482422,
          319.2774963378906,
          320.37999572753904,
          321.00999603271487,
          321.2374969482422,
          321.792497253418,
          322.27999725341795,
          323.2624969482422,
          324.15499725341795,
          325.542497253418,
          327.2324966430664,
          329.09999694824216,
          330.6249969482422,
          331.68249664306643,
          332.22999572753906,
          332.8999969482422,
          333.5199966430664,
          334.0874954223633,
          334.31249542236327,
          334.3199966430664,
          334.2374969482422,
          334.0974975585938,
          333.43749847412107,
          332.97999877929686,
          332.4949981689453,
          332.0174987792969,
          332.7274993896484,
          333.2375,
          333.95,
          334.30749969482423,
          333.8199996948242,
          332.73249969482424,
          331.4449996948242,
          330.57749938964844,
          330.0399993896484,
          329.3574981689453,
          328.67249908447263,
          327.7800003051758,
          326.5699996948242,
          325.79249877929686,
          324.65999908447264,
          323.2549987792969,
          322.3974975585937,
          321.59999694824216,
          320.9599975585937,
          320.22499694824216,
          318.6024963378906,
          316.90999603271484,
          314.7674957275391,
          312.8399963378906,
          311.04749603271483,
          309.36999664306643,
          308.1324966430664,
          306.8749969482422,
          305.3374969482422,
          304.1899978637695,
          303.3149978637695,
          302.75499725341797,
          302.6399978637695,
          302.3874984741211,
          302.2524978637695,
          302.2724975585937,
          302.24999847412107,
          302.0699996948242,
          301.75249938964845,
          301.2125,
          301.33000030517576,
          301.4400009155273,
          301.72750091552734,
          302.04750061035156,
          302.41500091552734,
          302.9675003051758,
          303.4625015258789,
          303.9350021362305,
          304.53250274658205,
          305.1925018310547,
          305.6175018310547,
          306.0875015258789,
          307.00750122070315,
          307.9500015258789,
          309.82250213623047,
          311.5925018310547,
          313.4325012207031,
          315.10250091552734,
          316.90250091552736,
          318.75500030517577,
          319.6949996948242,
          321.0699996948242,
          322.5824996948242,
          324.06000061035155,
          326.1275009155273,
          327.99000091552733,
          330.1050003051758,
          332.30249938964846,
          334.1849990844727,
          335.73499908447263,
          337.4049987792969,
          338.6024993896484,
          338.94749908447267,
          338.97999877929686,
          338.19749908447267,
          337.54499969482424,
          336.69250030517577,
          336.12250061035155,
          335.5925003051758
         ]
        },
        {
         "name": "Upper Band",
         "type": "scatter",
         "x": [
          "2022-02-14T00:00:00",
          "2022-02-15T00:00:00",
          "2022-02-16T00:00:00",
          "2022-02-17T00:00:00",
          "2022-02-18T00:00:00",
          "2022-02-21T00:00:00",
          "2022-02-22T00:00:00",
          "2022-02-23T00:00:00",
          "2022-02-24T00:00:00",
          "2022-02-25T00:00:00",
          "2022-02-28T00:00:00",
          "2022-03-02T00:00:00",
          "2022-03-03T00:00:00",
          "2022-03-04T00:00:00",
          "2022-03-07T00:00:00",
          "2022-03-08T00:00:00",
          "2022-03-09T00:00:00",
          "2022-03-10T00:00:00",
          "2022-03-11T00:00:00",
          "2022-03-14T00:00:00",
          "2022-03-15T00:00:00",
          "2022-03-16T00:00:00",
          "2022-03-17T00:00:00",
          "2022-03-21T00:00:00",
          "2022-03-22T00:00:00",
          "2022-03-23T00:00:00",
          "2022-03-24T00:00:00",
          "2022-03-25T00:00:00",
          "2022-03-28T00:00:00",
          "2022-03-29T00:00:00",
          "2022-03-30T00:00:00",
          "2022-03-31T00:00:00",
          "2022-04-01T00:00:00",
          "2022-04-04T00:00:00",
          "2022-04-05T00:00:00",
          "2022-04-06T00:00:00",
          "2022-04-07T00:00:00",
          "2022-04-08T00:00:00",
          "2022-04-11T00:00:00",
          "2022-04-12T00:00:00",
          "2022-04-13T00:00:00",
          "2022-04-18T00:00:00",
          "2022-04-19T00:00:00",
          "2022-04-20T00:00:00",
          "2022-04-21T00:00:00",
          "2022-04-22T00:00:00",
          "2022-04-25T00:00:00",
          "2022-04-26T00:00:00",
          "2022-04-27T00:00:00",
          "2022-04-28T00:00:00",
          "2022-04-29T00:00:00",
          "2022-05-02T00:00:00",
          "2022-05-04T00:00:00",
          "2022-05-05T00:00:00",
          "2022-05-06T00:00:00",
          "2022-05-09T00:00:00",
          "2022-05-10T00:00:00",
          "2022-05-11T00:00:00",
          "2022-05-12T00:00:00",
          "2022-05-13T00:00:00",
          "2022-05-16T00:00:00",
          "2022-05-17T00:00:00",
          "2022-05-18T00:00:00",
          "2022-05-19T00:00:00",
          "2022-05-20T00:00:00",
          "2022-05-23T00:00:00",
          "2022-05-24T00:00:00",
          "2022-05-25T00:00:00",
          "2022-05-26T00:00:00",
          "2022-05-27T00:00:00",
          "2022-05-30T00:00:00",
          "2022-05-31T00:00:00",
          "2022-06-01T00:00:00",
          "2022-06-02T00:00:00",
          "2022-06-03T00:00:00",
          "2022-06-06T00:00:00",
          "2022-06-07T00:00:00",
          "2022-06-08T00:00:00",
          "2022-06-09T00:00:00",
          "2022-06-10T00:00:00",
          "2022-06-13T00:00:00",
          "2022-06-14T00:00:00",
          "2022-06-15T00:00:00",
          "2022-06-16T00:00:00",
          "2022-06-17T00:00:00",
          "2022-06-20T00:00:00",
          "2022-06-21T00:00:00",
          "2022-06-22T00:00:00",
          "2022-06-23T00:00:00",
          "2022-06-24T00:00:00",
          "2022-06-27T00:00:00",
          "2022-06-28T00:00:00",
          "2022-06-29T00:00:00",
          "2022-06-30T00:00:00",
          "2022-07-01T00:00:00",
          "2022-07-04T00:00:00",
          "2022-07-05T00:00:00",
          "2022-07-06T00:00:00",
          "2022-07-07T00:00:00",
          "2022-07-08T00:00:00",
          "2022-07-11T00:00:00",
          "2022-07-12T00:00:00",
          "2022-07-13T00:00:00",
          "2022-07-14T00:00:00",
          "2022-07-15T00:00:00",
          "2022-07-18T00:00:00",
          "2022-07-19T00:00:00",
          "2022-07-20T00:00:00",
          "2022-07-21T00:00:00",
          "2022-07-22T00:00:00",
          "2022-07-25T00:00:00",
          "2022-07-26T00:00:00",
          "2022-07-27T00:00:00",
          "2022-07-28T00:00:00",
          "2022-07-29T00:00:00",
          "2022-08-01T00:00:00",
          "2022-08-02T00:00:00",
          "2022-08-03T00:00:00",
          "2022-08-04T00:00:00",
          "2022-08-05T00:00:00",
          "2022-08-08T00:00:00",
          "2022-08-10T00:00:00",
          "2022-08-11T00:00:00",
          "2022-08-12T00:00:00",
          "2022-08-16T00:00:00",
          "2022-08-17T00:00:00",
          "2022-08-18T00:00:00",
          "2022-08-19T00:00:00",
          "2022-08-22T00:00:00",
          "2022-08-23T00:00:00",
          "2022-08-24T00:00:00",
          "2022-08-25T00:00:00",
          "2022-08-26T00:00:00",
          "2022-08-29T00:00:00",
          "2022-08-30T00:00:00",
          "2022-09-01T00:00:00",
          "2022-09-02T00:00:00",
          "2022-09-05T00:00:00",
          "2022-09-06T00:00:00",
          "2022-09-07T00:00:00",
          "2022-09-08T00:00:00",
          "2022-09-09T00:00:00",
          "2022-09-12T00:00:00",
          "2022-09-13T00:00:00",
          "2022-09-14T00:00:00",
          "2022-09-15T00:00:00",
          "2022-09-16T00:00:00",
          "2022-09-19T00:00:00",
          "2022-09-20T00:00:00",
          "2022-09-21T00:00:00",
          "2022-09-22T00:00:00",
          "2022-09-23T00:00:00",
          "2022-09-26T00:00:00",
          "2022-09-27T00:00:00",
          "2022-09-28T00:00:00",
          "2022-09-29T00:00:00",
          "2022-09-30T00:00:00",
          "2022-10-03T00:00:00",
          "2022-10-04T00:00:00",
          "2022-10-06T00:00:00",
          "2022-10-07T00:00:00",
          "2022-10-10T00:00:00",
          "2022-10-11T00:00:00",
          "2022-10-12T00:00:00",
          "2022-10-13T00:00:00",
          "2022-10-14T00:00:00",
          "2022-10-17T00:00:00",
          "2022-10-18T00:00:00",
          "2022-10-19T00:00:00",
          "2022-10-20T00:00:00",
          "2022-10-21T00:00:00",
          "2022-10-24T00:00:00",
          "2022-10-25T00:00:00",
          "2022-10-27T00:00:00",
          "2022-10-28T00:00:00",
          "2022-10-31T00:00:00",
          "2022-11-01T00:00:00",
          "2022-11-02T00:00:00",
          "2022-11-03T00:00:00",
          "2022-11-04T00:00:00",
          "2022-11-07T00:00:00",
          "2022-11-09T00:00:00",
          "2022-11-10T00:00:00",
          "2022-11-11T00:00:00",
          "2022-11-14T00:00:00",
          "2022-11-15T00:00:00",
          "2022-11-16T00:00:00",
          "2022-11-17T00:00:00",
          "2022-11-18T00:00:00",
          "2022-11-21T00:00:00",
          "2022-11-22T00:00:00",
          "2022-11-23T00:00:00",
          "2022-11-24T00:00:00",
          "2022-11-25T00:00:00",
          "2022-11-28T00:00:00",
          "2022-11-29T00:00:00",
          "2022-11-30T00:00:00",
          "2022-12-01T00:00:00",
          "2022-12-02T00:00:00",
          "2022-12-05T00:00:00",
          "2022-12-06T00:00:00",
          "2022-12-07T00:00:00",
          "2022-12-08T00:00:00",
          "2022-12-09T00:00:00",
          "2022-12-12T00:00:00",
          "2022-12-13T00:00:00",
          "2022-12-14T00:00:00",
          "2022-12-15T00:00:00",
          "2022-12-16T00:00:00",
          "2022-12-19T00:00:00",
          "2022-12-20T00:00:00",
          "2022-12-21T00:00:00",
          "2022-12-22T00:00:00",
          "2022-12-23T00:00:00",
          "2022-12-26T00:00:00",
          "2022-12-27T00:00:00",
          "2022-12-28T00:00:00",
          "2022-12-29T00:00:00",
          "2022-12-30T00:00:00"
         ],
         "y": [
          null,
          null,
          null,
          null,
          null,
          null,
          null,
          null,
          null,
          null,
          null,
          null,
          null,
          null,
          null,
          null,
          null,
          null,
          null,
          380.40820587100666,
          379.6336985045501,
          378.0284114237231,
          376.1241416750442,
          373.41790635702097,
          372.2772385186413,
          371.81232071363456,
          372.7332220812982,
          373.1162000355591,
          372.80137888464026,
          372.3783948869215,
          372.94875549231983,
          372.91420765409896,
          375.668882121861,
          379.4686962526922,
          381.3146266931439,
          384.3836239598388,
          385.4981160961873,
          387.676485318832,
          390.9924894637781,
          392.3696347932551,
          392.48641000246926,
          392.2512967276059,
          392.6729064618508,
          394.65558727700727,
          398.5777893486605,
          400.9694316454386,
          400.7046099481102,
          400.1882291216463,
          399.62987570786186,
          398.6931769643853,
          398.3814058310796,
          397.56463429461394,
          398.1087886031233,
          398.48033905557736,
          399.007254729512,
          398.9368777815089,
          399.0223845274556,
          398.9274025105902,
          398.48940853514887,
          398.86946356255413,
          398.8153626198984,
          398.4751965726504,
          398.2453688668643,
          395.32545181620776,
          388.5023927860917,
          381.39790468981,
          379.47632342720823,
          376.63670494145117,
          374.62085096294254,
          371.48558575933754,
          368.7349235383464,
          364.63036204731293,
          360.53389140474155,
          356.2158155681346,
          352.1894343764374,
          349.0760892652479,
          344.91606477249786,
          341.6923989714415,
          340.4215589251124,
          339.538648665228,
          339.0003080419179,
          336.82054392410873,
          336.8946795616302,
          337.640164001958,
          339.2103395200808,
          340.8120911100374,
          340.8133088138844,
          340.44476278009915,
          339.9723811354403,
          339.5975026112485,
          338.1818452891192,
          337.34646572939556,
          336.3520986162126,
          334.48403824721976,
          333.0468557512508,
          332.76838544157897,
          332.17579935170033,
          331.77631648271847,
          330.885824311067,
          329.5458931557007,
          329.33904999189724,
          329.1478216128611,
          328.9845059608581,
          328.94470095421497,
          328.66095276880617,
          327.6246709550962,
          327.1284228970453,
          327.0703029436941,
          327.7870119937532,
          327.9338222313586,
          328.0265501975664,
          328.0135025479184,
          328.9793566103466,
          329.8237028358884,
          331.66108686143497,
          334.25366590966223,
          336.63339411887114,
          338.3537497326396,
          339.15452404553037,
          340.8882741912957,
          341.2397156037045,
          341.26041525599794,
          341.23508314230844,
          340.88419156084194,
          343.7415127926141,
          348.38109991434743,
          350.54087988031273,
          350.8048205971702,
          350.89091161032326,
          350.6997561952353,
          349.8096204745944,
          348.8894455027992,
          348.6363018519481,
          348.62572991944,
          348.65940176241827,
          348.5772242770149,
          348.8861467456711,
          348.9055564712101,
          348.8803480621844,
          348.48012224025905,
          349.25853176101504,
          349.82267594535085,
          350.87204472749494,
          351.5246288324366,
          350.18617812434877,
          346.35021772041364,
          344.20521251281303,
          343.74242392462884,
          343.5500200266558,
          343.45536365285824,
          344.0079922667991,
          344.821940354713,
          346.42209448822956,
          346.88488434433606,
          347.46880661842175,
          347.72968787491857,
          348.228844096173,
          348.10169724466067,
          347.80819950977076,
          347.19883495150947,
          344.4877990293982,
          341.7217198321843,
          337.55662275306724,
          332.587361036667,
          328.2272708050865,
          324.62644741284623,
          323.32949386038905,
          321.78311955489056,
          319.6162602077029,
          317.114950610316,
          315.24766534899084,
          314.0135785971332,
          313.8532219211271,
          313.05544716326216,
          312.7955657289726,
          312.82504591574553,
          312.78175521902756,
          312.2475007361803,
          311.0566289833078,
          309.12537495313035,
          309.68706163343126,
          310.03557328362086,
          310.46848387920056,
          311.35762667310746,
          312.01056595672264,
          312.72742340670874,
          312.84904697118185,
          312.61141292919496,
          311.20658715357183,
          311.3635900106432,
          310.91310351950796,
          311.230489657679,
          315.2016075820281,
          319.2210642510638,
          328.1040266753714,
          333.7925741114435,
          338.95642140185333,
          342.64896435752837,
          346.3370195067192,
          348.7268598513637,
          349.65695277731305,
          351.073951564133,
          352.33039037775876,
          353.88177845171737,
          356.87804788083787,
          358.8592216982993,
          360.5537795938336,
          361.5013892928577,
          360.4337307960359,
          359.5978083033938,
          357.0603145851466,
          353.6426692408065,
          352.5338468122127,
          352.42267883197246,
          352.96322754176475,
          353.2740485033626,
          353.41563840964756,
          353.3416555634635,
          352.8191052361709
         ]
        },
        {
         "name": "Lower Band",
         "type": "scatter",
         "x": [
          "2022-02-14T00:00:00",
          "2022-02-15T00:00:00",
          "2022-02-16T00:00:00",
          "2022-02-17T00:00:00",
          "2022-02-18T00:00:00",
          "2022-02-21T00:00:00",
          "2022-02-22T00:00:00",
          "2022-02-23T00:00:00",
          "2022-02-24T00:00:00",
          "2022-02-25T00:00:00",
          "2022-02-28T00:00:00",
          "2022-03-02T00:00:00",
          "2022-03-03T00:00:00",
          "2022-03-04T00:00:00",
          "2022-03-07T00:00:00",
          "2022-03-08T00:00:00",
          "2022-03-09T00:00:00",
          "2022-03-10T00:00:00",
          "2022-03-11T00:00:00",
          "2022-03-14T00:00:00",
          "2022-03-15T00:00:00",
          "2022-03-16T00:00:00",
          "2022-03-17T00:00:00",
          "2022-03-21T00:00:00",
          "2022-03-22T00:00:00",
          "2022-03-23T00:00:00",
          "2022-03-24T00:00:00",
          "2022-03-25T00:00:00",
          "2022-03-28T00:00:00",
          "2022-03-29T00:00:00",
          "2022-03-30T00:00:00",
          "2022-03-31T00:00:00",
          "2022-04-01T00:00:00",
          "2022-04-04T00:00:00",
          "2022-04-05T00:00:00",
          "2022-04-06T00:00:00",
          "2022-04-07T00:00:00",
          "2022-04-08T00:00:00",
          "2022-04-11T00:00:00",
          "2022-04-12T00:00:00",
          "2022-04-13T00:00:00",
          "2022-04-18T00:00:00",
          "2022-04-19T00:00:00",
          "2022-04-20T00:00:00",
          "2022-04-21T00:00:00",
          "2022-04-22T00:00:00",
          "2022-04-25T00:00:00",
          "2022-04-26T00:00:00",
          "2022-04-27T00:00:00",
          "2022-04-28T00:00:00",
          "2022-04-29T00:00:00",
          "2022-05-02T00:00:00",
          "2022-05-04T00:00:00",
          "2022-05-05T00:00:00",
          "2022-05-06T00:00:00",
          "2022-05-09T00:00:00",
          "2022-05-10T00:00:00",
          "2022-05-11T00:00:00",
          "2022-05-12T00:00:00",
          "2022-05-13T00:00:00",
          "2022-05-16T00:00:00",
          "2022-05-17T00:00:00",
          "2022-05-18T00:00:00",
          "2022-05-19T00:00:00",
          "2022-05-20T00:00:00",
          "2022-05-23T00:00:00",
          "2022-05-24T00:00:00",
          "2022-05-25T00:00:00",
          "2022-05-26T00:00:00",
          "2022-05-27T00:00:00",
          "2022-05-30T00:00:00",
          "2022-05-31T00:00:00",
          "2022-06-01T00:00:00",
          "2022-06-02T00:00:00",
          "2022-06-03T00:00:00",
          "2022-06-06T00:00:00",
          "2022-06-07T00:00:00",
          "2022-06-08T00:00:00",
          "2022-06-09T00:00:00",
          "2022-06-10T00:00:00",
          "2022-06-13T00:00:00",
          "2022-06-14T00:00:00",
          "2022-06-15T00:00:00",
          "2022-06-16T00:00:00",
          "2022-06-17T00:00:00",
          "2022-06-20T00:00:00",
          "2022-06-21T00:00:00",
          "2022-06-22T00:00:00",
          "2022-06-23T00:00:00",
          "2022-06-24T00:00:00",
          "2022-06-27T00:00:00",
          "2022-06-28T00:00:00",
          "2022-06-29T00:00:00",
          "2022-06-30T00:00:00",
          "2022-07-01T00:00:00",
          "2022-07-04T00:00:00",
          "2022-07-05T00:00:00",
          "2022-07-06T00:00:00",
          "2022-07-07T00:00:00",
          "2022-07-08T00:00:00",
          "2022-07-11T00:00:00",
          "2022-07-12T00:00:00",
          "2022-07-13T00:00:00",
          "2022-07-14T00:00:00",
          "2022-07-15T00:00:00",
          "2022-07-18T00:00:00",
          "2022-07-19T00:00:00",
          "2022-07-20T00:00:00",
          "2022-07-21T00:00:00",
          "2022-07-22T00:00:00",
          "2022-07-25T00:00:00",
          "2022-07-26T00:00:00",
          "2022-07-27T00:00:00",
          "2022-07-28T00:00:00",
          "2022-07-29T00:00:00",
          "2022-08-01T00:00:00",
          "2022-08-02T00:00:00",
          "2022-08-03T00:00:00",
          "2022-08-04T00:00:00",
          "2022-08-05T00:00:00",
          "2022-08-08T00:00:00",
          "2022-08-10T00:00:00",
          "2022-08-11T00:00:00",
          "2022-08-12T00:00:00",
          "2022-08-16T00:00:00",
          "2022-08-17T00:00:00",
          "2022-08-18T00:00:00",
          "2022-08-19T00:00:00",
          "2022-08-22T00:00:00",
          "2022-08-23T00:00:00",
          "2022-08-24T00:00:00",
          "2022-08-25T00:00:00",
          "2022-08-26T00:00:00",
          "2022-08-29T00:00:00",
          "2022-08-30T00:00:00",
          "2022-09-01T00:00:00",
          "2022-09-02T00:00:00",
          "2022-09-05T00:00:00",
          "2022-09-06T00:00:00",
          "2022-09-07T00:00:00",
          "2022-09-08T00:00:00",
          "2022-09-09T00:00:00",
          "2022-09-12T00:00:00",
          "2022-09-13T00:00:00",
          "2022-09-14T00:00:00",
          "2022-09-15T00:00:00",
          "2022-09-16T00:00:00",
          "2022-09-19T00:00:00",
          "2022-09-20T00:00:00",
          "2022-09-21T00:00:00",
          "2022-09-22T00:00:00",
          "2022-09-23T00:00:00",
          "2022-09-26T00:00:00",
          "2022-09-27T00:00:00",
          "2022-09-28T00:00:00",
          "2022-09-29T00:00:00",
          "2022-09-30T00:00:00",
          "2022-10-03T00:00:00",
          "2022-10-04T00:00:00",
          "2022-10-06T00:00:00",
          "2022-10-07T00:00:00",
          "2022-10-10T00:00:00",
          "2022-10-11T00:00:00",
          "2022-10-12T00:00:00",
          "2022-10-13T00:00:00",
          "2022-10-14T00:00:00",
          "2022-10-17T00:00:00",
          "2022-10-18T00:00:00",
          "2022-10-19T00:00:00",
          "2022-10-20T00:00:00",
          "2022-10-21T00:00:00",
          "2022-10-24T00:00:00",
          "2022-10-25T00:00:00",
          "2022-10-27T00:00:00",
          "2022-10-28T00:00:00",
          "2022-10-31T00:00:00",
          "2022-11-01T00:00:00",
          "2022-11-02T00:00:00",
          "2022-11-03T00:00:00",
          "2022-11-04T00:00:00",
          "2022-11-07T00:00:00",
          "2022-11-09T00:00:00",
          "2022-11-10T00:00:00",
          "2022-11-11T00:00:00",
          "2022-11-14T00:00:00",
          "2022-11-15T00:00:00",
          "2022-11-16T00:00:00",
          "2022-11-17T00:00:00",
          "2022-11-18T00:00:00",
          "2022-11-21T00:00:00",
          "2022-11-22T00:00:00",
          "2022-11-23T00:00:00",
          "2022-11-24T00:00:00",
          "2022-11-25T00:00:00",
          "2022-11-28T00:00:00",
          "2022-11-29T00:00:00",
          "2022-11-30T00:00:00",
          "2022-12-01T00:00:00",
          "2022-12-02T00:00:00",
          "2022-12-05T00:00:00",
          "2022-12-06T00:00:00",
          "2022-12-07T00:00:00",
          "2022-12-08T00:00:00",
          "2022-12-09T00:00:00",
          "2022-12-12T00:00:00",
          "2022-12-13T00:00:00",
          "2022-12-14T00:00:00",
          "2022-12-15T00:00:00",
          "2022-12-16T00:00:00",
          "2022-12-19T00:00:00",
          "2022-12-20T00:00:00",
          "2022-12-21T00:00:00",
          "2022-12-22T00:00:00",
          "2022-12-23T00:00:00",
          "2022-12-26T00:00:00",
          "2022-12-27T00:00:00",
          "2022-12-28T00:00:00",
          "2022-12-29T00:00:00",
          "2022-12-30T00:00:00"
         ],
         "y": [
          null,
          null,
          null,
          null,
          null,
          null,
          null,
          null,
          null,
          null,
          null,
          null,
          null,
          null,
          null,
          null,
          null,
          null,
          null,
          327.6867922979386,
          327.32129722298896,
          327.6665836934644,
          328.5808540524949,
          329.7070905912212,
          330.37275842960094,
          330.6226768449592,
          330.4317773083502,
          330.36879752303463,
          333.3486211153597,
          335.98160572343005,
          336.4362451180317,
          338.1957929562526,
          338.24111848849054,
          337.6263049680109,
          339.98037452755926,
          341.33137542980967,
          344.0318826831096,
          345.4085122397617,
          344.72750870516717,
          345.4453645963933,
          348.19859060788235,
          349.97870510344876,
          350.7220947588523,
          352.0144139436959,
          351.0222137030973,
          351.31057018561614,
          352.285392493296,
          354.05677515081464,
          355.29512734389596,
          357.321825477021,
          357.88859844138136,
          359.4153705881986,
          357.77621811074386,
          355.4846664375867,
          352.6877495429489,
          349.51812710130366,
          346.69762279676314,
          343.0476066446833,
          338.64560123047613,
          333.9005468134224,
          329.66464836642973,
          327.07481563438085,
          322.9096421194638,
          319.49955733906563,
          319.83261392777547,
          320.8071032447603,
          318.7686838970105,
          316.9383011620645,
          314.7391557509246,
          313.1744209545297,
          312.58008195481773,
          312.6596434458511,
          313.01111286771936,
          314.1641893146779,
          315.27557111672667,
          314.9839174486193,
          315.8239407206662,
          316.7276053010194,
          317.28844473699695,
          317.5763537761782,
          316.2996950098399,
          315.66445668624283,
          313.80032165907295,
          311.55483721874515,
          306.8046629213255,
          301.59790950031413,
          298.70669240681866,
          297.05023844060395,
          295.87761886455974,
          294.77249555769686,
          294.7731534901776,
          294.84853243954973,
          294.88289894238113,
          294.6559580906708,
          295.11314180734297,
          295.09161211701473,
          294.969198817245,
          295.1086810758753,
          295.6541720268237,
          296.4241019614868,
          296.4259432942356,
          296.05217228362324,
          295.86548793562633,
          295.3552929422694,
          296.74904173802975,
          299.76032355173976,
          301.7915691683844,
          302.9696903424387,
          303.7329831234343,
          304.86117288582886,
          304.98344430926954,
          304.9814925692691,
          304.83563972754405,
          305.7562928916507,
          305.1139070350494,
          304.301326766119,
          304.12659733620694,
          303.66624233279015,
          303.32046985095405,
          302.6967203155403,
          303.3202789031314,
          305.26457864048643,
          307.07491136452745,
          310.20080294599404,
          310.72348049351865,
          309.8188939821369,
          310.70911401617167,
          312.56017268896267,
          313.56907984475487,
          315.10023770124906,
          317.2303728115384,
          319.2855453419274,
          319.98868899277846,
          320.01426336669283,
          319.81559213406615,
          319.6177708401726,
          317.98885020257103,
          317.0544410873836,
          316.1096482757062,
          315.5548753183347,
          316.1964670182818,
          316.65232405464917,
          317.02795527250504,
          317.0903705572119,
          317.45382126529967,
          319.11478166923484,
          318.6847868768354,
          317.41257485466804,
          316.52997875264106,
          315.2596326850324,
          313.3370059021462,
          310.73806025563863,
          306.7179049014189,
          304.70011321425767,
          301.85119155052354,
          298.7803096836752,
          296.56615102101443,
          295.09829665182366,
          294.1117956074167,
          293.25115894497486,
          292.717193646383,
          292.0982722332454,
          291.9783687020109,
          293.09263163911424,
          293.86772126034316,
          294.1135458732866,
          292.9354994257438,
          291.96687434159384,
          291.05873368878144,
          291.26504511722305,
          291.3823303785482,
          291.49641590970276,
          291.4267738064119,
          291.7195497849801,
          291.70942999856646,
          291.7199492014419,
          291.7182417292146,
          291.8924986534681,
          292.4483697959891,
          293.2996250468696,
          292.97293897692026,
          292.8444285474338,
          292.9865179518541,
          292.73737454759566,
          292.81943587433204,
          293.20757720364287,
          294.07595608057596,
          295.258591343266,
          297.8584183395923,
          299.0214136514662,
          300.32190014260146,
          300.9445133940788,
          298.8133948593782,
          296.678938800694,
          291.5409775970895,
          289.39242955066584,
          287.90858103955287,
          287.5560374735263,
          287.46798232433554,
          288.7831407589878,
          289.7330466123354,
          291.06604782551545,
          292.83460901188965,
          294.23822276898574,
          295.3769539502168,
          297.1207801327554,
          299.656221016518,
          303.1036094864392,
          307.93626737290947,
          311.8721898655515,
          317.74968297344714,
          323.5623295384903,
          325.36115135673265,
          325.53731872662127,
          323.4317706271806,
          321.81595088628586,
          319.969362200704,
          318.9033456572396,
          318.3658953741807
         ]
        },
        {
         "marker": {
          "color": "red"
         },
         "mode": "markers",
         "name": "Above Upper Band",
         "type": "scatter",
         "x": [
          "2022-04-04T00:00:00",
          "2022-04-06T00:00:00",
          "2022-08-16T00:00:00",
          "2022-08-17T00:00:00",
          "2022-11-07T00:00:00",
          "2022-11-24T00:00:00",
          "2022-11-25T00:00:00",
          "2022-11-28T00:00:00",
          "2022-11-29T00:00:00",
          "2022-11-30T00:00:00"
         ],
         "y": [
          380.20001220703125,
          385.79998779296875,
          345.8999938964844,
          353.1499938964844,
          309.75,
          321,
          324.45001220703125,
          340.75,
          339.04998779296875,
          341.1499938964844
         ]
        },
        {
         "marker": {
          "color": "green"
         },
         "mode": "markers",
         "name": "Below Lower Band",
         "type": "scatter",
         "x": [
          "2022-06-14T00:00:00",
          "2022-06-17T00:00:00",
          "2022-06-20T00:00:00",
          "2022-09-26T00:00:00",
          "2022-12-23T00:00:00"
         ],
         "y": [
          314.29998779296875,
          301,
          296.04998779296875,
          304.8999938964844,
          325.1000061035156
         ]
        }
       ],
       "layout": {
        "template": {
         "data": {
          "bar": [
           {
            "error_x": {
             "color": "#f2f5fa"
            },
            "error_y": {
             "color": "#f2f5fa"
            },
            "marker": {
             "line": {
              "color": "rgb(17,17,17)",
              "width": 0.5
             },
             "pattern": {
              "fillmode": "overlay",
              "size": 10,
              "solidity": 0.2
             }
            },
            "type": "bar"
           }
          ],
          "barpolar": [
           {
            "marker": {
             "line": {
              "color": "rgb(17,17,17)",
              "width": 0.5
             },
             "pattern": {
              "fillmode": "overlay",
              "size": 10,
              "solidity": 0.2
             }
            },
            "type": "barpolar"
           }
          ],
          "carpet": [
           {
            "aaxis": {
             "endlinecolor": "#A2B1C6",
             "gridcolor": "#506784",
             "linecolor": "#506784",
             "minorgridcolor": "#506784",
             "startlinecolor": "#A2B1C6"
            },
            "baxis": {
             "endlinecolor": "#A2B1C6",
             "gridcolor": "#506784",
             "linecolor": "#506784",
             "minorgridcolor": "#506784",
             "startlinecolor": "#A2B1C6"
            },
            "type": "carpet"
           }
          ],
          "choropleth": [
           {
            "colorbar": {
             "outlinewidth": 0,
             "ticks": ""
            },
            "type": "choropleth"
           }
          ],
          "contour": [
           {
            "colorbar": {
             "outlinewidth": 0,
             "ticks": ""
            },
            "colorscale": [
             [
              0,
              "#0d0887"
             ],
             [
              0.1111111111111111,
              "#46039f"
             ],
             [
              0.2222222222222222,
              "#7201a8"
             ],
             [
              0.3333333333333333,
              "#9c179e"
             ],
             [
              0.4444444444444444,
              "#bd3786"
             ],
             [
              0.5555555555555556,
              "#d8576b"
             ],
             [
              0.6666666666666666,
              "#ed7953"
             ],
             [
              0.7777777777777778,
              "#fb9f3a"
             ],
             [
              0.8888888888888888,
              "#fdca26"
             ],
             [
              1,
              "#f0f921"
             ]
            ],
            "type": "contour"
           }
          ],
          "contourcarpet": [
           {
            "colorbar": {
             "outlinewidth": 0,
             "ticks": ""
            },
            "type": "contourcarpet"
           }
          ],
          "heatmap": [
           {
            "colorbar": {
             "outlinewidth": 0,
             "ticks": ""
            },
            "colorscale": [
             [
              0,
              "#0d0887"
             ],
             [
              0.1111111111111111,
              "#46039f"
             ],
             [
              0.2222222222222222,
              "#7201a8"
             ],
             [
              0.3333333333333333,
              "#9c179e"
             ],
             [
              0.4444444444444444,
              "#bd3786"
             ],
             [
              0.5555555555555556,
              "#d8576b"
             ],
             [
              0.6666666666666666,
              "#ed7953"
             ],
             [
              0.7777777777777778,
              "#fb9f3a"
             ],
             [
              0.8888888888888888,
              "#fdca26"
             ],
             [
              1,
              "#f0f921"
             ]
            ],
            "type": "heatmap"
           }
          ],
          "heatmapgl": [
           {
            "colorbar": {
             "outlinewidth": 0,
             "ticks": ""
            },
            "colorscale": [
             [
              0,
              "#0d0887"
             ],
             [
              0.1111111111111111,
              "#46039f"
             ],
             [
              0.2222222222222222,
              "#7201a8"
             ],
             [
              0.3333333333333333,
              "#9c179e"
             ],
             [
              0.4444444444444444,
              "#bd3786"
             ],
             [
              0.5555555555555556,
              "#d8576b"
             ],
             [
              0.6666666666666666,
              "#ed7953"
             ],
             [
              0.7777777777777778,
              "#fb9f3a"
             ],
             [
              0.8888888888888888,
              "#fdca26"
             ],
             [
              1,
              "#f0f921"
             ]
            ],
            "type": "heatmapgl"
           }
          ],
          "histogram": [
           {
            "marker": {
             "pattern": {
              "fillmode": "overlay",
              "size": 10,
              "solidity": 0.2
             }
            },
            "type": "histogram"
           }
          ],
          "histogram2d": [
           {
            "colorbar": {
             "outlinewidth": 0,
             "ticks": ""
            },
            "colorscale": [
             [
              0,
              "#0d0887"
             ],
             [
              0.1111111111111111,
              "#46039f"
             ],
             [
              0.2222222222222222,
              "#7201a8"
             ],
             [
              0.3333333333333333,
              "#9c179e"
             ],
             [
              0.4444444444444444,
              "#bd3786"
             ],
             [
              0.5555555555555556,
              "#d8576b"
             ],
             [
              0.6666666666666666,
              "#ed7953"
             ],
             [
              0.7777777777777778,
              "#fb9f3a"
             ],
             [
              0.8888888888888888,
              "#fdca26"
             ],
             [
              1,
              "#f0f921"
             ]
            ],
            "type": "histogram2d"
           }
          ],
          "histogram2dcontour": [
           {
            "colorbar": {
             "outlinewidth": 0,
             "ticks": ""
            },
            "colorscale": [
             [
              0,
              "#0d0887"
             ],
             [
              0.1111111111111111,
              "#46039f"
             ],
             [
              0.2222222222222222,
              "#7201a8"
             ],
             [
              0.3333333333333333,
              "#9c179e"
             ],
             [
              0.4444444444444444,
              "#bd3786"
             ],
             [
              0.5555555555555556,
              "#d8576b"
             ],
             [
              0.6666666666666666,
              "#ed7953"
             ],
             [
              0.7777777777777778,
              "#fb9f3a"
             ],
             [
              0.8888888888888888,
              "#fdca26"
             ],
             [
              1,
              "#f0f921"
             ]
            ],
            "type": "histogram2dcontour"
           }
          ],
          "mesh3d": [
           {
            "colorbar": {
             "outlinewidth": 0,
             "ticks": ""
            },
            "type": "mesh3d"
           }
          ],
          "parcoords": [
           {
            "line": {
             "colorbar": {
              "outlinewidth": 0,
              "ticks": ""
             }
            },
            "type": "parcoords"
           }
          ],
          "pie": [
           {
            "automargin": true,
            "type": "pie"
           }
          ],
          "scatter": [
           {
            "marker": {
             "line": {
              "color": "#283442"
             }
            },
            "type": "scatter"
           }
          ],
          "scatter3d": [
           {
            "line": {
             "colorbar": {
              "outlinewidth": 0,
              "ticks": ""
             }
            },
            "marker": {
             "colorbar": {
              "outlinewidth": 0,
              "ticks": ""
             }
            },
            "type": "scatter3d"
           }
          ],
          "scattercarpet": [
           {
            "marker": {
             "colorbar": {
              "outlinewidth": 0,
              "ticks": ""
             }
            },
            "type": "scattercarpet"
           }
          ],
          "scattergeo": [
           {
            "marker": {
             "colorbar": {
              "outlinewidth": 0,
              "ticks": ""
             }
            },
            "type": "scattergeo"
           }
          ],
          "scattergl": [
           {
            "marker": {
             "line": {
              "color": "#283442"
             }
            },
            "type": "scattergl"
           }
          ],
          "scattermapbox": [
           {
            "marker": {
             "colorbar": {
              "outlinewidth": 0,
              "ticks": ""
             }
            },
            "type": "scattermapbox"
           }
          ],
          "scatterpolar": [
           {
            "marker": {
             "colorbar": {
              "outlinewidth": 0,
              "ticks": ""
             }
            },
            "type": "scatterpolar"
           }
          ],
          "scatterpolargl": [
           {
            "marker": {
             "colorbar": {
              "outlinewidth": 0,
              "ticks": ""
             }
            },
            "type": "scatterpolargl"
           }
          ],
          "scatterternary": [
           {
            "marker": {
             "colorbar": {
              "outlinewidth": 0,
              "ticks": ""
             }
            },
            "type": "scatterternary"
           }
          ],
          "surface": [
           {
            "colorbar": {
             "outlinewidth": 0,
             "ticks": ""
            },
            "colorscale": [
             [
              0,
              "#0d0887"
             ],
             [
              0.1111111111111111,
              "#46039f"
             ],
             [
              0.2222222222222222,
              "#7201a8"
             ],
             [
              0.3333333333333333,
              "#9c179e"
             ],
             [
              0.4444444444444444,
              "#bd3786"
             ],
             [
              0.5555555555555556,
              "#d8576b"
             ],
             [
              0.6666666666666666,
              "#ed7953"
             ],
             [
              0.7777777777777778,
              "#fb9f3a"
             ],
             [
              0.8888888888888888,
              "#fdca26"
             ],
             [
              1,
              "#f0f921"
             ]
            ],
            "type": "surface"
           }
          ],
          "table": [
           {
            "cells": {
             "fill": {
              "color": "#506784"
             },
             "line": {
              "color": "rgb(17,17,17)"
             }
            },
            "header": {
             "fill": {
              "color": "#2a3f5f"
             },
             "line": {
              "color": "rgb(17,17,17)"
             }
            },
            "type": "table"
           }
          ]
         },
         "layout": {
          "annotationdefaults": {
           "arrowcolor": "#f2f5fa",
           "arrowhead": 0,
           "arrowwidth": 1
          },
          "autotypenumbers": "strict",
          "coloraxis": {
           "colorbar": {
            "outlinewidth": 0,
            "ticks": ""
           }
          },
          "colorscale": {
           "diverging": [
            [
             0,
             "#8e0152"
            ],
            [
             0.1,
             "#c51b7d"
            ],
            [
             0.2,
             "#de77ae"
            ],
            [
             0.3,
             "#f1b6da"
            ],
            [
             0.4,
             "#fde0ef"
            ],
            [
             0.5,
             "#f7f7f7"
            ],
            [
             0.6,
             "#e6f5d0"
            ],
            [
             0.7,
             "#b8e186"
            ],
            [
             0.8,
             "#7fbc41"
            ],
            [
             0.9,
             "#4d9221"
            ],
            [
             1,
             "#276419"
            ]
           ],
           "sequential": [
            [
             0,
             "#0d0887"
            ],
            [
             0.1111111111111111,
             "#46039f"
            ],
            [
             0.2222222222222222,
             "#7201a8"
            ],
            [
             0.3333333333333333,
             "#9c179e"
            ],
            [
             0.4444444444444444,
             "#bd3786"
            ],
            [
             0.5555555555555556,
             "#d8576b"
            ],
            [
             0.6666666666666666,
             "#ed7953"
            ],
            [
             0.7777777777777778,
             "#fb9f3a"
            ],
            [
             0.8888888888888888,
             "#fdca26"
            ],
            [
             1,
             "#f0f921"
            ]
           ],
           "sequentialminus": [
            [
             0,
             "#0d0887"
            ],
            [
             0.1111111111111111,
             "#46039f"
            ],
            [
             0.2222222222222222,
             "#7201a8"
            ],
            [
             0.3333333333333333,
             "#9c179e"
            ],
            [
             0.4444444444444444,
             "#bd3786"
            ],
            [
             0.5555555555555556,
             "#d8576b"
            ],
            [
             0.6666666666666666,
             "#ed7953"
            ],
            [
             0.7777777777777778,
             "#fb9f3a"
            ],
            [
             0.8888888888888888,
             "#fdca26"
            ],
            [
             1,
             "#f0f921"
            ]
           ]
          },
          "colorway": [
           "#636efa",
           "#EF553B",
           "#00cc96",
           "#ab63fa",
           "#FFA15A",
           "#19d3f3",
           "#FF6692",
           "#B6E880",
           "#FF97FF",
           "#FECB52"
          ],
          "font": {
           "color": "#f2f5fa"
          },
          "geo": {
           "bgcolor": "rgb(17,17,17)",
           "lakecolor": "rgb(17,17,17)",
           "landcolor": "rgb(17,17,17)",
           "showlakes": true,
           "showland": true,
           "subunitcolor": "#506784"
          },
          "hoverlabel": {
           "align": "left"
          },
          "hovermode": "closest",
          "mapbox": {
           "style": "dark"
          },
          "paper_bgcolor": "rgb(17,17,17)",
          "plot_bgcolor": "rgb(17,17,17)",
          "polar": {
           "angularaxis": {
            "gridcolor": "#506784",
            "linecolor": "#506784",
            "ticks": ""
           },
           "bgcolor": "rgb(17,17,17)",
           "radialaxis": {
            "gridcolor": "#506784",
            "linecolor": "#506784",
            "ticks": ""
           }
          },
          "scene": {
           "xaxis": {
            "backgroundcolor": "rgb(17,17,17)",
            "gridcolor": "#506784",
            "gridwidth": 2,
            "linecolor": "#506784",
            "showbackground": true,
            "ticks": "",
            "zerolinecolor": "#C8D4E3"
           },
           "yaxis": {
            "backgroundcolor": "rgb(17,17,17)",
            "gridcolor": "#506784",
            "gridwidth": 2,
            "linecolor": "#506784",
            "showbackground": true,
            "ticks": "",
            "zerolinecolor": "#C8D4E3"
           },
           "zaxis": {
            "backgroundcolor": "rgb(17,17,17)",
            "gridcolor": "#506784",
            "gridwidth": 2,
            "linecolor": "#506784",
            "showbackground": true,
            "ticks": "",
            "zerolinecolor": "#C8D4E3"
           }
          },
          "shapedefaults": {
           "line": {
            "color": "#f2f5fa"
           }
          },
          "sliderdefaults": {
           "bgcolor": "#C8D4E3",
           "bordercolor": "rgb(17,17,17)",
           "borderwidth": 1,
           "tickwidth": 0
          },
          "ternary": {
           "aaxis": {
            "gridcolor": "#506784",
            "linecolor": "#506784",
            "ticks": ""
           },
           "baxis": {
            "gridcolor": "#506784",
            "linecolor": "#506784",
            "ticks": ""
           },
           "bgcolor": "rgb(17,17,17)",
           "caxis": {
            "gridcolor": "#506784",
            "linecolor": "#506784",
            "ticks": ""
           }
          },
          "title": {
           "x": 0.05
          },
          "updatemenudefaults": {
           "bgcolor": "#506784",
           "borderwidth": 0
          },
          "xaxis": {
           "automargin": true,
           "gridcolor": "#283442",
           "linecolor": "#506784",
           "ticks": "",
           "title": {
            "standoff": 15
           },
           "zerolinecolor": "#283442",
           "zerolinewidth": 2
          },
          "yaxis": {
           "automargin": true,
           "gridcolor": "#283442",
           "linecolor": "#506784",
           "ticks": "",
           "title": {
            "standoff": 15
           },
           "zerolinecolor": "#283442",
           "zerolinewidth": 2
          }
         }
        },
        "title": {
         "text": "Bollinger Bands and Moving Averages"
        }
       }
      },
      "text/html": [
       "<div>                            <div id=\"b7aeb458-0a25-44e7-ad60-f1a5cedfdf63\" class=\"plotly-graph-div\" style=\"height:525px; width:100%;\"></div>            <script type=\"text/javascript\">                require([\"plotly\"], function(Plotly) {                    window.PLOTLYENV=window.PLOTLYENV || {};                                    if (document.getElementById(\"b7aeb458-0a25-44e7-ad60-f1a5cedfdf63\")) {                    Plotly.newPlot(                        \"b7aeb458-0a25-44e7-ad60-f1a5cedfdf63\",                        [{\"name\":\"Close\",\"x\":[\"2022-02-14T00:00:00\",\"2022-02-15T00:00:00\",\"2022-02-16T00:00:00\",\"2022-02-17T00:00:00\",\"2022-02-18T00:00:00\",\"2022-02-21T00:00:00\",\"2022-02-22T00:00:00\",\"2022-02-23T00:00:00\",\"2022-02-24T00:00:00\",\"2022-02-25T00:00:00\",\"2022-02-28T00:00:00\",\"2022-03-02T00:00:00\",\"2022-03-03T00:00:00\",\"2022-03-04T00:00:00\",\"2022-03-07T00:00:00\",\"2022-03-08T00:00:00\",\"2022-03-09T00:00:00\",\"2022-03-10T00:00:00\",\"2022-03-11T00:00:00\",\"2022-03-14T00:00:00\",\"2022-03-15T00:00:00\",\"2022-03-16T00:00:00\",\"2022-03-17T00:00:00\",\"2022-03-21T00:00:00\",\"2022-03-22T00:00:00\",\"2022-03-23T00:00:00\",\"2022-03-24T00:00:00\",\"2022-03-25T00:00:00\",\"2022-03-28T00:00:00\",\"2022-03-29T00:00:00\",\"2022-03-30T00:00:00\",\"2022-03-31T00:00:00\",\"2022-04-01T00:00:00\",\"2022-04-04T00:00:00\",\"2022-04-05T00:00:00\",\"2022-04-06T00:00:00\",\"2022-04-07T00:00:00\",\"2022-04-08T00:00:00\",\"2022-04-11T00:00:00\",\"2022-04-12T00:00:00\",\"2022-04-13T00:00:00\",\"2022-04-18T00:00:00\",\"2022-04-19T00:00:00\",\"2022-04-20T00:00:00\",\"2022-04-21T00:00:00\",\"2022-04-22T00:00:00\",\"2022-04-25T00:00:00\",\"2022-04-26T00:00:00\",\"2022-04-27T00:00:00\",\"2022-04-28T00:00:00\",\"2022-04-29T00:00:00\",\"2022-05-02T00:00:00\",\"2022-05-04T00:00:00\",\"2022-05-05T00:00:00\",\"2022-05-06T00:00:00\",\"2022-05-09T00:00:00\",\"2022-05-10T00:00:00\",\"2022-05-11T00:00:00\",\"2022-05-12T00:00:00\",\"2022-05-13T00:00:00\",\"2022-05-16T00:00:00\",\"2022-05-17T00:00:00\",\"2022-05-18T00:00:00\",\"2022-05-19T00:00:00\",\"2022-05-20T00:00:00\",\"2022-05-23T00:00:00\",\"2022-05-24T00:00:00\",\"2022-05-25T00:00:00\",\"2022-05-26T00:00:00\",\"2022-05-27T00:00:00\",\"2022-05-30T00:00:00\",\"2022-05-31T00:00:00\",\"2022-06-01T00:00:00\",\"2022-06-02T00:00:00\",\"2022-06-03T00:00:00\",\"2022-06-06T00:00:00\",\"2022-06-07T00:00:00\",\"2022-06-08T00:00:00\",\"2022-06-09T00:00:00\",\"2022-06-10T00:00:00\",\"2022-06-13T00:00:00\",\"2022-06-14T00:00:00\",\"2022-06-15T00:00:00\",\"2022-06-16T00:00:00\",\"2022-06-17T00:00:00\",\"2022-06-20T00:00:00\",\"2022-06-21T00:00:00\",\"2022-06-22T00:00:00\",\"2022-06-23T00:00:00\",\"2022-06-24T00:00:00\",\"2022-06-27T00:00:00\",\"2022-06-28T00:00:00\",\"2022-06-29T00:00:00\",\"2022-06-30T00:00:00\",\"2022-07-01T00:00:00\",\"2022-07-04T00:00:00\",\"2022-07-05T00:00:00\",\"2022-07-06T00:00:00\",\"2022-07-07T00:00:00\",\"2022-07-08T00:00:00\",\"2022-07-11T00:00:00\",\"2022-07-12T00:00:00\",\"2022-07-13T00:00:00\",\"2022-07-14T00:00:00\",\"2022-07-15T00:00:00\",\"2022-07-18T00:00:00\",\"2022-07-19T00:00:00\",\"2022-07-20T00:00:00\",\"2022-07-21T00:00:00\",\"2022-07-22T00:00:00\",\"2022-07-25T00:00:00\",\"2022-07-26T00:00:00\",\"2022-07-27T00:00:00\",\"2022-07-28T00:00:00\",\"2022-07-29T00:00:00\",\"2022-08-01T00:00:00\",\"2022-08-02T00:00:00\",\"2022-08-03T00:00:00\",\"2022-08-04T00:00:00\",\"2022-08-05T00:00:00\",\"2022-08-08T00:00:00\",\"2022-08-10T00:00:00\",\"2022-08-11T00:00:00\",\"2022-08-12T00:00:00\",\"2022-08-16T00:00:00\",\"2022-08-17T00:00:00\",\"2022-08-18T00:00:00\",\"2022-08-19T00:00:00\",\"2022-08-22T00:00:00\",\"2022-08-23T00:00:00\",\"2022-08-24T00:00:00\",\"2022-08-25T00:00:00\",\"2022-08-26T00:00:00\",\"2022-08-29T00:00:00\",\"2022-08-30T00:00:00\",\"2022-09-01T00:00:00\",\"2022-09-02T00:00:00\",\"2022-09-05T00:00:00\",\"2022-09-06T00:00:00\",\"2022-09-07T00:00:00\",\"2022-09-08T00:00:00\",\"2022-09-09T00:00:00\",\"2022-09-12T00:00:00\",\"2022-09-13T00:00:00\",\"2022-09-14T00:00:00\",\"2022-09-15T00:00:00\",\"2022-09-16T00:00:00\",\"2022-09-19T00:00:00\",\"2022-09-20T00:00:00\",\"2022-09-21T00:00:00\",\"2022-09-22T00:00:00\",\"2022-09-23T00:00:00\",\"2022-09-26T00:00:00\",\"2022-09-27T00:00:00\",\"2022-09-28T00:00:00\",\"2022-09-29T00:00:00\",\"2022-09-30T00:00:00\",\"2022-10-03T00:00:00\",\"2022-10-04T00:00:00\",\"2022-10-06T00:00:00\",\"2022-10-07T00:00:00\",\"2022-10-10T00:00:00\",\"2022-10-11T00:00:00\",\"2022-10-12T00:00:00\",\"2022-10-13T00:00:00\",\"2022-10-14T00:00:00\",\"2022-10-17T00:00:00\",\"2022-10-18T00:00:00\",\"2022-10-19T00:00:00\",\"2022-10-20T00:00:00\",\"2022-10-21T00:00:00\",\"2022-10-24T00:00:00\",\"2022-10-25T00:00:00\",\"2022-10-27T00:00:00\",\"2022-10-28T00:00:00\",\"2022-10-31T00:00:00\",\"2022-11-01T00:00:00\",\"2022-11-02T00:00:00\",\"2022-11-03T00:00:00\",\"2022-11-04T00:00:00\",\"2022-11-07T00:00:00\",\"2022-11-09T00:00:00\",\"2022-11-10T00:00:00\",\"2022-11-11T00:00:00\",\"2022-11-14T00:00:00\",\"2022-11-15T00:00:00\",\"2022-11-16T00:00:00\",\"2022-11-17T00:00:00\",\"2022-11-18T00:00:00\",\"2022-11-21T00:00:00\",\"2022-11-22T00:00:00\",\"2022-11-23T00:00:00\",\"2022-11-24T00:00:00\",\"2022-11-25T00:00:00\",\"2022-11-28T00:00:00\",\"2022-11-29T00:00:00\",\"2022-11-30T00:00:00\",\"2022-12-01T00:00:00\",\"2022-12-02T00:00:00\",\"2022-12-05T00:00:00\",\"2022-12-06T00:00:00\",\"2022-12-07T00:00:00\",\"2022-12-08T00:00:00\",\"2022-12-09T00:00:00\",\"2022-12-12T00:00:00\",\"2022-12-13T00:00:00\",\"2022-12-14T00:00:00\",\"2022-12-15T00:00:00\",\"2022-12-16T00:00:00\",\"2022-12-19T00:00:00\",\"2022-12-20T00:00:00\",\"2022-12-21T00:00:00\",\"2022-12-22T00:00:00\",\"2022-12-23T00:00:00\",\"2022-12-26T00:00:00\",\"2022-12-27T00:00:00\",\"2022-12-28T00:00:00\",\"2022-12-29T00:00:00\",\"2022-12-30T00:00:00\"],\"y\":[361.70001220703125,368.8999938964844,374.1000061035156,373.0,373.1499938964844,368.75,355.29998779296875,357.1000061035156,333.04998779296875,336.3500061035156,349.79998779296875,342.1000061035156,346.3999938964844,348.3500061035156,338.0,341.6000061035156,342.6499938964844,349.0,362.0,359.6499938964844,350.29998779296875,356.29998779296875,364.20001220703125,357.20001220703125,368.3999938964844,366.6000061035156,362.6000061035156,360.29998779296875,359.70001220703125,358.45001220703125,360.04998779296875,359.3500061035156,374.3999938964844,380.20001220703125,380.0,385.79998779296875,380.79998779296875,384.54998779296875,388.3500061035156,380.6000061035156,379.0,371.75,375.8500061035156,389.95001220703125,397.70001220703125,393.3999938964844,369.70001220703125,372.8500061035156,366.5,369.3500061035156,362.6000061035156,366.45001220703125,363.45001220703125,361.0,357.29998779296875,353.3999938964844,353.45001220703125,347.1000061035156,339.95001220703125,336.95001220703125,336.1000061035156,342.45001220703125,331.8999938964844,326.6499938964844,332.79998779296875,332.1000061035156,330.1000061035156,326.1499938964844,324.3500061035156,322.3500061035156,329.1499938964844,326.20001220703125,326.0,329.3500061035156,328.1499938964844,319.3500061035156,320.25,323.8999938964844,332.8500061035156,331.0,317.95001220703125,314.29998779296875,314.0,311.6499938964844,301.0,296.04998779296875,301.20001220703125,305.8999938964844,307.8999938964844,307.54998779296875,315.0,318.6000061035156,316.3999938964844,308.3999938964844,318.3500061035156,316.3500061035156,313.1000061035156,321.29998779296875,329.3999938964844,325.29998779296875,315.8999938964844,308.6499938964844,310.5,306.1499938964844,312.1000061035156,315.79998779296875,316.54998779296875,317.1000061035156,322.70001220703125,320.29998779296875,317.1499938964844,318.45001220703125,324.6000061035156,326.04998779296875,330.29998779296875,334.1499938964844,335.1499938964844,333.8999938964844,333.95001220703125,336.3999938964844,325.6499938964844,328.29998779296875,328.3500061035156,333.8999938964844,345.8999938964844,353.1499938964844,347.04998779296875,338.25,333.6499938964844,333.70001220703125,329.54998779296875,329.79998779296875,329.1000061035156,326.20001220703125,328.6499938964844,331.3500061035156,321.95001220703125,324.75,324.25,326.8500061035156,339.8500061035156,338.5,342.6000061035156,341.04998779296875,336.1499938964844,331.3999938964844,321.29998779296875,320.8999938964844,322.8999938964844,320.04998779296875,315.8500061035156,311.95001220703125,304.8999938964844,310.6499938964844,306.0,303.25,304.79998779296875,308.79998779296875,311.45001220703125,312.1499938964844,307.3999938964844,304.6499938964844,299.75,302.5,300.29998779296875,297.8500061035156,296.54998779296875,295.75,292.1499938964844,297.1000061035156,298.3500061035156,300.75,302.6000061035156,305.6000061035156,303.29998779296875,303.6499938964844,304.3500061035156,305.20001220703125,305.1000061035156,301.3500061035156,309.75,306.8500061035156,305.5,308.8999938964844,307.6499938964844,308.8999938964844,306.45001220703125,305.20001220703125,304.1000061035156,310.29998779296875,306.8500061035156,310.1499938964844,321.0,324.45001220703125,340.75,339.04998779296875,341.1499938964844,338.6000061035156,341.1000061035156,338.3999938964844,328.54998779296875,334.3500061035156,335.75,338.45001220703125,349.0,346.1499938964844,348.75,349.1499938964844,341.75,341.29998779296875,340.25,334.1000061035156,327.8999938964844,325.1000061035156,325.1000061035156,326.0,324.1000061035156,327.20001220703125,330.5],\"type\":\"scatter\"},{\"name\":\"Moving Average 20\",\"x\":[\"2022-02-14T00:00:00\",\"2022-02-15T00:00:00\",\"2022-02-16T00:00:00\",\"2022-02-17T00:00:00\",\"2022-02-18T00:00:00\",\"2022-02-21T00:00:00\",\"2022-02-22T00:00:00\",\"2022-02-23T00:00:00\",\"2022-02-24T00:00:00\",\"2022-02-25T00:00:00\",\"2022-02-28T00:00:00\",\"2022-03-02T00:00:00\",\"2022-03-03T00:00:00\",\"2022-03-04T00:00:00\",\"2022-03-07T00:00:00\",\"2022-03-08T00:00:00\",\"2022-03-09T00:00:00\",\"2022-03-10T00:00:00\",\"2022-03-11T00:00:00\",\"2022-03-14T00:00:00\",\"2022-03-15T00:00:00\",\"2022-03-16T00:00:00\",\"2022-03-17T00:00:00\",\"2022-03-21T00:00:00\",\"2022-03-22T00:00:00\",\"2022-03-23T00:00:00\",\"2022-03-24T00:00:00\",\"2022-03-25T00:00:00\",\"2022-03-28T00:00:00\",\"2022-03-29T00:00:00\",\"2022-03-30T00:00:00\",\"2022-03-31T00:00:00\",\"2022-04-01T00:00:00\",\"2022-04-04T00:00:00\",\"2022-04-05T00:00:00\",\"2022-04-06T00:00:00\",\"2022-04-07T00:00:00\",\"2022-04-08T00:00:00\",\"2022-04-11T00:00:00\",\"2022-04-12T00:00:00\",\"2022-04-13T00:00:00\",\"2022-04-18T00:00:00\",\"2022-04-19T00:00:00\",\"2022-04-20T00:00:00\",\"2022-04-21T00:00:00\",\"2022-04-22T00:00:00\",\"2022-04-25T00:00:00\",\"2022-04-26T00:00:00\",\"2022-04-27T00:00:00\",\"2022-04-28T00:00:00\",\"2022-04-29T00:00:00\",\"2022-05-02T00:00:00\",\"2022-05-04T00:00:00\",\"2022-05-05T00:00:00\",\"2022-05-06T00:00:00\",\"2022-05-09T00:00:00\",\"2022-05-10T00:00:00\",\"2022-05-11T00:00:00\",\"2022-05-12T00:00:00\",\"2022-05-13T00:00:00\",\"2022-05-16T00:00:00\",\"2022-05-17T00:00:00\",\"2022-05-18T00:00:00\",\"2022-05-19T00:00:00\",\"2022-05-20T00:00:00\",\"2022-05-23T00:00:00\",\"2022-05-24T00:00:00\",\"2022-05-25T00:00:00\",\"2022-05-26T00:00:00\",\"2022-05-27T00:00:00\",\"2022-05-30T00:00:00\",\"2022-05-31T00:00:00\",\"2022-06-01T00:00:00\",\"2022-06-02T00:00:00\",\"2022-06-03T00:00:00\",\"2022-06-06T00:00:00\",\"2022-06-07T00:00:00\",\"2022-06-08T00:00:00\",\"2022-06-09T00:00:00\",\"2022-06-10T00:00:00\",\"2022-06-13T00:00:00\",\"2022-06-14T00:00:00\",\"2022-06-15T00:00:00\",\"2022-06-16T00:00:00\",\"2022-06-17T00:00:00\",\"2022-06-20T00:00:00\",\"2022-06-21T00:00:00\",\"2022-06-22T00:00:00\",\"2022-06-23T00:00:00\",\"2022-06-24T00:00:00\",\"2022-06-27T00:00:00\",\"2022-06-28T00:00:00\",\"2022-06-29T00:00:00\",\"2022-06-30T00:00:00\",\"2022-07-01T00:00:00\",\"2022-07-04T00:00:00\",\"2022-07-05T00:00:00\",\"2022-07-06T00:00:00\",\"2022-07-07T00:00:00\",\"2022-07-08T00:00:00\",\"2022-07-11T00:00:00\",\"2022-07-12T00:00:00\",\"2022-07-13T00:00:00\",\"2022-07-14T00:00:00\",\"2022-07-15T00:00:00\",\"2022-07-18T00:00:00\",\"2022-07-19T00:00:00\",\"2022-07-20T00:00:00\",\"2022-07-21T00:00:00\",\"2022-07-22T00:00:00\",\"2022-07-25T00:00:00\",\"2022-07-26T00:00:00\",\"2022-07-27T00:00:00\",\"2022-07-28T00:00:00\",\"2022-07-29T00:00:00\",\"2022-08-01T00:00:00\",\"2022-08-02T00:00:00\",\"2022-08-03T00:00:00\",\"2022-08-04T00:00:00\",\"2022-08-05T00:00:00\",\"2022-08-08T00:00:00\",\"2022-08-10T00:00:00\",\"2022-08-11T00:00:00\",\"2022-08-12T00:00:00\",\"2022-08-16T00:00:00\",\"2022-08-17T00:00:00\",\"2022-08-18T00:00:00\",\"2022-08-19T00:00:00\",\"2022-08-22T00:00:00\",\"2022-08-23T00:00:00\",\"2022-08-24T00:00:00\",\"2022-08-25T00:00:00\",\"2022-08-26T00:00:00\",\"2022-08-29T00:00:00\",\"2022-08-30T00:00:00\",\"2022-09-01T00:00:00\",\"2022-09-02T00:00:00\",\"2022-09-05T00:00:00\",\"2022-09-06T00:00:00\",\"2022-09-07T00:00:00\",\"2022-09-08T00:00:00\",\"2022-09-09T00:00:00\",\"2022-09-12T00:00:00\",\"2022-09-13T00:00:00\",\"2022-09-14T00:00:00\",\"2022-09-15T00:00:00\",\"2022-09-16T00:00:00\",\"2022-09-19T00:00:00\",\"2022-09-20T00:00:00\",\"2022-09-21T00:00:00\",\"2022-09-22T00:00:00\",\"2022-09-23T00:00:00\",\"2022-09-26T00:00:00\",\"2022-09-27T00:00:00\",\"2022-09-28T00:00:00\",\"2022-09-29T00:00:00\",\"2022-09-30T00:00:00\",\"2022-10-03T00:00:00\",\"2022-10-04T00:00:00\",\"2022-10-06T00:00:00\",\"2022-10-07T00:00:00\",\"2022-10-10T00:00:00\",\"2022-10-11T00:00:00\",\"2022-10-12T00:00:00\",\"2022-10-13T00:00:00\",\"2022-10-14T00:00:00\",\"2022-10-17T00:00:00\",\"2022-10-18T00:00:00\",\"2022-10-19T00:00:00\",\"2022-10-20T00:00:00\",\"2022-10-21T00:00:00\",\"2022-10-24T00:00:00\",\"2022-10-25T00:00:00\",\"2022-10-27T00:00:00\",\"2022-10-28T00:00:00\",\"2022-10-31T00:00:00\",\"2022-11-01T00:00:00\",\"2022-11-02T00:00:00\",\"2022-11-03T00:00:00\",\"2022-11-04T00:00:00\",\"2022-11-07T00:00:00\",\"2022-11-09T00:00:00\",\"2022-11-10T00:00:00\",\"2022-11-11T00:00:00\",\"2022-11-14T00:00:00\",\"2022-11-15T00:00:00\",\"2022-11-16T00:00:00\",\"2022-11-17T00:00:00\",\"2022-11-18T00:00:00\",\"2022-11-21T00:00:00\",\"2022-11-22T00:00:00\",\"2022-11-23T00:00:00\",\"2022-11-24T00:00:00\",\"2022-11-25T00:00:00\",\"2022-11-28T00:00:00\",\"2022-11-29T00:00:00\",\"2022-11-30T00:00:00\",\"2022-12-01T00:00:00\",\"2022-12-02T00:00:00\",\"2022-12-05T00:00:00\",\"2022-12-06T00:00:00\",\"2022-12-07T00:00:00\",\"2022-12-08T00:00:00\",\"2022-12-09T00:00:00\",\"2022-12-12T00:00:00\",\"2022-12-13T00:00:00\",\"2022-12-14T00:00:00\",\"2022-12-15T00:00:00\",\"2022-12-16T00:00:00\",\"2022-12-19T00:00:00\",\"2022-12-20T00:00:00\",\"2022-12-21T00:00:00\",\"2022-12-22T00:00:00\",\"2022-12-23T00:00:00\",\"2022-12-26T00:00:00\",\"2022-12-27T00:00:00\",\"2022-12-28T00:00:00\",\"2022-12-29T00:00:00\",\"2022-12-30T00:00:00\"],\"y\":[null,null,null,null,null,null,null,null,null,null,null,null,null,null,null,null,null,null,null,354.04749908447263,353.47749786376954,352.8474975585938,352.35249786376954,351.56249847412107,351.3249984741211,351.2174987792969,351.5824996948242,351.74249877929685,353.075,354.1800003051758,354.69250030517577,355.5550003051758,356.95500030517576,358.54750061035156,360.6475006103516,362.85749969482424,364.76499938964844,366.54249877929686,367.85999908447263,368.9074996948242,370.3425003051758,371.11500091552733,371.69750061035154,373.3350006103516,374.8000015258789,376.14000091552737,376.4950012207031,377.1225021362305,377.4625015258789,378.00750122070315,378.13500213623047,378.49000244140626,377.94250335693357,376.98250274658204,375.84750213623045,374.2275024414063,372.86000366210936,370.98750457763674,368.5675048828125,366.38500518798827,364.24000549316406,362.77500610351564,360.57750549316404,357.4125045776367,354.1675033569336,351.10250396728514,349.12250366210935,346.7875030517578,344.6800033569336,342.3300033569336,340.65750274658205,338.645002746582,336.77250213623046,335.19000244140625,333.73250274658204,332.0300033569336,330.37000274658203,329.21000213623046,328.85500183105466,328.5575012207031,327.6500015258789,326.2425003051758,325.3475006103516,324.5975006103516,323.00750122070315,321.20500030517576,319.76000061035154,318.74750061035155,317.925,317.1849990844727,316.4774993896484,316.09749908447264,315.61749877929685,314.5699981689453,314.0799987792969,313.92999877929685,313.57249908447267,313.4424987792969,313.26999816894534,312.98499755859376,312.8824966430664,312.59999694824216,312.4249969482422,312.1499969482422,312.70499725341796,313.69249725341797,314.45999603271486,315.0199966430664,315.75999755859374,316.3974975585937,316.50499725341797,316.49749755859375,316.9074981689453,317.78999786376954,318.3874969482422,319.2774963378906,320.37999572753904,321.00999603271487,321.2374969482422,321.792497253418,322.27999725341795,323.2624969482422,324.15499725341795,325.542497253418,327.2324966430664,329.09999694824216,330.6249969482422,331.68249664306643,332.22999572753906,332.8999969482422,333.5199966430664,334.0874954223633,334.31249542236327,334.3199966430664,334.2374969482422,334.0974975585938,333.43749847412107,332.97999877929686,332.4949981689453,332.0174987792969,332.7274993896484,333.2375,333.95,334.30749969482423,333.8199996948242,332.73249969482424,331.4449996948242,330.57749938964844,330.0399993896484,329.3574981689453,328.67249908447263,327.7800003051758,326.5699996948242,325.79249877929686,324.65999908447264,323.2549987792969,322.3974975585937,321.59999694824216,320.9599975585937,320.22499694824216,318.6024963378906,316.90999603271484,314.7674957275391,312.8399963378906,311.04749603271483,309.36999664306643,308.1324966430664,306.8749969482422,305.3374969482422,304.1899978637695,303.3149978637695,302.75499725341797,302.6399978637695,302.3874984741211,302.2524978637695,302.2724975585937,302.24999847412107,302.0699996948242,301.75249938964845,301.2125,301.33000030517576,301.4400009155273,301.72750091552734,302.04750061035156,302.41500091552734,302.9675003051758,303.4625015258789,303.9350021362305,304.53250274658205,305.1925018310547,305.6175018310547,306.0875015258789,307.00750122070315,307.9500015258789,309.82250213623047,311.5925018310547,313.4325012207031,315.10250091552734,316.90250091552736,318.75500030517577,319.6949996948242,321.0699996948242,322.5824996948242,324.06000061035155,326.1275009155273,327.99000091552733,330.1050003051758,332.30249938964846,334.1849990844727,335.73499908447263,337.4049987792969,338.6024993896484,338.94749908447267,338.97999877929686,338.19749908447267,337.54499969482424,336.69250030517577,336.12250061035155,335.5925003051758],\"type\":\"scatter\"},{\"name\":\"Upper Band\",\"x\":[\"2022-02-14T00:00:00\",\"2022-02-15T00:00:00\",\"2022-02-16T00:00:00\",\"2022-02-17T00:00:00\",\"2022-02-18T00:00:00\",\"2022-02-21T00:00:00\",\"2022-02-22T00:00:00\",\"2022-02-23T00:00:00\",\"2022-02-24T00:00:00\",\"2022-02-25T00:00:00\",\"2022-02-28T00:00:00\",\"2022-03-02T00:00:00\",\"2022-03-03T00:00:00\",\"2022-03-04T00:00:00\",\"2022-03-07T00:00:00\",\"2022-03-08T00:00:00\",\"2022-03-09T00:00:00\",\"2022-03-10T00:00:00\",\"2022-03-11T00:00:00\",\"2022-03-14T00:00:00\",\"2022-03-15T00:00:00\",\"2022-03-16T00:00:00\",\"2022-03-17T00:00:00\",\"2022-03-21T00:00:00\",\"2022-03-22T00:00:00\",\"2022-03-23T00:00:00\",\"2022-03-24T00:00:00\",\"2022-03-25T00:00:00\",\"2022-03-28T00:00:00\",\"2022-03-29T00:00:00\",\"2022-03-30T00:00:00\",\"2022-03-31T00:00:00\",\"2022-04-01T00:00:00\",\"2022-04-04T00:00:00\",\"2022-04-05T00:00:00\",\"2022-04-06T00:00:00\",\"2022-04-07T00:00:00\",\"2022-04-08T00:00:00\",\"2022-04-11T00:00:00\",\"2022-04-12T00:00:00\",\"2022-04-13T00:00:00\",\"2022-04-18T00:00:00\",\"2022-04-19T00:00:00\",\"2022-04-20T00:00:00\",\"2022-04-21T00:00:00\",\"2022-04-22T00:00:00\",\"2022-04-25T00:00:00\",\"2022-04-26T00:00:00\",\"2022-04-27T00:00:00\",\"2022-04-28T00:00:00\",\"2022-04-29T00:00:00\",\"2022-05-02T00:00:00\",\"2022-05-04T00:00:00\",\"2022-05-05T00:00:00\",\"2022-05-06T00:00:00\",\"2022-05-09T00:00:00\",\"2022-05-10T00:00:00\",\"2022-05-11T00:00:00\",\"2022-05-12T00:00:00\",\"2022-05-13T00:00:00\",\"2022-05-16T00:00:00\",\"2022-05-17T00:00:00\",\"2022-05-18T00:00:00\",\"2022-05-19T00:00:00\",\"2022-05-20T00:00:00\",\"2022-05-23T00:00:00\",\"2022-05-24T00:00:00\",\"2022-05-25T00:00:00\",\"2022-05-26T00:00:00\",\"2022-05-27T00:00:00\",\"2022-05-30T00:00:00\",\"2022-05-31T00:00:00\",\"2022-06-01T00:00:00\",\"2022-06-02T00:00:00\",\"2022-06-03T00:00:00\",\"2022-06-06T00:00:00\",\"2022-06-07T00:00:00\",\"2022-06-08T00:00:00\",\"2022-06-09T00:00:00\",\"2022-06-10T00:00:00\",\"2022-06-13T00:00:00\",\"2022-06-14T00:00:00\",\"2022-06-15T00:00:00\",\"2022-06-16T00:00:00\",\"2022-06-17T00:00:00\",\"2022-06-20T00:00:00\",\"2022-06-21T00:00:00\",\"2022-06-22T00:00:00\",\"2022-06-23T00:00:00\",\"2022-06-24T00:00:00\",\"2022-06-27T00:00:00\",\"2022-06-28T00:00:00\",\"2022-06-29T00:00:00\",\"2022-06-30T00:00:00\",\"2022-07-01T00:00:00\",\"2022-07-04T00:00:00\",\"2022-07-05T00:00:00\",\"2022-07-06T00:00:00\",\"2022-07-07T00:00:00\",\"2022-07-08T00:00:00\",\"2022-07-11T00:00:00\",\"2022-07-12T00:00:00\",\"2022-07-13T00:00:00\",\"2022-07-14T00:00:00\",\"2022-07-15T00:00:00\",\"2022-07-18T00:00:00\",\"2022-07-19T00:00:00\",\"2022-07-20T00:00:00\",\"2022-07-21T00:00:00\",\"2022-07-22T00:00:00\",\"2022-07-25T00:00:00\",\"2022-07-26T00:00:00\",\"2022-07-27T00:00:00\",\"2022-07-28T00:00:00\",\"2022-07-29T00:00:00\",\"2022-08-01T00:00:00\",\"2022-08-02T00:00:00\",\"2022-08-03T00:00:00\",\"2022-08-04T00:00:00\",\"2022-08-05T00:00:00\",\"2022-08-08T00:00:00\",\"2022-08-10T00:00:00\",\"2022-08-11T00:00:00\",\"2022-08-12T00:00:00\",\"2022-08-16T00:00:00\",\"2022-08-17T00:00:00\",\"2022-08-18T00:00:00\",\"2022-08-19T00:00:00\",\"2022-08-22T00:00:00\",\"2022-08-23T00:00:00\",\"2022-08-24T00:00:00\",\"2022-08-25T00:00:00\",\"2022-08-26T00:00:00\",\"2022-08-29T00:00:00\",\"2022-08-30T00:00:00\",\"2022-09-01T00:00:00\",\"2022-09-02T00:00:00\",\"2022-09-05T00:00:00\",\"2022-09-06T00:00:00\",\"2022-09-07T00:00:00\",\"2022-09-08T00:00:00\",\"2022-09-09T00:00:00\",\"2022-09-12T00:00:00\",\"2022-09-13T00:00:00\",\"2022-09-14T00:00:00\",\"2022-09-15T00:00:00\",\"2022-09-16T00:00:00\",\"2022-09-19T00:00:00\",\"2022-09-20T00:00:00\",\"2022-09-21T00:00:00\",\"2022-09-22T00:00:00\",\"2022-09-23T00:00:00\",\"2022-09-26T00:00:00\",\"2022-09-27T00:00:00\",\"2022-09-28T00:00:00\",\"2022-09-29T00:00:00\",\"2022-09-30T00:00:00\",\"2022-10-03T00:00:00\",\"2022-10-04T00:00:00\",\"2022-10-06T00:00:00\",\"2022-10-07T00:00:00\",\"2022-10-10T00:00:00\",\"2022-10-11T00:00:00\",\"2022-10-12T00:00:00\",\"2022-10-13T00:00:00\",\"2022-10-14T00:00:00\",\"2022-10-17T00:00:00\",\"2022-10-18T00:00:00\",\"2022-10-19T00:00:00\",\"2022-10-20T00:00:00\",\"2022-10-21T00:00:00\",\"2022-10-24T00:00:00\",\"2022-10-25T00:00:00\",\"2022-10-27T00:00:00\",\"2022-10-28T00:00:00\",\"2022-10-31T00:00:00\",\"2022-11-01T00:00:00\",\"2022-11-02T00:00:00\",\"2022-11-03T00:00:00\",\"2022-11-04T00:00:00\",\"2022-11-07T00:00:00\",\"2022-11-09T00:00:00\",\"2022-11-10T00:00:00\",\"2022-11-11T00:00:00\",\"2022-11-14T00:00:00\",\"2022-11-15T00:00:00\",\"2022-11-16T00:00:00\",\"2022-11-17T00:00:00\",\"2022-11-18T00:00:00\",\"2022-11-21T00:00:00\",\"2022-11-22T00:00:00\",\"2022-11-23T00:00:00\",\"2022-11-24T00:00:00\",\"2022-11-25T00:00:00\",\"2022-11-28T00:00:00\",\"2022-11-29T00:00:00\",\"2022-11-30T00:00:00\",\"2022-12-01T00:00:00\",\"2022-12-02T00:00:00\",\"2022-12-05T00:00:00\",\"2022-12-06T00:00:00\",\"2022-12-07T00:00:00\",\"2022-12-08T00:00:00\",\"2022-12-09T00:00:00\",\"2022-12-12T00:00:00\",\"2022-12-13T00:00:00\",\"2022-12-14T00:00:00\",\"2022-12-15T00:00:00\",\"2022-12-16T00:00:00\",\"2022-12-19T00:00:00\",\"2022-12-20T00:00:00\",\"2022-12-21T00:00:00\",\"2022-12-22T00:00:00\",\"2022-12-23T00:00:00\",\"2022-12-26T00:00:00\",\"2022-12-27T00:00:00\",\"2022-12-28T00:00:00\",\"2022-12-29T00:00:00\",\"2022-12-30T00:00:00\"],\"y\":[null,null,null,null,null,null,null,null,null,null,null,null,null,null,null,null,null,null,null,380.40820587100666,379.6336985045501,378.0284114237231,376.1241416750442,373.41790635702097,372.2772385186413,371.81232071363456,372.7332220812982,373.1162000355591,372.80137888464026,372.3783948869215,372.94875549231983,372.91420765409896,375.668882121861,379.4686962526922,381.3146266931439,384.3836239598388,385.4981160961873,387.676485318832,390.9924894637781,392.3696347932551,392.48641000246926,392.2512967276059,392.6729064618508,394.65558727700727,398.5777893486605,400.9694316454386,400.7046099481102,400.1882291216463,399.62987570786186,398.6931769643853,398.3814058310796,397.56463429461394,398.1087886031233,398.48033905557736,399.007254729512,398.9368777815089,399.0223845274556,398.9274025105902,398.48940853514887,398.86946356255413,398.8153626198984,398.4751965726504,398.2453688668643,395.32545181620776,388.5023927860917,381.39790468981,379.47632342720823,376.63670494145117,374.62085096294254,371.48558575933754,368.7349235383464,364.63036204731293,360.53389140474155,356.2158155681346,352.1894343764374,349.0760892652479,344.91606477249786,341.6923989714415,340.4215589251124,339.538648665228,339.0003080419179,336.82054392410873,336.8946795616302,337.640164001958,339.2103395200808,340.8120911100374,340.8133088138844,340.44476278009915,339.9723811354403,339.5975026112485,338.1818452891192,337.34646572939556,336.3520986162126,334.48403824721976,333.0468557512508,332.76838544157897,332.17579935170033,331.77631648271847,330.885824311067,329.5458931557007,329.33904999189724,329.1478216128611,328.9845059608581,328.94470095421497,328.66095276880617,327.6246709550962,327.1284228970453,327.0703029436941,327.7870119937532,327.9338222313586,328.0265501975664,328.0135025479184,328.9793566103466,329.8237028358884,331.66108686143497,334.25366590966223,336.63339411887114,338.3537497326396,339.15452404553037,340.8882741912957,341.2397156037045,341.26041525599794,341.23508314230844,340.88419156084194,343.7415127926141,348.38109991434743,350.54087988031273,350.8048205971702,350.89091161032326,350.6997561952353,349.8096204745944,348.8894455027992,348.6363018519481,348.62572991944,348.65940176241827,348.5772242770149,348.8861467456711,348.9055564712101,348.8803480621844,348.48012224025905,349.25853176101504,349.82267594535085,350.87204472749494,351.5246288324366,350.18617812434877,346.35021772041364,344.20521251281303,343.74242392462884,343.5500200266558,343.45536365285824,344.0079922667991,344.821940354713,346.42209448822956,346.88488434433606,347.46880661842175,347.72968787491857,348.228844096173,348.10169724466067,347.80819950977076,347.19883495150947,344.4877990293982,341.7217198321843,337.55662275306724,332.587361036667,328.2272708050865,324.62644741284623,323.32949386038905,321.78311955489056,319.6162602077029,317.114950610316,315.24766534899084,314.0135785971332,313.8532219211271,313.05544716326216,312.7955657289726,312.82504591574553,312.78175521902756,312.2475007361803,311.0566289833078,309.12537495313035,309.68706163343126,310.03557328362086,310.46848387920056,311.35762667310746,312.01056595672264,312.72742340670874,312.84904697118185,312.61141292919496,311.20658715357183,311.3635900106432,310.91310351950796,311.230489657679,315.2016075820281,319.2210642510638,328.1040266753714,333.7925741114435,338.95642140185333,342.64896435752837,346.3370195067192,348.7268598513637,349.65695277731305,351.073951564133,352.33039037775876,353.88177845171737,356.87804788083787,358.8592216982993,360.5537795938336,361.5013892928577,360.4337307960359,359.5978083033938,357.0603145851466,353.6426692408065,352.5338468122127,352.42267883197246,352.96322754176475,353.2740485033626,353.41563840964756,353.3416555634635,352.8191052361709],\"type\":\"scatter\"},{\"name\":\"Lower Band\",\"x\":[\"2022-02-14T00:00:00\",\"2022-02-15T00:00:00\",\"2022-02-16T00:00:00\",\"2022-02-17T00:00:00\",\"2022-02-18T00:00:00\",\"2022-02-21T00:00:00\",\"2022-02-22T00:00:00\",\"2022-02-23T00:00:00\",\"2022-02-24T00:00:00\",\"2022-02-25T00:00:00\",\"2022-02-28T00:00:00\",\"2022-03-02T00:00:00\",\"2022-03-03T00:00:00\",\"2022-03-04T00:00:00\",\"2022-03-07T00:00:00\",\"2022-03-08T00:00:00\",\"2022-03-09T00:00:00\",\"2022-03-10T00:00:00\",\"2022-03-11T00:00:00\",\"2022-03-14T00:00:00\",\"2022-03-15T00:00:00\",\"2022-03-16T00:00:00\",\"2022-03-17T00:00:00\",\"2022-03-21T00:00:00\",\"2022-03-22T00:00:00\",\"2022-03-23T00:00:00\",\"2022-03-24T00:00:00\",\"2022-03-25T00:00:00\",\"2022-03-28T00:00:00\",\"2022-03-29T00:00:00\",\"2022-03-30T00:00:00\",\"2022-03-31T00:00:00\",\"2022-04-01T00:00:00\",\"2022-04-04T00:00:00\",\"2022-04-05T00:00:00\",\"2022-04-06T00:00:00\",\"2022-04-07T00:00:00\",\"2022-04-08T00:00:00\",\"2022-04-11T00:00:00\",\"2022-04-12T00:00:00\",\"2022-04-13T00:00:00\",\"2022-04-18T00:00:00\",\"2022-04-19T00:00:00\",\"2022-04-20T00:00:00\",\"2022-04-21T00:00:00\",\"2022-04-22T00:00:00\",\"2022-04-25T00:00:00\",\"2022-04-26T00:00:00\",\"2022-04-27T00:00:00\",\"2022-04-28T00:00:00\",\"2022-04-29T00:00:00\",\"2022-05-02T00:00:00\",\"2022-05-04T00:00:00\",\"2022-05-05T00:00:00\",\"2022-05-06T00:00:00\",\"2022-05-09T00:00:00\",\"2022-05-10T00:00:00\",\"2022-05-11T00:00:00\",\"2022-05-12T00:00:00\",\"2022-05-13T00:00:00\",\"2022-05-16T00:00:00\",\"2022-05-17T00:00:00\",\"2022-05-18T00:00:00\",\"2022-05-19T00:00:00\",\"2022-05-20T00:00:00\",\"2022-05-23T00:00:00\",\"2022-05-24T00:00:00\",\"2022-05-25T00:00:00\",\"2022-05-26T00:00:00\",\"2022-05-27T00:00:00\",\"2022-05-30T00:00:00\",\"2022-05-31T00:00:00\",\"2022-06-01T00:00:00\",\"2022-06-02T00:00:00\",\"2022-06-03T00:00:00\",\"2022-06-06T00:00:00\",\"2022-06-07T00:00:00\",\"2022-06-08T00:00:00\",\"2022-06-09T00:00:00\",\"2022-06-10T00:00:00\",\"2022-06-13T00:00:00\",\"2022-06-14T00:00:00\",\"2022-06-15T00:00:00\",\"2022-06-16T00:00:00\",\"2022-06-17T00:00:00\",\"2022-06-20T00:00:00\",\"2022-06-21T00:00:00\",\"2022-06-22T00:00:00\",\"2022-06-23T00:00:00\",\"2022-06-24T00:00:00\",\"2022-06-27T00:00:00\",\"2022-06-28T00:00:00\",\"2022-06-29T00:00:00\",\"2022-06-30T00:00:00\",\"2022-07-01T00:00:00\",\"2022-07-04T00:00:00\",\"2022-07-05T00:00:00\",\"2022-07-06T00:00:00\",\"2022-07-07T00:00:00\",\"2022-07-08T00:00:00\",\"2022-07-11T00:00:00\",\"2022-07-12T00:00:00\",\"2022-07-13T00:00:00\",\"2022-07-14T00:00:00\",\"2022-07-15T00:00:00\",\"2022-07-18T00:00:00\",\"2022-07-19T00:00:00\",\"2022-07-20T00:00:00\",\"2022-07-21T00:00:00\",\"2022-07-22T00:00:00\",\"2022-07-25T00:00:00\",\"2022-07-26T00:00:00\",\"2022-07-27T00:00:00\",\"2022-07-28T00:00:00\",\"2022-07-29T00:00:00\",\"2022-08-01T00:00:00\",\"2022-08-02T00:00:00\",\"2022-08-03T00:00:00\",\"2022-08-04T00:00:00\",\"2022-08-05T00:00:00\",\"2022-08-08T00:00:00\",\"2022-08-10T00:00:00\",\"2022-08-11T00:00:00\",\"2022-08-12T00:00:00\",\"2022-08-16T00:00:00\",\"2022-08-17T00:00:00\",\"2022-08-18T00:00:00\",\"2022-08-19T00:00:00\",\"2022-08-22T00:00:00\",\"2022-08-23T00:00:00\",\"2022-08-24T00:00:00\",\"2022-08-25T00:00:00\",\"2022-08-26T00:00:00\",\"2022-08-29T00:00:00\",\"2022-08-30T00:00:00\",\"2022-09-01T00:00:00\",\"2022-09-02T00:00:00\",\"2022-09-05T00:00:00\",\"2022-09-06T00:00:00\",\"2022-09-07T00:00:00\",\"2022-09-08T00:00:00\",\"2022-09-09T00:00:00\",\"2022-09-12T00:00:00\",\"2022-09-13T00:00:00\",\"2022-09-14T00:00:00\",\"2022-09-15T00:00:00\",\"2022-09-16T00:00:00\",\"2022-09-19T00:00:00\",\"2022-09-20T00:00:00\",\"2022-09-21T00:00:00\",\"2022-09-22T00:00:00\",\"2022-09-23T00:00:00\",\"2022-09-26T00:00:00\",\"2022-09-27T00:00:00\",\"2022-09-28T00:00:00\",\"2022-09-29T00:00:00\",\"2022-09-30T00:00:00\",\"2022-10-03T00:00:00\",\"2022-10-04T00:00:00\",\"2022-10-06T00:00:00\",\"2022-10-07T00:00:00\",\"2022-10-10T00:00:00\",\"2022-10-11T00:00:00\",\"2022-10-12T00:00:00\",\"2022-10-13T00:00:00\",\"2022-10-14T00:00:00\",\"2022-10-17T00:00:00\",\"2022-10-18T00:00:00\",\"2022-10-19T00:00:00\",\"2022-10-20T00:00:00\",\"2022-10-21T00:00:00\",\"2022-10-24T00:00:00\",\"2022-10-25T00:00:00\",\"2022-10-27T00:00:00\",\"2022-10-28T00:00:00\",\"2022-10-31T00:00:00\",\"2022-11-01T00:00:00\",\"2022-11-02T00:00:00\",\"2022-11-03T00:00:00\",\"2022-11-04T00:00:00\",\"2022-11-07T00:00:00\",\"2022-11-09T00:00:00\",\"2022-11-10T00:00:00\",\"2022-11-11T00:00:00\",\"2022-11-14T00:00:00\",\"2022-11-15T00:00:00\",\"2022-11-16T00:00:00\",\"2022-11-17T00:00:00\",\"2022-11-18T00:00:00\",\"2022-11-21T00:00:00\",\"2022-11-22T00:00:00\",\"2022-11-23T00:00:00\",\"2022-11-24T00:00:00\",\"2022-11-25T00:00:00\",\"2022-11-28T00:00:00\",\"2022-11-29T00:00:00\",\"2022-11-30T00:00:00\",\"2022-12-01T00:00:00\",\"2022-12-02T00:00:00\",\"2022-12-05T00:00:00\",\"2022-12-06T00:00:00\",\"2022-12-07T00:00:00\",\"2022-12-08T00:00:00\",\"2022-12-09T00:00:00\",\"2022-12-12T00:00:00\",\"2022-12-13T00:00:00\",\"2022-12-14T00:00:00\",\"2022-12-15T00:00:00\",\"2022-12-16T00:00:00\",\"2022-12-19T00:00:00\",\"2022-12-20T00:00:00\",\"2022-12-21T00:00:00\",\"2022-12-22T00:00:00\",\"2022-12-23T00:00:00\",\"2022-12-26T00:00:00\",\"2022-12-27T00:00:00\",\"2022-12-28T00:00:00\",\"2022-12-29T00:00:00\",\"2022-12-30T00:00:00\"],\"y\":[null,null,null,null,null,null,null,null,null,null,null,null,null,null,null,null,null,null,null,327.6867922979386,327.32129722298896,327.6665836934644,328.5808540524949,329.7070905912212,330.37275842960094,330.6226768449592,330.4317773083502,330.36879752303463,333.3486211153597,335.98160572343005,336.4362451180317,338.1957929562526,338.24111848849054,337.6263049680109,339.98037452755926,341.33137542980967,344.0318826831096,345.4085122397617,344.72750870516717,345.4453645963933,348.19859060788235,349.97870510344876,350.7220947588523,352.0144139436959,351.0222137030973,351.31057018561614,352.285392493296,354.05677515081464,355.29512734389596,357.321825477021,357.88859844138136,359.4153705881986,357.77621811074386,355.4846664375867,352.6877495429489,349.51812710130366,346.69762279676314,343.0476066446833,338.64560123047613,333.9005468134224,329.66464836642973,327.07481563438085,322.9096421194638,319.49955733906563,319.83261392777547,320.8071032447603,318.7686838970105,316.9383011620645,314.7391557509246,313.1744209545297,312.58008195481773,312.6596434458511,313.01111286771936,314.1641893146779,315.27557111672667,314.9839174486193,315.8239407206662,316.7276053010194,317.28844473699695,317.5763537761782,316.2996950098399,315.66445668624283,313.80032165907295,311.55483721874515,306.8046629213255,301.59790950031413,298.70669240681866,297.05023844060395,295.87761886455974,294.77249555769686,294.7731534901776,294.84853243954973,294.88289894238113,294.6559580906708,295.11314180734297,295.09161211701473,294.969198817245,295.1086810758753,295.6541720268237,296.4241019614868,296.4259432942356,296.05217228362324,295.86548793562633,295.3552929422694,296.74904173802975,299.76032355173976,301.7915691683844,302.9696903424387,303.7329831234343,304.86117288582886,304.98344430926954,304.9814925692691,304.83563972754405,305.7562928916507,305.1139070350494,304.301326766119,304.12659733620694,303.66624233279015,303.32046985095405,302.6967203155403,303.3202789031314,305.26457864048643,307.07491136452745,310.20080294599404,310.72348049351865,309.8188939821369,310.70911401617167,312.56017268896267,313.56907984475487,315.10023770124906,317.2303728115384,319.2855453419274,319.98868899277846,320.01426336669283,319.81559213406615,319.6177708401726,317.98885020257103,317.0544410873836,316.1096482757062,315.5548753183347,316.1964670182818,316.65232405464917,317.02795527250504,317.0903705572119,317.45382126529967,319.11478166923484,318.6847868768354,317.41257485466804,316.52997875264106,315.2596326850324,313.3370059021462,310.73806025563863,306.7179049014189,304.70011321425767,301.85119155052354,298.7803096836752,296.56615102101443,295.09829665182366,294.1117956074167,293.25115894497486,292.717193646383,292.0982722332454,291.9783687020109,293.09263163911424,293.86772126034316,294.1135458732866,292.9354994257438,291.96687434159384,291.05873368878144,291.26504511722305,291.3823303785482,291.49641590970276,291.4267738064119,291.7195497849801,291.70942999856646,291.7199492014419,291.7182417292146,291.8924986534681,292.4483697959891,293.2996250468696,292.97293897692026,292.8444285474338,292.9865179518541,292.73737454759566,292.81943587433204,293.20757720364287,294.07595608057596,295.258591343266,297.8584183395923,299.0214136514662,300.32190014260146,300.9445133940788,298.8133948593782,296.678938800694,291.5409775970895,289.39242955066584,287.90858103955287,287.5560374735263,287.46798232433554,288.7831407589878,289.7330466123354,291.06604782551545,292.83460901188965,294.23822276898574,295.3769539502168,297.1207801327554,299.656221016518,303.1036094864392,307.93626737290947,311.8721898655515,317.74968297344714,323.5623295384903,325.36115135673265,325.53731872662127,323.4317706271806,321.81595088628586,319.969362200704,318.9033456572396,318.3658953741807],\"type\":\"scatter\"},{\"marker\":{\"color\":\"red\"},\"mode\":\"markers\",\"name\":\"Above Upper Band\",\"x\":[\"2022-04-04T00:00:00\",\"2022-04-06T00:00:00\",\"2022-08-16T00:00:00\",\"2022-08-17T00:00:00\",\"2022-11-07T00:00:00\",\"2022-11-24T00:00:00\",\"2022-11-25T00:00:00\",\"2022-11-28T00:00:00\",\"2022-11-29T00:00:00\",\"2022-11-30T00:00:00\"],\"y\":[380.20001220703125,385.79998779296875,345.8999938964844,353.1499938964844,309.75,321.0,324.45001220703125,340.75,339.04998779296875,341.1499938964844],\"type\":\"scatter\"},{\"marker\":{\"color\":\"green\"},\"mode\":\"markers\",\"name\":\"Below Lower Band\",\"x\":[\"2022-06-14T00:00:00\",\"2022-06-17T00:00:00\",\"2022-06-20T00:00:00\",\"2022-09-26T00:00:00\",\"2022-12-23T00:00:00\"],\"y\":[314.29998779296875,301.0,296.04998779296875,304.8999938964844,325.1000061035156],\"type\":\"scatter\"}],                        {\"template\":{\"data\":{\"barpolar\":[{\"marker\":{\"line\":{\"color\":\"rgb(17,17,17)\",\"width\":0.5},\"pattern\":{\"fillmode\":\"overlay\",\"size\":10,\"solidity\":0.2}},\"type\":\"barpolar\"}],\"bar\":[{\"error_x\":{\"color\":\"#f2f5fa\"},\"error_y\":{\"color\":\"#f2f5fa\"},\"marker\":{\"line\":{\"color\":\"rgb(17,17,17)\",\"width\":0.5},\"pattern\":{\"fillmode\":\"overlay\",\"size\":10,\"solidity\":0.2}},\"type\":\"bar\"}],\"carpet\":[{\"aaxis\":{\"endlinecolor\":\"#A2B1C6\",\"gridcolor\":\"#506784\",\"linecolor\":\"#506784\",\"minorgridcolor\":\"#506784\",\"startlinecolor\":\"#A2B1C6\"},\"baxis\":{\"endlinecolor\":\"#A2B1C6\",\"gridcolor\":\"#506784\",\"linecolor\":\"#506784\",\"minorgridcolor\":\"#506784\",\"startlinecolor\":\"#A2B1C6\"},\"type\":\"carpet\"}],\"choropleth\":[{\"colorbar\":{\"outlinewidth\":0,\"ticks\":\"\"},\"type\":\"choropleth\"}],\"contourcarpet\":[{\"colorbar\":{\"outlinewidth\":0,\"ticks\":\"\"},\"type\":\"contourcarpet\"}],\"contour\":[{\"colorbar\":{\"outlinewidth\":0,\"ticks\":\"\"},\"colorscale\":[[0.0,\"#0d0887\"],[0.1111111111111111,\"#46039f\"],[0.2222222222222222,\"#7201a8\"],[0.3333333333333333,\"#9c179e\"],[0.4444444444444444,\"#bd3786\"],[0.5555555555555556,\"#d8576b\"],[0.6666666666666666,\"#ed7953\"],[0.7777777777777778,\"#fb9f3a\"],[0.8888888888888888,\"#fdca26\"],[1.0,\"#f0f921\"]],\"type\":\"contour\"}],\"heatmapgl\":[{\"colorbar\":{\"outlinewidth\":0,\"ticks\":\"\"},\"colorscale\":[[0.0,\"#0d0887\"],[0.1111111111111111,\"#46039f\"],[0.2222222222222222,\"#7201a8\"],[0.3333333333333333,\"#9c179e\"],[0.4444444444444444,\"#bd3786\"],[0.5555555555555556,\"#d8576b\"],[0.6666666666666666,\"#ed7953\"],[0.7777777777777778,\"#fb9f3a\"],[0.8888888888888888,\"#fdca26\"],[1.0,\"#f0f921\"]],\"type\":\"heatmapgl\"}],\"heatmap\":[{\"colorbar\":{\"outlinewidth\":0,\"ticks\":\"\"},\"colorscale\":[[0.0,\"#0d0887\"],[0.1111111111111111,\"#46039f\"],[0.2222222222222222,\"#7201a8\"],[0.3333333333333333,\"#9c179e\"],[0.4444444444444444,\"#bd3786\"],[0.5555555555555556,\"#d8576b\"],[0.6666666666666666,\"#ed7953\"],[0.7777777777777778,\"#fb9f3a\"],[0.8888888888888888,\"#fdca26\"],[1.0,\"#f0f921\"]],\"type\":\"heatmap\"}],\"histogram2dcontour\":[{\"colorbar\":{\"outlinewidth\":0,\"ticks\":\"\"},\"colorscale\":[[0.0,\"#0d0887\"],[0.1111111111111111,\"#46039f\"],[0.2222222222222222,\"#7201a8\"],[0.3333333333333333,\"#9c179e\"],[0.4444444444444444,\"#bd3786\"],[0.5555555555555556,\"#d8576b\"],[0.6666666666666666,\"#ed7953\"],[0.7777777777777778,\"#fb9f3a\"],[0.8888888888888888,\"#fdca26\"],[1.0,\"#f0f921\"]],\"type\":\"histogram2dcontour\"}],\"histogram2d\":[{\"colorbar\":{\"outlinewidth\":0,\"ticks\":\"\"},\"colorscale\":[[0.0,\"#0d0887\"],[0.1111111111111111,\"#46039f\"],[0.2222222222222222,\"#7201a8\"],[0.3333333333333333,\"#9c179e\"],[0.4444444444444444,\"#bd3786\"],[0.5555555555555556,\"#d8576b\"],[0.6666666666666666,\"#ed7953\"],[0.7777777777777778,\"#fb9f3a\"],[0.8888888888888888,\"#fdca26\"],[1.0,\"#f0f921\"]],\"type\":\"histogram2d\"}],\"histogram\":[{\"marker\":{\"pattern\":{\"fillmode\":\"overlay\",\"size\":10,\"solidity\":0.2}},\"type\":\"histogram\"}],\"mesh3d\":[{\"colorbar\":{\"outlinewidth\":0,\"ticks\":\"\"},\"type\":\"mesh3d\"}],\"parcoords\":[{\"line\":{\"colorbar\":{\"outlinewidth\":0,\"ticks\":\"\"}},\"type\":\"parcoords\"}],\"pie\":[{\"automargin\":true,\"type\":\"pie\"}],\"scatter3d\":[{\"line\":{\"colorbar\":{\"outlinewidth\":0,\"ticks\":\"\"}},\"marker\":{\"colorbar\":{\"outlinewidth\":0,\"ticks\":\"\"}},\"type\":\"scatter3d\"}],\"scattercarpet\":[{\"marker\":{\"colorbar\":{\"outlinewidth\":0,\"ticks\":\"\"}},\"type\":\"scattercarpet\"}],\"scattergeo\":[{\"marker\":{\"colorbar\":{\"outlinewidth\":0,\"ticks\":\"\"}},\"type\":\"scattergeo\"}],\"scattergl\":[{\"marker\":{\"line\":{\"color\":\"#283442\"}},\"type\":\"scattergl\"}],\"scattermapbox\":[{\"marker\":{\"colorbar\":{\"outlinewidth\":0,\"ticks\":\"\"}},\"type\":\"scattermapbox\"}],\"scatterpolargl\":[{\"marker\":{\"colorbar\":{\"outlinewidth\":0,\"ticks\":\"\"}},\"type\":\"scatterpolargl\"}],\"scatterpolar\":[{\"marker\":{\"colorbar\":{\"outlinewidth\":0,\"ticks\":\"\"}},\"type\":\"scatterpolar\"}],\"scatter\":[{\"marker\":{\"line\":{\"color\":\"#283442\"}},\"type\":\"scatter\"}],\"scatterternary\":[{\"marker\":{\"colorbar\":{\"outlinewidth\":0,\"ticks\":\"\"}},\"type\":\"scatterternary\"}],\"surface\":[{\"colorbar\":{\"outlinewidth\":0,\"ticks\":\"\"},\"colorscale\":[[0.0,\"#0d0887\"],[0.1111111111111111,\"#46039f\"],[0.2222222222222222,\"#7201a8\"],[0.3333333333333333,\"#9c179e\"],[0.4444444444444444,\"#bd3786\"],[0.5555555555555556,\"#d8576b\"],[0.6666666666666666,\"#ed7953\"],[0.7777777777777778,\"#fb9f3a\"],[0.8888888888888888,\"#fdca26\"],[1.0,\"#f0f921\"]],\"type\":\"surface\"}],\"table\":[{\"cells\":{\"fill\":{\"color\":\"#506784\"},\"line\":{\"color\":\"rgb(17,17,17)\"}},\"header\":{\"fill\":{\"color\":\"#2a3f5f\"},\"line\":{\"color\":\"rgb(17,17,17)\"}},\"type\":\"table\"}]},\"layout\":{\"annotationdefaults\":{\"arrowcolor\":\"#f2f5fa\",\"arrowhead\":0,\"arrowwidth\":1},\"autotypenumbers\":\"strict\",\"coloraxis\":{\"colorbar\":{\"outlinewidth\":0,\"ticks\":\"\"}},\"colorscale\":{\"diverging\":[[0,\"#8e0152\"],[0.1,\"#c51b7d\"],[0.2,\"#de77ae\"],[0.3,\"#f1b6da\"],[0.4,\"#fde0ef\"],[0.5,\"#f7f7f7\"],[0.6,\"#e6f5d0\"],[0.7,\"#b8e186\"],[0.8,\"#7fbc41\"],[0.9,\"#4d9221\"],[1,\"#276419\"]],\"sequential\":[[0.0,\"#0d0887\"],[0.1111111111111111,\"#46039f\"],[0.2222222222222222,\"#7201a8\"],[0.3333333333333333,\"#9c179e\"],[0.4444444444444444,\"#bd3786\"],[0.5555555555555556,\"#d8576b\"],[0.6666666666666666,\"#ed7953\"],[0.7777777777777778,\"#fb9f3a\"],[0.8888888888888888,\"#fdca26\"],[1.0,\"#f0f921\"]],\"sequentialminus\":[[0.0,\"#0d0887\"],[0.1111111111111111,\"#46039f\"],[0.2222222222222222,\"#7201a8\"],[0.3333333333333333,\"#9c179e\"],[0.4444444444444444,\"#bd3786\"],[0.5555555555555556,\"#d8576b\"],[0.6666666666666666,\"#ed7953\"],[0.7777777777777778,\"#fb9f3a\"],[0.8888888888888888,\"#fdca26\"],[1.0,\"#f0f921\"]]},\"colorway\":[\"#636efa\",\"#EF553B\",\"#00cc96\",\"#ab63fa\",\"#FFA15A\",\"#19d3f3\",\"#FF6692\",\"#B6E880\",\"#FF97FF\",\"#FECB52\"],\"font\":{\"color\":\"#f2f5fa\"},\"geo\":{\"bgcolor\":\"rgb(17,17,17)\",\"lakecolor\":\"rgb(17,17,17)\",\"landcolor\":\"rgb(17,17,17)\",\"showlakes\":true,\"showland\":true,\"subunitcolor\":\"#506784\"},\"hoverlabel\":{\"align\":\"left\"},\"hovermode\":\"closest\",\"mapbox\":{\"style\":\"dark\"},\"paper_bgcolor\":\"rgb(17,17,17)\",\"plot_bgcolor\":\"rgb(17,17,17)\",\"polar\":{\"angularaxis\":{\"gridcolor\":\"#506784\",\"linecolor\":\"#506784\",\"ticks\":\"\"},\"bgcolor\":\"rgb(17,17,17)\",\"radialaxis\":{\"gridcolor\":\"#506784\",\"linecolor\":\"#506784\",\"ticks\":\"\"}},\"scene\":{\"xaxis\":{\"backgroundcolor\":\"rgb(17,17,17)\",\"gridcolor\":\"#506784\",\"gridwidth\":2,\"linecolor\":\"#506784\",\"showbackground\":true,\"ticks\":\"\",\"zerolinecolor\":\"#C8D4E3\"},\"yaxis\":{\"backgroundcolor\":\"rgb(17,17,17)\",\"gridcolor\":\"#506784\",\"gridwidth\":2,\"linecolor\":\"#506784\",\"showbackground\":true,\"ticks\":\"\",\"zerolinecolor\":\"#C8D4E3\"},\"zaxis\":{\"backgroundcolor\":\"rgb(17,17,17)\",\"gridcolor\":\"#506784\",\"gridwidth\":2,\"linecolor\":\"#506784\",\"showbackground\":true,\"ticks\":\"\",\"zerolinecolor\":\"#C8D4E3\"}},\"shapedefaults\":{\"line\":{\"color\":\"#f2f5fa\"}},\"sliderdefaults\":{\"bgcolor\":\"#C8D4E3\",\"bordercolor\":\"rgb(17,17,17)\",\"borderwidth\":1,\"tickwidth\":0},\"ternary\":{\"aaxis\":{\"gridcolor\":\"#506784\",\"linecolor\":\"#506784\",\"ticks\":\"\"},\"baxis\":{\"gridcolor\":\"#506784\",\"linecolor\":\"#506784\",\"ticks\":\"\"},\"bgcolor\":\"rgb(17,17,17)\",\"caxis\":{\"gridcolor\":\"#506784\",\"linecolor\":\"#506784\",\"ticks\":\"\"}},\"title\":{\"x\":0.05},\"updatemenudefaults\":{\"bgcolor\":\"#506784\",\"borderwidth\":0},\"xaxis\":{\"automargin\":true,\"gridcolor\":\"#283442\",\"linecolor\":\"#506784\",\"ticks\":\"\",\"title\":{\"standoff\":15},\"zerolinecolor\":\"#283442\",\"zerolinewidth\":2},\"yaxis\":{\"automargin\":true,\"gridcolor\":\"#283442\",\"linecolor\":\"#506784\",\"ticks\":\"\",\"title\":{\"standoff\":15},\"zerolinecolor\":\"#283442\",\"zerolinewidth\":2}}},\"title\":{\"text\":\"Bollinger Bands and Moving Averages\"}},                        {\"responsive\": true}                    ).then(function(){\n",
       "                            \n",
       "var gd = document.getElementById('b7aeb458-0a25-44e7-ad60-f1a5cedfdf63');\n",
       "var x = new MutationObserver(function (mutations, observer) {{\n",
       "        var display = window.getComputedStyle(gd).display;\n",
       "        if (!display || display === 'none') {{\n",
       "            console.log([gd, 'removed!']);\n",
       "            Plotly.purge(gd);\n",
       "            observer.disconnect();\n",
       "        }}\n",
       "}});\n",
       "\n",
       "// Listen for the removal of the full notebook cells\n",
       "var notebookContainer = gd.closest('#notebook-container');\n",
       "if (notebookContainer) {{\n",
       "    x.observe(notebookContainer, {childList: true});\n",
       "}}\n",
       "\n",
       "// Listen for the clearing of the current output cell\n",
       "var outputEl = gd.closest('.output');\n",
       "if (outputEl) {{\n",
       "    x.observe(outputEl, {childList: true});\n",
       "}}\n",
       "\n",
       "                        })                };                });            </script>        </div>"
      ]
     },
     "metadata": {},
     "output_type": "display_data"
    }
   ],
   "source": [
    "import pandas as pd\n",
    "import plotly.graph_objs as go\n",
    "\n",
    "# Load data\n",
    "df = data\n",
    "\n",
    "# Calculate moving average and standard deviation\n",
    "df['MA20'] = df['Close'].rolling(window=20).mean()\n",
    "df['STD20'] = df['Close'].rolling(window=20).std()\n",
    "df['Date']=df.index\n",
    "\n",
    "# Calculate upper and lower bands of Bollinger Bands\n",
    "df['UpperBand'] = df['MA20'] + 2 * df['STD20']\n",
    "df['LowerBand'] = df['MA20'] - 2 * df['STD20']\n",
    "\n",
    "# Mark points based on the condition\n",
    "df['AboveUpperBand'] = df['Close'] > df['UpperBand']\n",
    "df['BelowLowerBand'] = df['Close'] < df['LowerBand']\n",
    "\n",
    "# Create traces\n",
    "trace0 = go.Scatter(x=df.index, y=df['Close'], name='Close')\n",
    "trace1 = go.Scatter(x=df.index, y=df['MA20'], name='Moving Average 20')\n",
    "trace2 = go.Scatter(x=df.index, y=df['UpperBand'], name='Upper Band')\n",
    "trace3 = go.Scatter(x=df.index, y=df['LowerBand'], name='Lower Band')\n",
    "trace4 = go.Scatter(x=df[df['AboveUpperBand'] == True]['Date'], y=df[df['AboveUpperBand'] == True]['Close'], mode='markers', name='Above Upper Band',marker=dict(color='red'))\n",
    "trace5 = go.Scatter(x=df[df['BelowLowerBand'] == True]['Date'], y=df[df['BelowLowerBand'] == True]['Close'], mode='markers', name='Below Lower Band',marker=dict(color='green'))\n",
    "\n",
    "# Plot data\n",
    "datax = [trace0, trace1, trace2, trace3,trace4,trace5]\n",
    "layout = go.Layout(title='Bollinger Bands and Moving Averages', template='plotly_dark')\n",
    "fig = go.Figure(data=datax, layout=layout)\n",
    "fig.show()"
   ]
  },
  {
   "cell_type": "markdown",
   "id": "07778979",
   "metadata": {},
   "source": [
    "## Momentum Trading \n",
    "\n"
   ]
  },
  {
   "cell_type": "code",
   "execution_count": 130,
   "id": "0d4e17f0",
   "metadata": {},
   "outputs": [
    {
     "ename": "TypeError",
     "evalue": "string indices must be integers",
     "output_type": "error",
     "traceback": [
      "\u001b[0;31m---------------------------------------------------------------------------\u001b[0m",
      "\u001b[0;31mTypeError\u001b[0m                                 Traceback (most recent call last)",
      "\u001b[0;32m/tmp/ipykernel_173671/2432893997.py\u001b[0m in \u001b[0;36m<module>\u001b[0;34m\u001b[0m\n\u001b[1;32m     11\u001b[0m \u001b[0;34m\u001b[0m\u001b[0m\n\u001b[1;32m     12\u001b[0m \u001b[0;31m# Get historical data from Yahoo Finance\u001b[0m\u001b[0;34m\u001b[0m\u001b[0;34m\u001b[0m\u001b[0m\n\u001b[0;32m---> 13\u001b[0;31m \u001b[0mdf\u001b[0m \u001b[0;34m=\u001b[0m \u001b[0mweb\u001b[0m\u001b[0;34m.\u001b[0m\u001b[0mDataReader\u001b[0m\u001b[0;34m(\u001b[0m\u001b[0msymbol\u001b[0m\u001b[0;34m,\u001b[0m \u001b[0;34m'yahoo'\u001b[0m\u001b[0;34m,\u001b[0m \u001b[0mstart\u001b[0m\u001b[0;34m,\u001b[0m \u001b[0mend\u001b[0m\u001b[0;34m)\u001b[0m\u001b[0;34m\u001b[0m\u001b[0;34m\u001b[0m\u001b[0m\n\u001b[0m\u001b[1;32m     14\u001b[0m \u001b[0;34m\u001b[0m\u001b[0m\n\u001b[1;32m     15\u001b[0m \u001b[0;31m# Calculate moving average (MA)\u001b[0m\u001b[0;34m\u001b[0m\u001b[0;34m\u001b[0m\u001b[0m\n",
      "\u001b[0;32m~/.local/lib/python3.10/site-packages/pandas/util/_decorators.py\u001b[0m in \u001b[0;36mwrapper\u001b[0;34m(*args, **kwargs)\u001b[0m\n\u001b[1;32m    209\u001b[0m                 \u001b[0;32melse\u001b[0m\u001b[0;34m:\u001b[0m\u001b[0;34m\u001b[0m\u001b[0;34m\u001b[0m\u001b[0m\n\u001b[1;32m    210\u001b[0m                     \u001b[0mkwargs\u001b[0m\u001b[0;34m[\u001b[0m\u001b[0mnew_arg_name\u001b[0m\u001b[0;34m]\u001b[0m \u001b[0;34m=\u001b[0m \u001b[0mnew_arg_value\u001b[0m\u001b[0;34m\u001b[0m\u001b[0;34m\u001b[0m\u001b[0m\n\u001b[0;32m--> 211\u001b[0;31m             \u001b[0;32mreturn\u001b[0m \u001b[0mfunc\u001b[0m\u001b[0;34m(\u001b[0m\u001b[0;34m*\u001b[0m\u001b[0margs\u001b[0m\u001b[0;34m,\u001b[0m \u001b[0;34m**\u001b[0m\u001b[0mkwargs\u001b[0m\u001b[0;34m)\u001b[0m\u001b[0;34m\u001b[0m\u001b[0;34m\u001b[0m\u001b[0m\n\u001b[0m\u001b[1;32m    212\u001b[0m \u001b[0;34m\u001b[0m\u001b[0m\n\u001b[1;32m    213\u001b[0m         \u001b[0;32mreturn\u001b[0m \u001b[0mcast\u001b[0m\u001b[0;34m(\u001b[0m\u001b[0mF\u001b[0m\u001b[0;34m,\u001b[0m \u001b[0mwrapper\u001b[0m\u001b[0;34m)\u001b[0m\u001b[0;34m\u001b[0m\u001b[0;34m\u001b[0m\u001b[0m\n",
      "\u001b[0;32m~/.local/lib/python3.10/site-packages/pandas_datareader/data.py\u001b[0m in \u001b[0;36mDataReader\u001b[0;34m(name, data_source, start, end, retry_count, pause, session, api_key)\u001b[0m\n\u001b[1;32m    377\u001b[0m             \u001b[0mpause\u001b[0m\u001b[0;34m=\u001b[0m\u001b[0mpause\u001b[0m\u001b[0;34m,\u001b[0m\u001b[0;34m\u001b[0m\u001b[0;34m\u001b[0m\u001b[0m\n\u001b[1;32m    378\u001b[0m             \u001b[0msession\u001b[0m\u001b[0;34m=\u001b[0m\u001b[0msession\u001b[0m\u001b[0;34m,\u001b[0m\u001b[0;34m\u001b[0m\u001b[0;34m\u001b[0m\u001b[0m\n\u001b[0;32m--> 379\u001b[0;31m         ).read()\n\u001b[0m\u001b[1;32m    380\u001b[0m \u001b[0;34m\u001b[0m\u001b[0m\n\u001b[1;32m    381\u001b[0m     \u001b[0;32melif\u001b[0m \u001b[0mdata_source\u001b[0m \u001b[0;34m==\u001b[0m \u001b[0;34m\"iex\"\u001b[0m\u001b[0;34m:\u001b[0m\u001b[0;34m\u001b[0m\u001b[0;34m\u001b[0m\u001b[0m\n",
      "\u001b[0;32m~/.local/lib/python3.10/site-packages/pandas_datareader/base.py\u001b[0m in \u001b[0;36mread\u001b[0;34m(self)\u001b[0m\n\u001b[1;32m    251\u001b[0m         \u001b[0;31m# If a single symbol, (e.g., 'GOOG')\u001b[0m\u001b[0;34m\u001b[0m\u001b[0;34m\u001b[0m\u001b[0m\n\u001b[1;32m    252\u001b[0m         \u001b[0;32mif\u001b[0m \u001b[0misinstance\u001b[0m\u001b[0;34m(\u001b[0m\u001b[0mself\u001b[0m\u001b[0;34m.\u001b[0m\u001b[0msymbols\u001b[0m\u001b[0;34m,\u001b[0m \u001b[0;34m(\u001b[0m\u001b[0mstring_types\u001b[0m\u001b[0;34m,\u001b[0m \u001b[0mint\u001b[0m\u001b[0;34m)\u001b[0m\u001b[0;34m)\u001b[0m\u001b[0;34m:\u001b[0m\u001b[0;34m\u001b[0m\u001b[0;34m\u001b[0m\u001b[0m\n\u001b[0;32m--> 253\u001b[0;31m             \u001b[0mdf\u001b[0m \u001b[0;34m=\u001b[0m \u001b[0mself\u001b[0m\u001b[0;34m.\u001b[0m\u001b[0m_read_one_data\u001b[0m\u001b[0;34m(\u001b[0m\u001b[0mself\u001b[0m\u001b[0;34m.\u001b[0m\u001b[0murl\u001b[0m\u001b[0;34m,\u001b[0m \u001b[0mparams\u001b[0m\u001b[0;34m=\u001b[0m\u001b[0mself\u001b[0m\u001b[0;34m.\u001b[0m\u001b[0m_get_params\u001b[0m\u001b[0;34m(\u001b[0m\u001b[0mself\u001b[0m\u001b[0;34m.\u001b[0m\u001b[0msymbols\u001b[0m\u001b[0;34m)\u001b[0m\u001b[0;34m)\u001b[0m\u001b[0;34m\u001b[0m\u001b[0;34m\u001b[0m\u001b[0m\n\u001b[0m\u001b[1;32m    254\u001b[0m         \u001b[0;31m# Or multiple symbols, (e.g., ['GOOG', 'AAPL', 'MSFT'])\u001b[0m\u001b[0;34m\u001b[0m\u001b[0;34m\u001b[0m\u001b[0m\n\u001b[1;32m    255\u001b[0m         \u001b[0;32melif\u001b[0m \u001b[0misinstance\u001b[0m\u001b[0;34m(\u001b[0m\u001b[0mself\u001b[0m\u001b[0;34m.\u001b[0m\u001b[0msymbols\u001b[0m\u001b[0;34m,\u001b[0m \u001b[0mDataFrame\u001b[0m\u001b[0;34m)\u001b[0m\u001b[0;34m:\u001b[0m\u001b[0;34m\u001b[0m\u001b[0;34m\u001b[0m\u001b[0m\n",
      "\u001b[0;32m~/.local/lib/python3.10/site-packages/pandas_datareader/yahoo/daily.py\u001b[0m in \u001b[0;36m_read_one_data\u001b[0;34m(self, url, params)\u001b[0m\n\u001b[1;32m    151\u001b[0m         \u001b[0;32mtry\u001b[0m\u001b[0;34m:\u001b[0m\u001b[0;34m\u001b[0m\u001b[0;34m\u001b[0m\u001b[0m\n\u001b[1;32m    152\u001b[0m             \u001b[0mj\u001b[0m \u001b[0;34m=\u001b[0m \u001b[0mjson\u001b[0m\u001b[0;34m.\u001b[0m\u001b[0mloads\u001b[0m\u001b[0;34m(\u001b[0m\u001b[0mre\u001b[0m\u001b[0;34m.\u001b[0m\u001b[0msearch\u001b[0m\u001b[0;34m(\u001b[0m\u001b[0mptrn\u001b[0m\u001b[0;34m,\u001b[0m \u001b[0mresp\u001b[0m\u001b[0;34m.\u001b[0m\u001b[0mtext\u001b[0m\u001b[0;34m,\u001b[0m \u001b[0mre\u001b[0m\u001b[0;34m.\u001b[0m\u001b[0mDOTALL\u001b[0m\u001b[0;34m)\u001b[0m\u001b[0;34m.\u001b[0m\u001b[0mgroup\u001b[0m\u001b[0;34m(\u001b[0m\u001b[0;36m1\u001b[0m\u001b[0;34m)\u001b[0m\u001b[0;34m)\u001b[0m\u001b[0;34m\u001b[0m\u001b[0;34m\u001b[0m\u001b[0m\n\u001b[0;32m--> 153\u001b[0;31m             \u001b[0mdata\u001b[0m \u001b[0;34m=\u001b[0m \u001b[0mj\u001b[0m\u001b[0;34m[\u001b[0m\u001b[0;34m\"context\"\u001b[0m\u001b[0;34m]\u001b[0m\u001b[0;34m[\u001b[0m\u001b[0;34m\"dispatcher\"\u001b[0m\u001b[0;34m]\u001b[0m\u001b[0;34m[\u001b[0m\u001b[0;34m\"stores\"\u001b[0m\u001b[0;34m]\u001b[0m\u001b[0;34m[\u001b[0m\u001b[0;34m\"HistoricalPriceStore\"\u001b[0m\u001b[0;34m]\u001b[0m\u001b[0;34m\u001b[0m\u001b[0;34m\u001b[0m\u001b[0m\n\u001b[0m\u001b[1;32m    154\u001b[0m         \u001b[0;32mexcept\u001b[0m \u001b[0mKeyError\u001b[0m\u001b[0;34m:\u001b[0m\u001b[0;34m\u001b[0m\u001b[0;34m\u001b[0m\u001b[0m\n\u001b[1;32m    155\u001b[0m             \u001b[0mmsg\u001b[0m \u001b[0;34m=\u001b[0m \u001b[0;34m\"No data fetched for symbol {} using {}\"\u001b[0m\u001b[0;34m\u001b[0m\u001b[0;34m\u001b[0m\u001b[0m\n",
      "\u001b[0;31mTypeError\u001b[0m: string indices must be integers"
     ]
    }
   ],
   "source": [
    "# Import libraries\n",
    "import pandas as pd\n",
    "import pandas_datareader.data as web\n",
    "import matplotlib.pyplot as plt\n",
    "\n",
    "# Define parameters\n",
    "symbol = 'AAPL' # Asset symbol\n",
    "start = '2022-01-01' # Start date\n",
    "end = '2022-03-17' # End date\n",
    "ma_period = 50 # Moving average period\n",
    "\n",
    "# Get historical data from Yahoo Finance\n",
    "df = web.DataReader(symbol, 'yahoo', start, end)\n",
    "\n",
    "# Calculate moving average (MA)\n",
    "df['MA'] = df['Adj Close'].rolling(ma_period).mean()\n",
    "\n",
    "# Calculate on balance volume (OBV)\n",
    "df['OBV'] = 0 # Initialize OBV column with zero values\n",
    "for i in range(1, len(df)): # Loop through each row except the first one\n",
    "    if df['Adj Close'][i] > df['Adj Close'][i - 1]: # If current close is higher than previous close \n",
    "        df['OBV'][i] = df['OBV'][i - 1] + df['Volume'][i] # Add current volume to previous OBV \n",
    "    elif df['Adj Close'][i] < df['Adj Close'][i - 1]: # If current close is lower than previous close \n",
    "        df['OBV'][i] = df['OBV'][i - 1] - df['Volume'][i] # Subtract current volume from previous OBV \n",
    "    else: # If current close is equal to previous close \n",
    "        df['OBV'][i] = df['OBV'][i - 1] # Keep previous OBV \n",
    "\n",
    "# Define trading signals\n",
    "\n",
    "# Buy signal: Price is above MA and OBV is rising \n",
    "df['Buy'] = ((df['Adj Close'] > df['MA']) & \n",
    "             (df['OBV'].diff() > 0))\n",
    "\n",
    "# Sell signal: Price is below MA and OBV is falling \n",
    "df['Sell'] = ((df['Adj Close'] < df['MA']) & \n",
    "              (df['OBV'].diff() < 0))\n",
    "\n",
    "# Plot data and signals\n",
    "\n",
    "# Create subplots for price and OBV\n",
    "fig, axes = plt.subplots(nrows=2, ncols=1, figsize=(15,10))\n",
    "fig.suptitle('Momentum Trading Strategy with Volume')\n",
    "\n",
    "# # Plot price, MA, buy and sell signals on first subplot \n",
    "# axes[0].plot(df.index, df[['Adj Close', 'MA']])\n",
    "# axes[0].scatter(df[df.Buy].index,[max(df.Adj Close) * 1.05 for x in range(len(df[df.Buy]))],marker='^')\n",
    "# axes[0].scatter(df[df.Sell].index,[max(df.Adj Close) * 1.05 for x in range(len(df[df.Sell]))],marker='v')\n",
    "# axes[0].set_ylabel('Price')\n",
    "# axes[0].legend(['Price', 'MA', 'Buy', 'Sell'])\n",
    "\n",
    "# # Plot OBV on second subplot \n",
    "# axes[1].plot(df.index, df.OBV)\n",
    "# axes[1].set_ylabel('On Balance Volume')\n",
    "# axes[1].legend(['OBV'])\n",
    "\n",
    "# plt.show()"
   ]
  },
  {
   "cell_type": "code",
   "execution_count": 128,
   "id": "8d9040e4",
   "metadata": {},
   "outputs": [
    {
     "name": "stdout",
     "output_type": "stream",
     "text": [
      "Defaulting to user installation because normal site-packages is not writeable\n",
      "Collecting pandas_datareader\n",
      "  Downloading pandas_datareader-0.10.0-py3-none-any.whl (109 kB)\n",
      "\u001b[2K     \u001b[38;2;114;156;31m━━━━━━━━━━━━━━━━━━━━━━━━━━━━━━━━━━━━━\u001b[0m \u001b[32m109.5/109.5 KB\u001b[0m \u001b[31m616.3 kB/s\u001b[0m eta \u001b[36m0:00:00\u001b[0m1m852.9 kB/s\u001b[0m eta \u001b[36m0:00:01\u001b[0m\n",
      "\u001b[?25hRequirement already satisfied: pandas>=0.23 in /home/dhruv/.local/lib/python3.10/site-packages (from pandas_datareader) (1.5.3)\n",
      "Requirement already satisfied: lxml in /home/dhruv/.local/lib/python3.10/site-packages (from pandas_datareader) (4.9.2)\n",
      "Requirement already satisfied: requests>=2.19.0 in /home/dhruv/.local/lib/python3.10/site-packages (from pandas_datareader) (2.28.2)\n",
      "Requirement already satisfied: pytz>=2020.1 in /home/dhruv/.local/lib/python3.10/site-packages (from pandas>=0.23->pandas_datareader) (2022.7.1)\n",
      "Requirement already satisfied: numpy>=1.21.0 in /usr/lib/python3/dist-packages (from pandas>=0.23->pandas_datareader) (1.21.5)\n",
      "Requirement already satisfied: python-dateutil>=2.8.1 in /usr/lib/python3/dist-packages (from pandas>=0.23->pandas_datareader) (2.8.1)\n",
      "Requirement already satisfied: idna<4,>=2.5 in /usr/lib/python3/dist-packages (from requests>=2.19.0->pandas_datareader) (3.3)\n",
      "Requirement already satisfied: urllib3<1.27,>=1.21.1 in /usr/lib/python3/dist-packages (from requests>=2.19.0->pandas_datareader) (1.26.5)\n",
      "Requirement already satisfied: charset-normalizer<4,>=2 in /home/dhruv/.local/lib/python3.10/site-packages (from requests>=2.19.0->pandas_datareader) (3.0.1)\n",
      "Requirement already satisfied: certifi>=2017.4.17 in /usr/lib/python3/dist-packages (from requests>=2.19.0->pandas_datareader) (2020.6.20)\n",
      "Installing collected packages: pandas_datareader\n",
      "Successfully installed pandas_datareader-0.10.0\n"
     ]
    }
   ],
   "source": [
    "!pip install pandas_datareader"
   ]
  },
  {
   "cell_type": "markdown",
   "id": "ca0b8e78",
   "metadata": {},
   "source": [
    "## Pairs Trading\n",
    "[Resource](https://medium.com/swlh/creating-and-back-testing-a-pairs-trading-strategy-in-python-caa807b70373)"
   ]
  },
  {
   "attachments": {
    "1_VDP5-6gFJOwbWLfCoS5I1Q.webp": {
     "image/webp": "[encoded data removed]"
    }
   },
   "cell_type": "markdown",
   "id": "3a61ba5d",
   "metadata": {},
   "source": [
    "Pairs trading is a mean-reversion strategy that involves trading on two related stocks with similar statistical and economic properties. It aims to exploit short-term deviations from their long-term equilibirium by buying the undervalued stock and selling the overvalued one. Pairs trading requires cointergrated pairs of stocks, which means that their prices move together in the long run. \n",
    "\n",
    "First we need to know the difference between correlation and cointergration\n",
    "***Correlation***: measures the linear relationship between two variables\n",
    "* ρ = -1, means a perfectly negative relationship. They move in the opposite direction\n",
    "* ρ = 0, means there is no correlation relationship between the variables\n",
    "* ρ = 1, means there is a positive correlation relationship betweent he variables this is usually what we are trying to find.\n",
    "\n",
    "\n",
    "Correlation does not imply causality. It is not used to explain variations in one dataset caused by the other. We use regression analysis for that issue. Negatively correlated assets can be used to hedge one another, and it is the basic diversification rule for portfolio management. If we have two different datasets and their respective variances, we can calculate a measure called covariance. Covariance has the same principle as correlation except excepr that it is unbounded and therefore not really meaningful. It is however used in the formula of correlation\n",
    "![1_VDP5-6gFJOwbWLfCoS5I1Q.webp](attachment:1_VDP5-6gFJOwbWLfCoS5I1Q.webp)\n",
    "\n",
    "***Cointegration*** It is a statistical property of two or more time series variables that are non-stationary, meaning that their mean and variance change over time. Cointegration means that there is a long-run equilibirium relationship between the variables, such that a linear combinatin of them is stationary, meaning that its mean and variance are constatnt over time. for example, if x and y are both non-stationary time-series, but aX + bY is stationary for some coefficients a and b, then X and Y are cointegrated. \n",
    "\n",
    "Cointegration is useful for testing the correlation between non-statinary time series in the long run, and for identifying pairs of stocks that move together in the long run, but may deviate from their equilibirium in the short run. Cointergration can tested using various methods such as the Engle-Granger two-step methods, the Johasen test, or the Philip-Ouliaris test. These methods involve testing for the presence of a ***unit root***. in the linear combiation of the variables. If there is no unit root, then the variables are cointegrated. \n",
    "\n",
    "***Unit Root***\n",
    "A unit root is a feature of some time series that makes them non-stationary, meaning that their mean and variance change over time. A unit root means that 1 is a root of the characteristic equation of the time series, which describes how the current value depends on the past values. A unit root implies that the time series follows a random walk with drift, meaning that it has a systematic pattern that is unpredictable.\n",
    "\n",
    "A unit root can cause problems in statistical inference involving time series models, such as spurious regressions or invalid assumptions. Therefore, it is important to test for the presence of a unit root before applying any analysis to a time series. There are various tests for unit roots, such as the Dickey-Fuller test, the Phillips-Perron test, or the Zivot-Andrews test. These tests compare the observed time series with a stationary one and check if there is a significant difference."
   ]
  },
  {
   "cell_type": "code",
   "execution_count": 64,
   "id": "55966579",
   "metadata": {},
   "outputs": [
    {
     "name": "stdout",
     "output_type": "stream",
     "text": [
      "[*********************100%***********************]  1 of 1 completed\n",
      "[*********************100%***********************]  1 of 1 completed\n"
     ]
    }
   ],
   "source": [
    "import yfinance as yf\n",
    "asset1=yf.download(\"HDFC.NS\", start=\"2022-01-02\", end=\"2023-1-1\")\n",
    "asset2=yf.download(\"HDFCAMC.NS\", start=\"2022-01-02\", end=\"2023-1-1\")"
   ]
  },
  {
   "cell_type": "code",
   "execution_count": 65,
   "id": "c5693f78",
   "metadata": {
    "scrolled": true
   },
   "outputs": [
    {
     "data": {
      "text/plain": [
       "0.7469653091896217"
      ]
     },
     "execution_count": 65,
     "metadata": {},
     "output_type": "execute_result"
    }
   ],
   "source": [
    "import numpy as np \n",
    "np.corrcoef(asset1.Close,asset2.Close)[1][0]\n"
   ]
  },
  {
   "cell_type": "markdown",
   "id": "b1b31d03",
   "metadata": {},
   "source": [
    "the result of correlation shows that correlation is .95 which is indeed a pretty strong correlation, now we will seperately check whether the two time series are stationay or not, and then check if they are cointegrated or not. "
   ]
  },
  {
   "cell_type": "code",
   "execution_count": 66,
   "id": "874b76ae",
   "metadata": {},
   "outputs": [
    {
     "ename": "TypeError",
     "evalue": "adfuller() missing 1 required positional argument: 'x'",
     "output_type": "error",
     "traceback": [
      "\u001b[0;31m---------------------------------------------------------------------------\u001b[0m",
      "\u001b[0;31mTypeError\u001b[0m                                 Traceback (most recent call last)",
      "\u001b[0;32m/tmp/ipykernel_32730/420531079.py\u001b[0m in \u001b[0;36m<module>\u001b[0;34m\u001b[0m\n\u001b[1;32m      1\u001b[0m \u001b[0;32mimport\u001b[0m \u001b[0mstatsmodels\u001b[0m\u001b[0;34m\u001b[0m\u001b[0;34m\u001b[0m\u001b[0m\n\u001b[0;32m----> 2\u001b[0;31m \u001b[0mstatsmodels\u001b[0m\u001b[0;34m.\u001b[0m\u001b[0mtsa\u001b[0m\u001b[0;34m.\u001b[0m\u001b[0mstattools\u001b[0m\u001b[0;34m.\u001b[0m\u001b[0madfuller\u001b[0m\u001b[0;34m(\u001b[0m\u001b[0;34m)\u001b[0m\u001b[0;34m\u001b[0m\u001b[0;34m\u001b[0m\u001b[0m\n\u001b[0m",
      "\u001b[0;31mTypeError\u001b[0m: adfuller() missing 1 required positional argument: 'x'"
     ]
    }
   ],
   "source": [
    "import statsmodels\n",
    "statsmodels.tsa.stattools.adfuller()"
   ]
  },
  {
   "cell_type": "code",
   "execution_count": 67,
   "id": "10ed0000",
   "metadata": {},
   "outputs": [
    {
     "name": "stdout",
     "output_type": "stream",
     "text": [
      "‘The series is NOT stationary’\n",
      "‘p-value = ‘ 0.19518739875483992\n",
      "‘The series is NOT stationary’\n",
      "‘p-value = ‘ 0.14216945190970015\n",
      "‘The series are NOT cointegrated’\n",
      "‘p-value = ‘ 0.2483335852575963\n"
     ]
    }
   ],
   "source": [
    "def stationarity(a, cutoff = 0.05):\n",
    "    #a = np.ravel(a)\n",
    "    if statsmodels.tsa.stattools.adfuller(a)[1] < cutoff:\n",
    "        print(\"The series is stationary\")\n",
    "        print(\"p-value = \", statsmodels.tsa.stattools.adfuller(a)[1])\n",
    "    else:\n",
    "        print(\"‘The series is NOT stationary’\")\n",
    "        print(\"‘p-value = ‘\", statsmodels.tsa.stattools.adfuller(a)[1])\n",
    "stationarity(asset1.Close)\n",
    "stationarity(asset2.Close)\n",
    "\n",
    "def cointegration(a, b):\n",
    "    if statsmodels.tsa.stattools.coint(a, b)[1] < 0.05:\n",
    "        print(\"‘The series are cointegrated’\")\n",
    "        print(\"‘p-value = ‘\", statsmodels.tsa.stattools.coint(a, b)[1])\n",
    "    else:\n",
    "        print(\"‘The series are NOT cointegrated’\")\n",
    "        print(\"‘p-value = ‘\", statsmodels.tsa.stattools.coint(a, b)[1])\n",
    "cointegration(asset1.Close, asset2.Close)"
   ]
  },
  {
   "cell_type": "code",
   "execution_count": 63,
   "id": "e793eb75",
   "metadata": {},
   "outputs": [],
   "source": [
    "import pandas as pd\n",
    "import numpy as np\n",
    "from datetime import date\n",
    "from nsepy import symbols\n",
    "from indicators import *\n",
    "import yfinance as yf\n",
    "import sys\n",
    "\n",
    "#loading the data from the pre-existing csv file\n",
    "#df=pd.read_csv(\"data500.csv\")\n",
    "symbols=pd.DataFrame(symbols.get_index_constituents_list(\"nifty100\"))\n",
    "symbols=symbols['Symbol'].values.tolist()"
   ]
  },
  {
   "cell_type": "code",
   "execution_count": 29,
   "id": "4f549ed8",
   "metadata": {},
   "outputs": [
    {
     "name": "stdout",
     "output_type": "stream",
     "text": [
      "[*********************100%***********************]  1 of 1 completed\n"
     ]
    }
   ],
   "source": [
    "data_bse = yf.download(tickers='^BSESN', start=\"2022-01-02\", end=\"2023-1-1\")\n"
   ]
  },
  {
   "cell_type": "code",
   "execution_count": 25,
   "id": "15c6fd34",
   "metadata": {},
   "outputs": [
    {
     "name": "stdout",
     "output_type": "stream",
     "text": [
      "[*********************100%***********************]  1 of 1 completed\n"
     ]
    }
   ],
   "source": [
    "data_dlf = yf.download(tickers='SBIN.NS', start=\"2022-01-02\", end=\"2023-1-1\")\n"
   ]
  },
  {
   "cell_type": "code",
   "execution_count": 30,
   "id": "46f217ba",
   "metadata": {},
   "outputs": [],
   "source": [
    "import numpy as np \n",
    "a=np.corrcoef(data_bse.Close,data_dlf.Close)"
   ]
  },
  {
   "cell_type": "code",
   "execution_count": 27,
   "id": "15a1d3a0",
   "metadata": {},
   "outputs": [
    {
     "data": {
      "text/plain": [
       "0.8721990548349045"
      ]
     },
     "execution_count": 27,
     "metadata": {},
     "output_type": "execute_result"
    }
   ],
   "source": [
    "a[1][0]"
   ]
  },
  {
   "cell_type": "code",
   "execution_count": 31,
   "id": "7145506c",
   "metadata": {},
   "outputs": [
    {
     "name": "stdout",
     "output_type": "stream",
     "text": [
      "[*********************100%***********************]  1 of 1 completed\n",
      "[*********************100%***********************]  1 of 1 completed\n",
      "[*********************100%***********************]  1 of 1 completed\n",
      "[*********************100%***********************]  1 of 1 completed\n",
      "[*********************100%***********************]  1 of 1 completed\n",
      "[*********************100%***********************]  1 of 1 completed\n",
      "[*********************100%***********************]  1 of 1 completed\n",
      "[*********************100%***********************]  1 of 1 completed\n",
      "[*********************100%***********************]  1 of 1 completed\n",
      "[*********************100%***********************]  1 of 1 completed\n",
      "[*********************100%***********************]  1 of 1 completed\n",
      "[*********************100%***********************]  1 of 1 completed\n",
      "[*********************100%***********************]  1 of 1 completed\n",
      "[*********************100%***********************]  1 of 1 completed\n",
      "[*********************100%***********************]  1 of 1 completed\n",
      "[*********************100%***********************]  1 of 1 completed\n",
      "[*********************100%***********************]  1 of 1 completed\n",
      "[*********************100%***********************]  1 of 1 completed\n",
      "[*********************100%***********************]  1 of 1 completed\n",
      "[*********************100%***********************]  1 of 1 completed\n",
      "[*********************100%***********************]  1 of 1 completed\n",
      "[*********************100%***********************]  1 of 1 completed\n",
      "[*********************100%***********************]  1 of 1 completed\n",
      "[*********************100%***********************]  1 of 1 completed\n",
      "[*********************100%***********************]  1 of 1 completed\n",
      "[*********************100%***********************]  1 of 1 completed\n",
      "[*********************100%***********************]  1 of 1 completed\n",
      "[*********************100%***********************]  1 of 1 completed\n",
      "[*********************100%***********************]  1 of 1 completed\n",
      "[*********************100%***********************]  1 of 1 completed\n",
      "[*********************100%***********************]  1 of 1 completed\n",
      "[*********************100%***********************]  1 of 1 completed\n",
      "[*********************100%***********************]  1 of 1 completed\n",
      "[*********************100%***********************]  1 of 1 completed\n",
      "[*********************100%***********************]  1 of 1 completed\n",
      "[*********************100%***********************]  1 of 1 completed\n",
      "[*********************100%***********************]  1 of 1 completed\n",
      "[*********************100%***********************]  1 of 1 completed\n",
      "[*********************100%***********************]  1 of 1 completed\n",
      "[*********************100%***********************]  1 of 1 completed\n",
      "[*********************100%***********************]  1 of 1 completed\n",
      "[*********************100%***********************]  1 of 1 completed\n",
      "[*********************100%***********************]  1 of 1 completed\n",
      "[*********************100%***********************]  1 of 1 completed\n",
      "[*********************100%***********************]  1 of 1 completed\n",
      "[*********************100%***********************]  1 of 1 completed\n",
      "[*********************100%***********************]  1 of 1 completed\n",
      "[*********************100%***********************]  1 of 1 completed\n",
      "[*********************100%***********************]  1 of 1 completed\n",
      "[*********************100%***********************]  1 of 1 completed\n",
      "[*********************100%***********************]  1 of 1 completed\n",
      "[*********************100%***********************]  1 of 1 completed\n",
      "[*********************100%***********************]  1 of 1 completed\n",
      "[*********************100%***********************]  1 of 1 completed\n",
      "[*********************100%***********************]  1 of 1 completed\n",
      "[*********************100%***********************]  1 of 1 completed\n",
      "[*********************100%***********************]  1 of 1 completed\n",
      "[*********************100%***********************]  1 of 1 completed\n",
      "[*********************100%***********************]  1 of 1 completed\n",
      "[*********************100%***********************]  1 of 1 completed\n",
      "[*********************100%***********************]  1 of 1 completed\n",
      "[*********************100%***********************]  1 of 1 completed\n",
      "[*********************100%***********************]  1 of 1 completed\n",
      "[*********************100%***********************]  1 of 1 completed\n",
      "[*********************100%***********************]  1 of 1 completed\n",
      "[*********************100%***********************]  1 of 1 completed\n",
      "[*********************100%***********************]  1 of 1 completed\n",
      "[*********************100%***********************]  1 of 1 completed\n",
      "[*********************100%***********************]  1 of 1 completed\n",
      "[*********************100%***********************]  1 of 1 completed\n",
      "[*********************100%***********************]  1 of 1 completed\n",
      "[*********************100%***********************]  1 of 1 completed\n",
      "[*********************100%***********************]  1 of 1 completed\n",
      "[*********************100%***********************]  1 of 1 completed\n",
      "[*********************100%***********************]  1 of 1 completed\n",
      "[*********************100%***********************]  1 of 1 completed\n",
      "[*********************100%***********************]  1 of 1 completed\n",
      "[*********************100%***********************]  1 of 1 completed\n",
      "[*********************100%***********************]  1 of 1 completed\n",
      "[*********************100%***********************]  1 of 1 completed\n",
      "[*********************100%***********************]  1 of 1 completed\n",
      "[*********************100%***********************]  1 of 1 completed\n",
      "[*********************100%***********************]  1 of 1 completed\n",
      "[*********************100%***********************]  1 of 1 completed\n",
      "[*********************100%***********************]  1 of 1 completed\n",
      "[*********************100%***********************]  1 of 1 completed\n",
      "[*********************100%***********************]  1 of 1 completed\n",
      "[*********************100%***********************]  1 of 1 completed\n",
      "[*********************100%***********************]  1 of 1 completed\n",
      "[*********************100%***********************]  1 of 1 completed\n",
      "[*********************100%***********************]  1 of 1 completed\n",
      "[*********************100%***********************]  1 of 1 completed\n",
      "[*********************100%***********************]  1 of 1 completed\n",
      "[*********************100%***********************]  1 of 1 completed\n",
      "[*********************100%***********************]  1 of 1 completed\n",
      "[*********************100%***********************]  1 of 1 completed\n",
      "[*********************100%***********************]  1 of 1 completed\n",
      "[*********************100%***********************]  1 of 1 completed\n",
      "[*********************100%***********************]  1 of 1 completed\n",
      "[*********************100%***********************]  1 of 1 completed\n"
     ]
    }
   ],
   "source": [
    "corr_table=pd.DataFrame()\n",
    "for symbol in symbols:\n",
    "    try:\n",
    "        data_tick=yf.download(tickers=symbol+\".NS\", start=\"2022-01-02\", end=\"2023-1-1\")\n",
    "        corr=np.corrcoef(data_tick.Close,data_bse.Close)\n",
    "        temp=pd.DataFrame([(symbol,corr[1][0])])\n",
    "        corr_table=pd.concat([corr_table,temp])\n",
    "    except:\n",
    "        pass\n",
    "    "
   ]
  },
  {
   "cell_type": "code",
   "execution_count": 34,
   "id": "41e5dc1f",
   "metadata": {},
   "outputs": [
    {
     "data": {
      "text/html": [
       "<div>\n",
       "<style scoped>\n",
       "    .dataframe tbody tr th:only-of-type {\n",
       "        vertical-align: middle;\n",
       "    }\n",
       "\n",
       "    .dataframe tbody tr th {\n",
       "        vertical-align: top;\n",
       "    }\n",
       "\n",
       "    .dataframe thead th {\n",
       "        text-align: right;\n",
       "    }\n",
       "</style>\n",
       "<table border=\"1\" class=\"dataframe\">\n",
       "  <thead>\n",
       "    <tr style=\"text-align: right;\">\n",
       "      <th></th>\n",
       "      <th>0</th>\n",
       "      <th>1</th>\n",
       "    </tr>\n",
       "  </thead>\n",
       "  <tbody>\n",
       "    <tr>\n",
       "      <th>0</th>\n",
       "      <td>BANDHANBNK</td>\n",
       "      <td>-0.487891</td>\n",
       "    </tr>\n",
       "    <tr>\n",
       "      <th>0</th>\n",
       "      <td>BIOCON</td>\n",
       "      <td>-0.338391</td>\n",
       "    </tr>\n",
       "    <tr>\n",
       "      <th>0</th>\n",
       "      <td>GLAND</td>\n",
       "      <td>-0.360438</td>\n",
       "    </tr>\n",
       "  </tbody>\n",
       "</table>\n",
       "</div>"
      ],
      "text/plain": [
       "            0         1\n",
       "0  BANDHANBNK -0.487891\n",
       "0      BIOCON -0.338391\n",
       "0       GLAND -0.360438"
      ]
     },
     "execution_count": 34,
     "metadata": {},
     "output_type": "execute_result"
    }
   ],
   "source": [
    "corr_table[corr_table[1]<-0.3]"
   ]
  },
  {
   "cell_type": "code",
   "execution_count": 17,
   "id": "76b363ff",
   "metadata": {},
   "outputs": [
    {
     "data": {
      "text/plain": [
       "0            IDEA\n",
       "1            GAIL\n",
       "2      IDFCFIRSTB\n",
       "3             PNB\n",
       "4            IDEA\n",
       "          ...    \n",
       "545      FINNIFTY\n",
       "546    ABBOTINDIA\n",
       "547       PAGEIND\n",
       "548     NESTLEIND\n",
       "549           MRF\n",
       "Name: Symbol, Length: 550, dtype: object"
      ]
     },
     "execution_count": 17,
     "metadata": {},
     "output_type": "execute_result"
    }
   ],
   "source": [
    "pd.read_csv(\"./stockList.csv\").Symbol"
   ]
  },
  {
   "cell_type": "code",
   "execution_count": null,
   "id": "a5bc886a",
   "metadata": {},
   "outputs": [],
   "source": []
  }
 ],
 "metadata": {
  "kernelspec": {
   "display_name": "Python 3 (ipykernel)",
   "language": "python",
   "name": "python3"
  },
  "language_info": {
   "codemirror_mode": {
    "name": "ipython",
    "version": 3
   },
   "file_extension": ".py",
   "mimetype": "text/x-python",
   "name": "python",
   "nbconvert_exporter": "python",
   "pygments_lexer": "ipython3",
   "version": "3.10.6"
  }
 },
 "nbformat": 4,
 "nbformat_minor": 5
}
