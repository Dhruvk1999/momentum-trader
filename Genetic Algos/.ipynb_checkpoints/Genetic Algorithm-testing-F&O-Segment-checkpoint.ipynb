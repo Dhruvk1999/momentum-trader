{
 "cells": [
  {
   "cell_type": "code",
   "execution_count": 6,
   "id": "5b594819",
   "metadata": {},
   "outputs": [],
   "source": [
    "from evolution_operators import *\n",
    "from utility_functions import *"
   ]
  },
  {
   "cell_type": "code",
   "execution_count": 42,
   "id": "2f760f5e",
   "metadata": {},
   "outputs": [],
   "source": [
    "def evaluate_strategy(data, fast_period, slow_period, fast_p_exit, slow_p_exit, stop_loss_percentage):\n",
    "    # Calculate indicators\n",
    "#     print(fast_period,slow_period,fast_p_exit, slow_p_exit, stop_loss_percentage)\n",
    "    data['MACD'], data['Signal'] = calculate_macd(data, fast_period, slow_period)\n",
    "    data['MACD_E'], data['Signal_E'] = calculate_macd(data, fast_p_exit, slow_p_exit)\n",
    "\n",
    "    data['ROC'] = calculate_roc(data, 3)\n",
    "#     data['RSI_Derivative'] = calculate_rsi_derivative(data, rsi_period)\n",
    "    \n",
    "    # Apply trailing stop-loss exit condition\n",
    "#     stop_loss = trailing_stop_loss(data, stop_loss_percentage)\n",
    "    \n",
    "    # Simulated trading logic\n",
    "    position = 0  # 0 for no position, 1 for long position\n",
    "    profit = 0\n",
    "    total_trades = 0\n",
    "    winning_trades = 0\n",
    "    stricly_winning_trades =0\n",
    "    allocated_funds = 100000\n",
    "    no_of_shares =0\n",
    "    stop_loss_price = 0\n",
    "    \n",
    "    for i in range(1, len(data)):\n",
    "        try:\n",
    "\n",
    "            if position == 0:\n",
    "                if data['MACD'][i] > data['Signal'][i] :#and data['ROC'][i] > 1: #and data['RSI_Derivative'][i] > rsi_derivative_threshold:\n",
    "                \n",
    "                    position = 1  # Buy (enter long position)\n",
    "                    entry_price = data['Close'][i]\n",
    "                    stop_loss_price = entry_price - (entry_price * 0.01 * stop_loss_percentage)\n",
    "#                     print(f\"Entry: {entry_price} on {data.index[i]} Stop Loss: {stop_loss_price}\")\n",
    "                    total_trades += 1\n",
    "                    no_of_shares = allocated_funds//entry_price\n",
    "                    \n",
    "            elif position == 1 and data['MACD'][i] < data['Signal'][i]:\n",
    "                \n",
    "                if data['Close'][i] > entry_price:  # Adjust stop loss only when the price goes up\n",
    "                    stop_loss_price = max(stop_loss_price, data['Close'][i] - (data['Close'][i] * 0.01 * stop_loss_percentage))\n",
    "\n",
    "                if data['Low'][i] < stop_loss_price:\n",
    "                    position = 0  # Sell due to stop loss\n",
    "                    exit_price = data['Open'][i] if stop_loss_price > data['Open'][i] else stop_loss_price\n",
    "                    trade_profit = (exit_price - entry_price) * no_of_shares  # Calculate profit/loss\n",
    "                    profit=trade_profit\n",
    "                    allocated_funds += profit\n",
    "                    no_of_shares =0\n",
    "#                     print(f\"Exit: {exit_price} on {data.index[i]} exited on stop loss Allocated Funds {allocated_funds}\")\n",
    "#                     print(f\"Profit: {profit}\")\n",
    "                    if(exit_price>= entry_price):\n",
    "                        winning_trades += 1\n",
    "                    if(exit_price> entry_price):\n",
    "                        stricly_winning_trades += 1\n",
    "                elif data['MACD_E'][i] < data['Signal_E'][i]:\n",
    "                    position = 0  # Sell due to exit condition\n",
    "                    exit_price = data['Close'][i]\n",
    "                    trade_profit = (exit_price - entry_price) * no_of_shares  # Calculate profit/loss\n",
    "                    profit=trade_profit#                     \n",
    "#                     print(f\"Exit: {exit_price} on {data.index[i]} exited on stop loss Allocated Funds {allocated_funds}\")\n",
    "#                     print(f\"Profit: {profit}\")\n",
    "                    allocated_funds += profit\n",
    "\n",
    "                    no_of_shares =0\n",
    "                    if(exit_price>= entry_price):\n",
    "                        winning_trades += 1\n",
    "                    if(exit_price> entry_price):\n",
    "                        stricly_winning_trades += 1\n",
    "            \n",
    "        except Exception as ex:\n",
    "            print(\"Something caused the error\",ex)\n",
    "            break\n",
    "        win_rate = winning_trades/total_trades if total_trades != 0 else 0\n",
    "    \n",
    "    return [profit,total_trades,winning_trades,stricly_winning_trades,win_rate,allocated_funds]"
   ]
  },
  {
   "cell_type": "code",
   "execution_count": 9,
   "id": "0ccab46b",
   "metadata": {},
   "outputs": [],
   "source": [
    "def trade_symbols(tickers):\n",
    "    metrics = {}\n",
    "    total_symbols = len(tickers)\n",
    "    fund_per_symbol = 100000 / total_symbols  # Initial fund equally distributed among symbols\n",
    "\n",
    "    for symbol in tickers:\n",
    "        # Fetch historical stock data\n",
    "        ticker_symbol = symbol  # Replace with your desired stock symbol\n",
    "        start_date = '2022-01-01'\n",
    "        end_date = '2022-12-31'\n",
    "        stock_data = fetch_stock_data(ticker_symbol, start_date, end_date)\n",
    "\n",
    "        # Genetic Algorithm parameters\n",
    "        population_size = 200\n",
    "        num_generations = 20\n",
    "        mutation_rate = 0.1\n",
    "        elite_size = 30\n",
    "        consecutive_threshold = 3  # Number of consecutive generations with no fitness improvement to consider saturation\n",
    "        fitness_history = []  # To store fitness scores across generations\n",
    "\n",
    "        # GA: Initialization\n",
    "        def generate_individual():\n",
    "            fast_p = random.randint(2,10)\n",
    "            slow_p = random.randint(fast_p,20)\n",
    "            fast_p_exit = random.randint(2,10)\n",
    "            slow_p_exit = random.randint(fast_p_exit,20)\n",
    "            return [fast_p,slow_p,fast_p_exit,slow_p_exit, random.uniform(-1,2)]\n",
    "\n",
    "\n",
    "        # Known or useful parameter values\n",
    "        known_parameters = [\n",
    "        #     [3, 4, 1, 10,0],\n",
    "        #     [7, 9, 5,9,  0],\n",
    "        #     [7, 9, 5,9,  3],\n",
    "        #     [2, 3, 2,4,  0],\n",
    "        #     [2, 15, 6, 10, 0],\n",
    "            [2, 15, 3, 3, 3],\n",
    "            [2, 18, 8, 14, -0.9930604812498026]# Example set of known parameters\n",
    "                             # Add more known parameter sets if available\n",
    "        ]\n",
    "\n",
    "        # Randomly generate the rest of the population\n",
    "        remaining_population = [generate_individual() for _ in range(population_size - len(known_parameters))]\n",
    "\n",
    "        # Initialize population using known parameter values and randomly generated values\n",
    "        population = known_parameters + remaining_population\n",
    "        # population = [generate_individual() for _ in range(population_size)]\n",
    "\n",
    "\n",
    "\n",
    "        for generation in range(num_generations):\n",
    "            fitness_scores = [evaluate_strategy(stock_data.copy(), *individual)[0] for individual in population]\n",
    "            sorted_population = [x for _, x in sorted(zip(fitness_scores, population), key=lambda pair: pair[0], reverse=True)]\n",
    "\n",
    "            new_population = []\n",
    "\n",
    "            # Select the top K individuals (elite) for the next generation\n",
    "            elite = sorted_population[:elite_size]\n",
    "\n",
    "            # Check for convergence or other stopping criteria\n",
    "            fitness_history.append(max(fitness_scores))\n",
    "\n",
    "            # Check for convergence or other stopping criteria\n",
    "            if len(fitness_history) >= consecutive_threshold:\n",
    "                recent_improvements = fitness_history[-consecutive_threshold:]\n",
    "                if len(set(recent_improvements)) == 1:\n",
    "                    print(\"Saturation condition met, breaking the loop\")\n",
    "                    break\n",
    "\n",
    "            # Create new population by generating offspring from the elite individuals\n",
    "            new_population = generate_offspring(elite,population_size,mutation_rate)\n",
    "\n",
    "            population = new_population\n",
    "\n",
    "\n",
    "\n",
    "        # Find the best individual (parameters) from the final population\n",
    "        best_individual_index = np.argmax(fitness_scores)\n",
    "        best_individual = population[best_individual_index]\n",
    "        best_fitness_score = fitness_scores[best_individual_index]\n",
    "\n",
    "        metrics[symbol] = {\n",
    "            \"Best Parameters\": best_individual,\n",
    "            \"Best Fitness Score\": best_fitness_score,\n",
    "            # Add other metrics you want to store for each symbol\n",
    "        }\n",
    "\n",
    "    return metrics"
   ]
  },
  {
   "cell_type": "code",
   "execution_count": null,
   "id": "e1e1ca3e",
   "metadata": {},
   "outputs": [],
   "source": []
  },
  {
   "cell_type": "code",
   "execution_count": 43,
   "id": "92c23e81",
   "metadata": {},
   "outputs": [
    {
     "name": "stdout",
     "output_type": "stream",
     "text": [
      "[*********************100%%**********************]  1 of 1 completed\n"
     ]
    },
    {
     "ename": "KeyboardInterrupt",
     "evalue": "",
     "output_type": "error",
     "traceback": [
      "\u001b[0;31m---------------------------------------------------------------------------\u001b[0m",
      "\u001b[0;31mKeyboardInterrupt\u001b[0m                         Traceback (most recent call last)",
      "\u001b[0;32m/tmp/ipykernel_33240/1026112984.py\u001b[0m in \u001b[0;36m<module>\u001b[0;34m\u001b[0m\n\u001b[1;32m      1\u001b[0m \u001b[0mtickers\u001b[0m \u001b[0;34m=\u001b[0m \u001b[0;34m[\u001b[0m\u001b[0;34m'ITC.NS'\u001b[0m\u001b[0;34m,\u001b[0m \u001b[0;34m'SBIN.NS'\u001b[0m\u001b[0;34m,\u001b[0m \u001b[0;34m'BPCL.NS'\u001b[0m\u001b[0;34m,\u001b[0m \u001b[0;34m'IGL.NS'\u001b[0m\u001b[0;34m]\u001b[0m  \u001b[0;31m# Replace with your desired symbols\u001b[0m\u001b[0;34m\u001b[0m\u001b[0;34m\u001b[0m\u001b[0m\n\u001b[0;32m----> 2\u001b[0;31m \u001b[0mall_metrics\u001b[0m \u001b[0;34m=\u001b[0m \u001b[0mtrade_symbols\u001b[0m\u001b[0;34m(\u001b[0m\u001b[0mtickers\u001b[0m\u001b[0;34m)\u001b[0m\u001b[0;34m\u001b[0m\u001b[0;34m\u001b[0m\u001b[0m\n\u001b[0m\u001b[1;32m      3\u001b[0m \u001b[0;34m\u001b[0m\u001b[0m\n\u001b[1;32m      4\u001b[0m \u001b[0;31m# Print metrics for all symbols\u001b[0m\u001b[0;34m\u001b[0m\u001b[0;34m\u001b[0m\u001b[0m\n\u001b[1;32m      5\u001b[0m \u001b[0;32mfor\u001b[0m \u001b[0msymbol\u001b[0m\u001b[0;34m,\u001b[0m \u001b[0mmetrics\u001b[0m \u001b[0;32min\u001b[0m \u001b[0mall_metrics\u001b[0m\u001b[0;34m.\u001b[0m\u001b[0mitems\u001b[0m\u001b[0;34m(\u001b[0m\u001b[0;34m)\u001b[0m\u001b[0;34m:\u001b[0m\u001b[0;34m\u001b[0m\u001b[0;34m\u001b[0m\u001b[0m\n",
      "\u001b[0;32m/tmp/ipykernel_33240/722147210.py\u001b[0m in \u001b[0;36mtrade_symbols\u001b[0;34m(tickers)\u001b[0m\n\u001b[1;32m     50\u001b[0m \u001b[0;34m\u001b[0m\u001b[0m\n\u001b[1;32m     51\u001b[0m         \u001b[0;32mfor\u001b[0m \u001b[0mgeneration\u001b[0m \u001b[0;32min\u001b[0m \u001b[0mrange\u001b[0m\u001b[0;34m(\u001b[0m\u001b[0mnum_generations\u001b[0m\u001b[0;34m)\u001b[0m\u001b[0;34m:\u001b[0m\u001b[0;34m\u001b[0m\u001b[0;34m\u001b[0m\u001b[0m\n\u001b[0;32m---> 52\u001b[0;31m             \u001b[0mfitness_scores\u001b[0m \u001b[0;34m=\u001b[0m \u001b[0;34m[\u001b[0m\u001b[0mevaluate_strategy\u001b[0m\u001b[0;34m(\u001b[0m\u001b[0mstock_data\u001b[0m\u001b[0;34m.\u001b[0m\u001b[0mcopy\u001b[0m\u001b[0;34m(\u001b[0m\u001b[0;34m)\u001b[0m\u001b[0;34m,\u001b[0m \u001b[0;34m*\u001b[0m\u001b[0mindividual\u001b[0m\u001b[0;34m)\u001b[0m\u001b[0;34m[\u001b[0m\u001b[0;36m0\u001b[0m\u001b[0;34m]\u001b[0m \u001b[0;32mfor\u001b[0m \u001b[0mindividual\u001b[0m \u001b[0;32min\u001b[0m \u001b[0mpopulation\u001b[0m\u001b[0;34m]\u001b[0m\u001b[0;34m\u001b[0m\u001b[0;34m\u001b[0m\u001b[0m\n\u001b[0m\u001b[1;32m     53\u001b[0m             \u001b[0msorted_population\u001b[0m \u001b[0;34m=\u001b[0m \u001b[0;34m[\u001b[0m\u001b[0mx\u001b[0m \u001b[0;32mfor\u001b[0m \u001b[0m_\u001b[0m\u001b[0;34m,\u001b[0m \u001b[0mx\u001b[0m \u001b[0;32min\u001b[0m \u001b[0msorted\u001b[0m\u001b[0;34m(\u001b[0m\u001b[0mzip\u001b[0m\u001b[0;34m(\u001b[0m\u001b[0mfitness_scores\u001b[0m\u001b[0;34m,\u001b[0m \u001b[0mpopulation\u001b[0m\u001b[0;34m)\u001b[0m\u001b[0;34m,\u001b[0m \u001b[0mkey\u001b[0m\u001b[0;34m=\u001b[0m\u001b[0;32mlambda\u001b[0m \u001b[0mpair\u001b[0m\u001b[0;34m:\u001b[0m \u001b[0mpair\u001b[0m\u001b[0;34m[\u001b[0m\u001b[0;36m0\u001b[0m\u001b[0;34m]\u001b[0m\u001b[0;34m,\u001b[0m \u001b[0mreverse\u001b[0m\u001b[0;34m=\u001b[0m\u001b[0;32mTrue\u001b[0m\u001b[0;34m)\u001b[0m\u001b[0;34m]\u001b[0m\u001b[0;34m\u001b[0m\u001b[0;34m\u001b[0m\u001b[0m\n\u001b[1;32m     54\u001b[0m \u001b[0;34m\u001b[0m\u001b[0m\n",
      "\u001b[0;32m/tmp/ipykernel_33240/722147210.py\u001b[0m in \u001b[0;36m<listcomp>\u001b[0;34m(.0)\u001b[0m\n\u001b[1;32m     50\u001b[0m \u001b[0;34m\u001b[0m\u001b[0m\n\u001b[1;32m     51\u001b[0m         \u001b[0;32mfor\u001b[0m \u001b[0mgeneration\u001b[0m \u001b[0;32min\u001b[0m \u001b[0mrange\u001b[0m\u001b[0;34m(\u001b[0m\u001b[0mnum_generations\u001b[0m\u001b[0;34m)\u001b[0m\u001b[0;34m:\u001b[0m\u001b[0;34m\u001b[0m\u001b[0;34m\u001b[0m\u001b[0m\n\u001b[0;32m---> 52\u001b[0;31m             \u001b[0mfitness_scores\u001b[0m \u001b[0;34m=\u001b[0m \u001b[0;34m[\u001b[0m\u001b[0mevaluate_strategy\u001b[0m\u001b[0;34m(\u001b[0m\u001b[0mstock_data\u001b[0m\u001b[0;34m.\u001b[0m\u001b[0mcopy\u001b[0m\u001b[0;34m(\u001b[0m\u001b[0;34m)\u001b[0m\u001b[0;34m,\u001b[0m \u001b[0;34m*\u001b[0m\u001b[0mindividual\u001b[0m\u001b[0;34m)\u001b[0m\u001b[0;34m[\u001b[0m\u001b[0;36m0\u001b[0m\u001b[0;34m]\u001b[0m \u001b[0;32mfor\u001b[0m \u001b[0mindividual\u001b[0m \u001b[0;32min\u001b[0m \u001b[0mpopulation\u001b[0m\u001b[0;34m]\u001b[0m\u001b[0;34m\u001b[0m\u001b[0;34m\u001b[0m\u001b[0m\n\u001b[0m\u001b[1;32m     53\u001b[0m             \u001b[0msorted_population\u001b[0m \u001b[0;34m=\u001b[0m \u001b[0;34m[\u001b[0m\u001b[0mx\u001b[0m \u001b[0;32mfor\u001b[0m \u001b[0m_\u001b[0m\u001b[0;34m,\u001b[0m \u001b[0mx\u001b[0m \u001b[0;32min\u001b[0m \u001b[0msorted\u001b[0m\u001b[0;34m(\u001b[0m\u001b[0mzip\u001b[0m\u001b[0;34m(\u001b[0m\u001b[0mfitness_scores\u001b[0m\u001b[0;34m,\u001b[0m \u001b[0mpopulation\u001b[0m\u001b[0;34m)\u001b[0m\u001b[0;34m,\u001b[0m \u001b[0mkey\u001b[0m\u001b[0;34m=\u001b[0m\u001b[0;32mlambda\u001b[0m \u001b[0mpair\u001b[0m\u001b[0;34m:\u001b[0m \u001b[0mpair\u001b[0m\u001b[0;34m[\u001b[0m\u001b[0;36m0\u001b[0m\u001b[0;34m]\u001b[0m\u001b[0;34m,\u001b[0m \u001b[0mreverse\u001b[0m\u001b[0;34m=\u001b[0m\u001b[0;32mTrue\u001b[0m\u001b[0;34m)\u001b[0m\u001b[0;34m]\u001b[0m\u001b[0;34m\u001b[0m\u001b[0;34m\u001b[0m\u001b[0m\n\u001b[1;32m     54\u001b[0m \u001b[0;34m\u001b[0m\u001b[0m\n",
      "\u001b[0;32m/tmp/ipykernel_33240/2454075780.py\u001b[0m in \u001b[0;36mevaluate_strategy\u001b[0;34m(data, fast_period, slow_period, fast_p_exit, slow_p_exit, stop_loss_percentage)\u001b[0m\n\u001b[1;32m     34\u001b[0m                     \u001b[0mno_of_shares\u001b[0m \u001b[0;34m=\u001b[0m \u001b[0mallocated_funds\u001b[0m\u001b[0;34m//\u001b[0m\u001b[0mentry_price\u001b[0m\u001b[0;34m\u001b[0m\u001b[0;34m\u001b[0m\u001b[0m\n\u001b[1;32m     35\u001b[0m \u001b[0;34m\u001b[0m\u001b[0m\n\u001b[0;32m---> 36\u001b[0;31m             \u001b[0;32melif\u001b[0m \u001b[0mposition\u001b[0m \u001b[0;34m==\u001b[0m \u001b[0;36m1\u001b[0m \u001b[0;32mand\u001b[0m \u001b[0mdata\u001b[0m\u001b[0;34m[\u001b[0m\u001b[0;34m'MACD'\u001b[0m\u001b[0;34m]\u001b[0m\u001b[0;34m[\u001b[0m\u001b[0mi\u001b[0m\u001b[0;34m]\u001b[0m \u001b[0;34m<\u001b[0m \u001b[0mdata\u001b[0m\u001b[0;34m[\u001b[0m\u001b[0;34m'Signal'\u001b[0m\u001b[0;34m]\u001b[0m\u001b[0;34m[\u001b[0m\u001b[0mi\u001b[0m\u001b[0;34m]\u001b[0m\u001b[0;34m:\u001b[0m\u001b[0;34m\u001b[0m\u001b[0;34m\u001b[0m\u001b[0m\n\u001b[0m\u001b[1;32m     37\u001b[0m \u001b[0;34m\u001b[0m\u001b[0m\n\u001b[1;32m     38\u001b[0m                 \u001b[0;32mif\u001b[0m \u001b[0mdata\u001b[0m\u001b[0;34m[\u001b[0m\u001b[0;34m'Close'\u001b[0m\u001b[0;34m]\u001b[0m\u001b[0;34m[\u001b[0m\u001b[0mi\u001b[0m\u001b[0;34m]\u001b[0m \u001b[0;34m>\u001b[0m \u001b[0mentry_price\u001b[0m\u001b[0;34m:\u001b[0m  \u001b[0;31m# Adjust stop loss only when the price goes up\u001b[0m\u001b[0;34m\u001b[0m\u001b[0;34m\u001b[0m\u001b[0m\n",
      "\u001b[0;32m~/.local/lib/python3.10/site-packages/pandas/core/series.py\u001b[0m in \u001b[0;36m__getitem__\u001b[0;34m(self, key)\u001b[0m\n\u001b[1;32m   1033\u001b[0m                 \u001b[0;34m\"a value by position, use `ser.iloc[pos]`\"\u001b[0m\u001b[0;34m,\u001b[0m\u001b[0;34m\u001b[0m\u001b[0;34m\u001b[0m\u001b[0m\n\u001b[1;32m   1034\u001b[0m                 \u001b[0mFutureWarning\u001b[0m\u001b[0;34m,\u001b[0m\u001b[0;34m\u001b[0m\u001b[0;34m\u001b[0m\u001b[0m\n\u001b[0;32m-> 1035\u001b[0;31m                 \u001b[0mstacklevel\u001b[0m\u001b[0;34m=\u001b[0m\u001b[0mfind_stack_level\u001b[0m\u001b[0;34m(\u001b[0m\u001b[0;34m)\u001b[0m\u001b[0;34m,\u001b[0m\u001b[0;34m\u001b[0m\u001b[0;34m\u001b[0m\u001b[0m\n\u001b[0m\u001b[1;32m   1036\u001b[0m             )\n\u001b[1;32m   1037\u001b[0m             \u001b[0;32mreturn\u001b[0m \u001b[0mself\u001b[0m\u001b[0;34m.\u001b[0m\u001b[0m_values\u001b[0m\u001b[0;34m[\u001b[0m\u001b[0mkey\u001b[0m\u001b[0;34m]\u001b[0m\u001b[0;34m\u001b[0m\u001b[0;34m\u001b[0m\u001b[0m\n",
      "\u001b[0;32m~/.local/lib/python3.10/site-packages/pandas/util/_exceptions.py\u001b[0m in \u001b[0;36mfind_stack_level\u001b[0;34m()\u001b[0m\n\u001b[1;32m     46\u001b[0m     \u001b[0mn\u001b[0m \u001b[0;34m=\u001b[0m \u001b[0;36m0\u001b[0m\u001b[0;34m\u001b[0m\u001b[0;34m\u001b[0m\u001b[0m\n\u001b[1;32m     47\u001b[0m     \u001b[0;32mwhile\u001b[0m \u001b[0mframe\u001b[0m\u001b[0;34m:\u001b[0m\u001b[0;34m\u001b[0m\u001b[0;34m\u001b[0m\u001b[0m\n\u001b[0;32m---> 48\u001b[0;31m         \u001b[0mfname\u001b[0m \u001b[0;34m=\u001b[0m \u001b[0minspect\u001b[0m\u001b[0;34m.\u001b[0m\u001b[0mgetfile\u001b[0m\u001b[0;34m(\u001b[0m\u001b[0mframe\u001b[0m\u001b[0;34m)\u001b[0m\u001b[0;34m\u001b[0m\u001b[0;34m\u001b[0m\u001b[0m\n\u001b[0m\u001b[1;32m     49\u001b[0m         \u001b[0;32mif\u001b[0m \u001b[0mfname\u001b[0m\u001b[0;34m.\u001b[0m\u001b[0mstartswith\u001b[0m\u001b[0;34m(\u001b[0m\u001b[0mpkg_dir\u001b[0m\u001b[0;34m)\u001b[0m \u001b[0;32mand\u001b[0m \u001b[0;32mnot\u001b[0m \u001b[0mfname\u001b[0m\u001b[0;34m.\u001b[0m\u001b[0mstartswith\u001b[0m\u001b[0;34m(\u001b[0m\u001b[0mtest_dir\u001b[0m\u001b[0;34m)\u001b[0m\u001b[0;34m:\u001b[0m\u001b[0;34m\u001b[0m\u001b[0;34m\u001b[0m\u001b[0m\n\u001b[1;32m     50\u001b[0m             \u001b[0mframe\u001b[0m \u001b[0;34m=\u001b[0m \u001b[0mframe\u001b[0m\u001b[0;34m.\u001b[0m\u001b[0mf_back\u001b[0m\u001b[0;34m\u001b[0m\u001b[0;34m\u001b[0m\u001b[0m\n",
      "\u001b[0;32m/usr/lib/python3.10/inspect.py\u001b[0m in \u001b[0;36mgetfile\u001b[0;34m(object)\u001b[0m\n\u001b[1;32m    791\u001b[0m     \u001b[0;32mif\u001b[0m \u001b[0mistraceback\u001b[0m\u001b[0;34m(\u001b[0m\u001b[0mobject\u001b[0m\u001b[0;34m)\u001b[0m\u001b[0;34m:\u001b[0m\u001b[0;34m\u001b[0m\u001b[0;34m\u001b[0m\u001b[0m\n\u001b[1;32m    792\u001b[0m         \u001b[0mobject\u001b[0m \u001b[0;34m=\u001b[0m \u001b[0mobject\u001b[0m\u001b[0;34m.\u001b[0m\u001b[0mtb_frame\u001b[0m\u001b[0;34m\u001b[0m\u001b[0;34m\u001b[0m\u001b[0m\n\u001b[0;32m--> 793\u001b[0;31m     \u001b[0;32mif\u001b[0m \u001b[0misframe\u001b[0m\u001b[0;34m(\u001b[0m\u001b[0mobject\u001b[0m\u001b[0;34m)\u001b[0m\u001b[0;34m:\u001b[0m\u001b[0;34m\u001b[0m\u001b[0;34m\u001b[0m\u001b[0m\n\u001b[0m\u001b[1;32m    794\u001b[0m         \u001b[0mobject\u001b[0m \u001b[0;34m=\u001b[0m \u001b[0mobject\u001b[0m\u001b[0;34m.\u001b[0m\u001b[0mf_code\u001b[0m\u001b[0;34m\u001b[0m\u001b[0;34m\u001b[0m\u001b[0m\n\u001b[1;32m    795\u001b[0m     \u001b[0;32mif\u001b[0m \u001b[0miscode\u001b[0m\u001b[0;34m(\u001b[0m\u001b[0mobject\u001b[0m\u001b[0;34m)\u001b[0m\u001b[0;34m:\u001b[0m\u001b[0;34m\u001b[0m\u001b[0;34m\u001b[0m\u001b[0m\n",
      "\u001b[0;32m/usr/lib/python3.10/inspect.py\u001b[0m in \u001b[0;36misframe\u001b[0;34m(object)\u001b[0m\n\u001b[1;32m    363\u001b[0m     \u001b[0;32mreturn\u001b[0m \u001b[0misinstance\u001b[0m\u001b[0;34m(\u001b[0m\u001b[0mobject\u001b[0m\u001b[0;34m,\u001b[0m \u001b[0mtypes\u001b[0m\u001b[0;34m.\u001b[0m\u001b[0mTracebackType\u001b[0m\u001b[0;34m)\u001b[0m\u001b[0;34m\u001b[0m\u001b[0;34m\u001b[0m\u001b[0m\n\u001b[1;32m    364\u001b[0m \u001b[0;34m\u001b[0m\u001b[0m\n\u001b[0;32m--> 365\u001b[0;31m \u001b[0;32mdef\u001b[0m \u001b[0misframe\u001b[0m\u001b[0;34m(\u001b[0m\u001b[0mobject\u001b[0m\u001b[0;34m)\u001b[0m\u001b[0;34m:\u001b[0m\u001b[0;34m\u001b[0m\u001b[0;34m\u001b[0m\u001b[0m\n\u001b[0m\u001b[1;32m    366\u001b[0m     \"\"\"Return true if the object is a frame object.\n\u001b[1;32m    367\u001b[0m \u001b[0;34m\u001b[0m\u001b[0m\n",
      "\u001b[0;31mKeyboardInterrupt\u001b[0m: "
     ]
    }
   ],
   "source": [
    "tickers = ['ITC.NS', 'SBIN.NS', 'BPCL.NS', 'IGL.NS']  # Replace with your desired symbols\n",
    "all_metrics = trade_symbols(tickers)\n",
    "\n",
    "# Print metrics for all symbols\n",
    "for symbol, metrics in all_metrics.items():\n",
    "    print(f\"Metrics for symbol {symbol}:\")\n",
    "    print(metrics)"
   ]
  },
  {
   "cell_type": "code",
   "execution_count": 38,
   "id": "660cb471",
   "metadata": {},
   "outputs": [
    {
     "data": {
      "text/plain": [
       "{'ITC.NS': {'Best Parameters': [2, 7, 4, 13, -0.9930604812498026],\n",
       "  'Best Fitness Score': 2373.946841134861},\n",
       " 'SBIN.NS': {'Best Parameters': [2, 18, 3, 3, 3],\n",
       "  'Best Fitness Score': 15389.458419799805},\n",
       " 'BPCL.NS': {'Best Parameters': [10, 20, 8, 10, -0.8565579477209035],\n",
       "  'Best Fitness Score': 15380.65718669643},\n",
       " 'IGL.NS': {'Best Parameters': [4, 12, 8, 19, -0.9930604812498026],\n",
       "  'Best Fitness Score': 2972.4693412705237}}"
      ]
     },
     "execution_count": 38,
     "metadata": {},
     "output_type": "execute_result"
    }
   ],
   "source": []
  },
  {
   "cell_type": "code",
   "execution_count": null,
   "id": "469f93f5",
   "metadata": {},
   "outputs": [],
   "source": []
  },
  {
   "cell_type": "code",
   "execution_count": 45,
   "id": "bf9b4888",
   "metadata": {
    "scrolled": true
   },
   "outputs": [
    {
     "name": "stdout",
     "output_type": "stream",
     "text": [
      "[*********************100%%**********************]  1 of 1 completed\n",
      "ITC.NS\n",
      "Out-of-sample profit: [7039.495456257797, 24, 21, 21, 0.875, 152006.12038209898]\n",
      "[*********************100%%**********************]  1 of 1 completed\n",
      "SBIN.NS\n",
      "Out-of-sample profit: [1091.9952392578125, 6, 3, 3, 0.5, 112876.18568481445]\n",
      "[*********************100%%**********************]  1 of 1 completed\n",
      "BPCL.NS\n",
      "Out-of-sample profit: [29260.0, 9, 5, 5, 0.5555555555555556, 135599.06941143124]\n",
      "[*********************100%%**********************]  1 of 1 completed\n",
      "IGL.NS\n",
      "Out-of-sample profit: [194.9981689453125, 18, 11, 11, 0.6111111111111112, 122716.7092958308]\n"
     ]
    }
   ],
   "source": [
    "\n",
    "# Print metrics for all symbols\n",
    "for symbol, metrics in all_metrics.items():\n",
    "\n",
    "\n",
    "    best_parameters = metrics['Best Parameters']# dlf 1year\n",
    "\n",
    "    test_data = yf.download(symbol,start='2023-01-01',end='2024-01-08')\n",
    "\n",
    "    # Apply the strategy on out-of-sample data using the best parameters\n",
    "    out_of_sample_profit = evaluate_strategy(test_data.copy(), *best_parameters)\n",
    "\n",
    "\n",
    "    # Print or analyze the performance metrics\n",
    "    print(symbol)\n",
    "    print(\"Out-of-sample profit:\", out_of_sample_profit)"
   ]
  },
  {
   "cell_type": "code",
   "execution_count": 1,
   "id": "0b028df0",
   "metadata": {},
   "outputs": [
    {
     "data": {
      "text/plain": [
       "0.22151898734177214"
      ]
     },
     "execution_count": 1,
     "metadata": {},
     "output_type": "execute_result"
    }
   ],
   "source": [
    "140/632"
   ]
  },
  {
   "cell_type": "code",
   "execution_count": null,
   "id": "7c08025a",
   "metadata": {},
   "outputs": [],
   "source": []
  },
  {
   "cell_type": "code",
   "execution_count": null,
   "id": "8ea64ec0",
   "metadata": {},
   "outputs": [],
   "source": []
  },
  {
   "cell_type": "code",
   "execution_count": null,
   "id": "2914bca2",
   "metadata": {},
   "outputs": [],
   "source": []
  },
  {
   "cell_type": "code",
   "execution_count": null,
   "id": "ec890a43",
   "metadata": {},
   "outputs": [],
   "source": []
  }
 ],
 "metadata": {
  "kernelspec": {
   "display_name": "Python 3 (ipykernel)",
   "language": "python",
   "name": "python3"
  },
  "language_info": {
   "codemirror_mode": {
    "name": "ipython",
    "version": 3
   },
   "file_extension": ".py",
   "mimetype": "text/x-python",
   "name": "python",
   "nbconvert_exporter": "python",
   "pygments_lexer": "ipython3",
   "version": "3.10.12"
  }
 },
 "nbformat": 4,
 "nbformat_minor": 5
}
