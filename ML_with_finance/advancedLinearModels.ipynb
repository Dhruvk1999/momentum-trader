{
 "cells": [
  {
   "cell_type": "code",
   "execution_count": 56,
   "id": "80b3e61b",
   "metadata": {},
   "outputs": [],
   "source": [
    "# data preparation\n",
    "# setting the target variable\n",
    "\n",
    "import yfinance as yf\n",
    "import pandas as pd\n",
    "import numpy as np\n",
    "from talib import abstract\n",
    "\n",
    "def add_bollinger_band_features(data):\n",
    "    # Calculate Bollinger Bands\n",
    "    upper_band, middle_band, lower_band = abstract.BBANDS(data['Close'])\n",
    "\n",
    "    # Calculate deviation from the middle band\n",
    "    data['BB_Deviation'] = (data['Close'] - middle_band) / middle_band\n",
    "\n",
    "    # Create binary indicator for inside/outside bands\n",
    "    data['Inside_BB'] = np.where((data['Close'] >= lower_band) & (data['Close'] <= upper_band), 1, 0)\n",
    "\n",
    "    # Calculate distance from the nearest band\n",
    "    data['Distance_from_Lower'] = (data['Close'] - lower_band) / middle_band\n",
    "    data['Distance_from_Upper'] = (data['Close'] - upper_band) / middle_band\n",
    "\n",
    "    return data\n",
    "\n",
    "\n",
    "def add_alpha_factors(data):\n",
    "    # Calculate Moving Averages\n",
    "    data['SMA_10'] = abstract.SMA(data.Close, timeperiod=10)\n",
    "    data['SMA_50'] = abstract.SMA(data.Close, timeperiod=50)\n",
    "\n",
    "    # Calculate RSI\n",
    "    data['RSI'] = abstract.RSI(data.Close)\n",
    "\n",
    "    # Calculate MACD\n",
    "    data['MACD'], _, _ = abstract.MACD(data.Close)\n",
    "\n",
    "    # Calculate Bollinger Bands\n",
    "    upper_band, middle_band, lower_band = abstract.BBANDS(data.Close)\n",
    "    data['Upper_Band'] = upper_band\n",
    "    data['Middle_Band'] = middle_band\n",
    "    data['Lower_Band'] = lower_band\n",
    "\n",
    "    # Calculate ATR\n",
    "    data['ATR'] = abstract.ATR(data.High,data.Low,data.Close)\n",
    "\n",
    "    # Calculate OBV\n",
    "    data['OBV'] = abstract.OBV(data.Close,data.Volume)\n",
    "\n",
    "    # Calculate VWAP\n",
    "    #data['VWAP'] = abstract.VWAP(data)\n",
    "\n",
    "    # Calculate custom indicator (e.g., SMA cross)\n",
    "    data['SMA_Cross'] = np.where(data['SMA_10'] > data['SMA_50'], 1, 0)\n",
    "    \n",
    "    # Calculate the Volume spike detector\n",
    "    data['10_day_avg_volume'] = data['Volume'].rolling(window=10).mean()\n",
    "    data['Volume_Spike'] = (data['Volume'] > 2*data[\"10_day_avg_volume\"]).astype(int)\n",
    "    \n",
    "    # Calculate the percentage of average volume\n",
    "    data[\"VolumeRatio\"]  = data[\"Volume\"]/data[\"10_day_avg_volume\"]\n",
    "    \n",
    "    data['Bullish_Engulfing'] = talib.CDLENGULFING(data['Open'], data['High'], data['Low'], data['Close'])\n",
    "    data['Bearish_Engulfing'] = talib.CDLENGULFING(data['Open'], data['High'], data['Low'], data['Close'])\n",
    "    \n",
    "    # Stoch RSI - parameters have to be tuned\n",
    "    slowk, slowd = talib.STOCH(data.High, data.Low, data.Close, fastk_period=5, slowk_period=3, slowk_matype=0, slowd_period=3, slowd_matype=0)\n",
    "    data[\"slowk\"]= slowk\n",
    "    data[\"slowd\"]=slowd\n",
    "    # ... Add more alpha factors here ...\n",
    "    data = add_bollinger_band_features(data)\n",
    "\n",
    "    return data\n",
    "\n",
    "\n",
    "# setting the target variables\n",
    "\n",
    "def forward_returns(no_of_days, data):\n",
    "    data['Forward_Returns'] = data['Close'].shift(no_of_days) / data['Close'] - 1\n",
    "    return data\n",
    "\n",
    "def binary_target_with_percentage(no_of_days, data, percentage_threshold):\n",
    "    data = forward_returns(no_of_days, data)  # Calculate forward returns\n",
    "\n",
    "    # Create binary target variable: 1 for returns exceeding percentage threshold, 0 otherwise\n",
    "    data['Binary_Target_Percentage'] = data['Forward_Returns'].apply(lambda x: 1 if x > percentage_threshold else 0)\n",
    "    return data\n",
    "\n",
    "# Example function to create volatility-based target variable\n",
    "def volatility_based_target(no_of_days, data):\n",
    "    data = forward_returns(no_of_days, data)  # Calculate forward returns\n",
    "\n",
    "    # Calculate standard deviation of returns for the specified number of days\n",
    "    data['Volatility'] = data['Close'].pct_change().rolling(window=no_of_days).std()\n",
    "\n",
    "    # Create binary target variable: 1 for returns exceeding volatility threshold, 0 otherwise\n",
    "    volatility_threshold = 2.0  # Example threshold for high volatility\n",
    "    data['Volatility_Based_Target'] = data['Forward_Returns'].apply(lambda x: 1 if abs(x) > volatility_threshold * data['Volatility'].iloc[-1] else 0)\n",
    "    return data"
   ]
  },
  {
   "cell_type": "code",
   "execution_count": 57,
   "id": "967d33ec",
   "metadata": {},
   "outputs": [],
   "source": [
    "from load_data import get_individual_data\n",
    "from sklearn.model_selection import train_test_split\n",
    "from sklearn.linear_model import LinearRegression, LogisticRegression\n",
    "from sklearn.metrics import mean_squared_error, accuracy_score, classification_report, roc_auc_score, precision_score\n",
    "import yfinance as yf\n",
    "import datetime\n"
   ]
  },
  {
   "cell_type": "code",
   "execution_count": null,
   "id": "3cda441e",
   "metadata": {},
   "outputs": [],
   "source": []
  },
  {
   "cell_type": "code",
   "execution_count": null,
   "id": "826d8aa3",
   "metadata": {},
   "outputs": [],
   "source": []
  },
  {
   "cell_type": "code",
   "execution_count": 58,
   "id": "cf9f8564",
   "metadata": {},
   "outputs": [
    {
     "data": {
      "text/plain": [
       "2147"
      ]
     },
     "execution_count": 58,
     "metadata": {},
     "output_type": "execute_result"
    }
   ],
   "source": [
    "len(sdata)"
   ]
  },
  {
   "cell_type": "code",
   "execution_count": 115,
   "id": "6b24e475",
   "metadata": {},
   "outputs": [
    {
     "name": "stdout",
     "output_type": "stream",
     "text": [
      "[*********************100%***********************]  1 of 1 completed\n",
      "0.8785714285714286\n",
      "0.7976190476190477\n"
     ]
    }
   ],
   "source": [
    "ticker = \"aegischem\" + \".NS\"  # Replace with the desired stock ticker\n",
    "start_date = '2015-01-01'\n",
    "end_date = datetime.date.today()\n",
    "stock_data = yf.download(ticker, start=start_date, end=end_date)\n",
    "\n",
    "# Add alpha factors to the stock data\n",
    "stock_data_with_alpha = add_alpha_factors(stock_data)\n",
    "\n",
    "# Display the updated stock data\n",
    "data = stock_data_with_alpha\n",
    "\n",
    "# creating the target variable\n",
    "data = forward_returns(10,data)\n",
    "data = binary_target_with_percentage(10,data,0.05)\n",
    "\n",
    "\n",
    "# making th price stationary\n",
    "data = data.dropna()\n",
    "SClose = np.diff(data[\"Close\"])\n",
    "data = data[1:]\n",
    "data[\"SClose\"] = SClose \n",
    "\n",
    "# training the model\n",
    "\n",
    "\n",
    "# Features (alpha factors)\n",
    "#features = ['Alpha_Factor_1', 'Alpha_Factor_2', ...]  # Replace with actual alpha factor columns\n",
    "\n",
    "# Target variables\n",
    "target_forward_returns = 'Forward_Returns'\n",
    "target_binary = 'Binary_Target_Percentage'\n",
    "\n",
    "# Split the data into training and testing sets\n",
    "X_train, X_test, y_train_forward, y_test_forward, y_train_binary, y_test_binary = train_test_split(\n",
    "    data[['Close', 'Volume', 'SMA_10',\n",
    "       'SMA_50', 'RSI', 'MACD', 'Upper_Band', 'Middle_Band', 'Lower_Band',\n",
    "       'ATR', 'OBV', 'SMA_Cross', 'BB_Deviation', 'Inside_BB',\n",
    "       'Distance_from_Lower', 'Distance_from_Upper','Bullish_Engulfing','Bearish_Engulfing', 'slowk',\"slowd\",\n",
    "         'VolumeRatio','Volume_Spike']],\n",
    "    data[\"Forward_Returns\"],\n",
    "    data[\"Binary_Target_Percentage\"],\n",
    "    test_size=0.2,\n",
    "    random_state=42\n",
    ")\n",
    "\n",
    "# Train Linear Regression for Forward Returns\n",
    "linear_reg_model = LinearRegression()\n",
    "linear_reg_model.fit(X_train, y_train_forward)\n",
    "\n",
    "# Train Logistic Regression for Binary Classification\n",
    "#         logistic_reg_model = LogisticRegression()\n",
    "#        logistic_reg_model.fit(X_train, y_train_binary)\n",
    "\n",
    "# Make predictions\n",
    "y_pred_forward = linear_reg_model.predict(X_test)\n",
    "y_pred_binary = np.where(y_pred_forward > 0.05,1,0)\n",
    "\n",
    "# Evaluate Linear Regression\n",
    "mse = mean_squared_error(y_test_forward, y_pred_forward)\n",
    "rmse = mse ** 0.5\n",
    "r2 = linear_reg_model.score(X_test, y_test_forward)\n",
    "\n",
    "# Evaluate Logistic Regression\n",
    "accuracy = accuracy_score(y_test_binary, y_pred_binary)\n",
    "precision = precision_score(y_test_binary, y_pred_binary)\n",
    "#         roc_auc = roc_auc_score(y_test_binary, logistic_reg_model.predict_proba(X_test)[:, 1])  # For ROC-AUC\n",
    "\n",
    "print(accuracy)\n",
    "print(precision)"
   ]
  },
  {
   "cell_type": "code",
   "execution_count": 109,
   "id": "8aead295",
   "metadata": {},
   "outputs": [
    {
     "data": {
      "text/plain": [
       "84"
      ]
     },
     "execution_count": 109,
     "metadata": {},
     "output_type": "execute_result"
    }
   ],
   "source": [
    "len(y_pred_binary[y_pred_binary == 1]\n",
    ")"
   ]
  },
  {
   "cell_type": "code",
   "execution_count": null,
   "id": "88ea813a",
   "metadata": {},
   "outputs": [],
   "source": []
  }
 ],
 "metadata": {
  "kernelspec": {
   "display_name": "Python 3 (ipykernel)",
   "language": "python",
   "name": "python3"
  },
  "language_info": {
   "codemirror_mode": {
    "name": "ipython",
    "version": 3
   },
   "file_extension": ".py",
   "mimetype": "text/x-python",
   "name": "python",
   "nbconvert_exporter": "python",
   "pygments_lexer": "ipython3",
   "version": "3.10.12"
  }
 },
 "nbformat": 4,
 "nbformat_minor": 5
}
